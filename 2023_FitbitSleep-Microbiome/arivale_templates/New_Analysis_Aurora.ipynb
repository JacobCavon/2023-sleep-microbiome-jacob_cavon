{
 "cells": [
  {
   "cell_type": "markdown",
   "id": "fbf1f742-1f17-493d-947e-2c134d5ccef8",
   "metadata": {},
   "source": [
    "# Full Moderation/Mediation Analysis\n",
    "##### Including all metabolites and multiple forms of activity"
   ]
  },
  {
   "cell_type": "markdown",
   "id": "3bfabfd1-fb07-4b1c-8a0b-b70aac649d2f",
   "metadata": {
    "tags": []
   },
   "source": [
    "## Make Dataframes \n",
    "#### Saving one with the raw data for future demographics use, & saving one with log-transformed & standardized data"
   ]
  },
  {
   "cell_type": "code",
   "execution_count": 1,
   "id": "ac2323a9-8051-4cb2-baca-d8163f501efa",
   "metadata": {
    "tags": []
   },
   "outputs": [
    {
     "ename": "ModuleNotFoundError",
     "evalue": "No module named 'openpyxl'",
     "output_type": "error",
     "traceback": [
      "\u001b[0;31m---------------------------------------------------------------------------\u001b[0m",
      "\u001b[0;31mModuleNotFoundError\u001b[0m                       Traceback (most recent call last)",
      "Cell \u001b[0;32mIn[1], line 2\u001b[0m\n\u001b[1;32m      1\u001b[0m \u001b[38;5;28;01mimport\u001b[39;00m \u001b[38;5;21;01mwarnings\u001b[39;00m\n\u001b[0;32m----> 2\u001b[0m \u001b[38;5;28;01mfrom\u001b[39;00m \u001b[38;5;21;01mopenpyxl\u001b[39;00m \u001b[38;5;28;01mimport\u001b[39;00m Workbook\n\u001b[1;32m      3\u001b[0m \u001b[38;5;28;01mfrom\u001b[39;00m \u001b[38;5;21;01marivale_data_interface\u001b[39;00m \u001b[38;5;28;01mimport\u001b[39;00m get_snapshot\n\u001b[1;32m      4\u001b[0m \u001b[38;5;28;01mimport\u001b[39;00m \u001b[38;5;21;01mpandas\u001b[39;00m \u001b[38;5;28;01mas\u001b[39;00m \u001b[38;5;21;01mpd\u001b[39;00m \n",
      "\u001b[0;31mModuleNotFoundError\u001b[0m: No module named 'openpyxl'"
     ]
    }
   ],
   "source": [
    "import warnings\n",
    "from openpyxl import Workbook\n",
    "from arivale_data_interface import get_snapshot\n",
    "import pandas as pd \n",
    "warnings.simplefilter(\"ignore\")\n",
    "\n",
    "\n",
    "#begin dataframe, starting with activity\n",
    "activity = get_snapshot(\"wearables_monthly\") #use monthly\n",
    "active = activity[[\"public_client_id\", \"days_in_program\", \"days_since_first_draw\", \n",
    "                   \"activities_distance\", \"activities_minutesFairlyActive\", \"activities_minutesLightlyActive\",\n",
    "                  \"activities_minutesSedentary\", \"activities_minutesVeryActive\",\n",
    "                  \"heartrate_resting\", \"sleep_efficiency\"]] # includes mulitple forms of activity this time, if you change this, must change chemistry features\n",
    "#add in client info\n",
    "clients = get_snapshot(\"clients\")[[\"public_client_id\", \"sex\", \"age\", \"race\"]] # does earlier tasks in one step\n",
    "active = pd.merge(active, clients, on=\"public_client_id\", how=\"inner\") #merge based on client id\n",
    "#now education\n",
    "education = get_snapshot(\"assessments_education\")[[\"public_client_id\", \"assessment:education:education:int\"]]\n",
    "active = pd.merge(active, education, on=\"public_client_id\", how=\"left\")\n",
    "#BMI\n",
    "weights = get_snapshot(\"weight\")[[\"BMI_CALC\", \"public_client_id\", \"days_in_program\"]].dropna()\n",
    "active = pd.merge_asof(\n",
    "    active[active.public_client_id.isin(weights.public_client_id)].sort_values(by=\"days_in_program\"), \n",
    "    weights.sort_values(by=\"days_in_program\"), \n",
    "    by=\"public_client_id\", on=\"days_in_program\", direction=\"nearest\")\n",
    "#ancestry information\n",
    "ancestry = get_snapshot(\"genetics_ancestry\")[[\"public_client_id\", \"PC1\", \"PC2\", \"PC3\", \"PC4\", \"PC5\"]]\n",
    "active = pd.merge(active, ancestry, on = \"public_client_id\", how = \"inner\")\n",
    "#blood pressure\n",
    "bp_data = get_snapshot(\"blood_pressure\")[[\"public_client_id\", \"days_in_program\", \n",
    "                                          \"MEAN_ARTERIAL_BLOOD_PRESSURE\", \"PULSE_PRESSURE\",\n",
    "                                          \"diastolic\", \"systolic\"]].dropna()\n",
    "active = pd.merge_asof(\n",
    "    active[active.public_client_id.isin(bp_data.public_client_id)].sort_values(by=\"days_in_program\"), \n",
    "    bp_data.sort_values(by=\"days_in_program\"), \n",
    "    by=\"public_client_id\", on=\"days_in_program\", direction=\"nearest\")\n",
    "\n",
    "#now, add metabolites to a separate dataframe\n",
    "metabolites = get_snapshot(\"metabolomics_corrected\").sort_values(by=\"days_in_program\")\n",
    "active = active.sort_values(by=\"days_in_program\")\n",
    "metabolite_features = metabolites.columns[8:] # gives an index of just the column names\n",
    "metabolites.days_in_program = metabolites.days_in_program.astype(\"float64\") #so merging works\n",
    "#merge metabolite and activity data into one frame\n",
    "act_met_merged = pd.merge_asof(\n",
    "    active, metabolites, \n",
    "    by=\"public_client_id\", \n",
    "    on=\"days_in_program\", \n",
    "    direction=\"nearest\", \n",
    "    tolerance=30.0).dropna(subset=metabolite_features, how=\"all\") \n",
    "metabolite_features = metabolites.columns[metabolites.columns.isin(metabolite_features)]\n",
    "act_met_merged.sort_values(by = \"days_in_program\", inplace = True)\n",
    "#add chemistry data to its own df\n",
    "chemistry = get_snapshot(\"chemistries\").sort_values(by=\"days_in_program\")\n",
    "act_met_merged = act_met_merged.sort_values(by=\"days_in_program\")\n",
    "chemistry_features = chemistry.columns[12:] #index for chemistry values\n",
    "chemistry.days_in_program = chemistry.days_in_program.astype(\"float64\")\n",
    "#finally, merge chemistry and act/met data into one frame\n",
    "mac_raw = pd.merge_asof(\n",
    "    act_met_merged, chemistry, \n",
    "    by=\"public_client_id\", \n",
    "    on=\"days_in_program\", \n",
    "    direction=\"nearest\", \n",
    "    tolerance=30.0).dropna(subset=chemistry_features, how=\"all\") \n",
    "chemistry_features = chemistry.columns[chemistry.columns.isin(chemistry_features)]\n",
    "mac_raw.sort_values(by = \"days_in_program\", inplace = True)\n",
    "#mac_raw #named mac_raw because the data is not transformed yet"
   ]
  },
  {
   "cell_type": "code",
   "execution_count": 2,
   "id": "75c08e4b-0bce-4d8d-9c87-32fdbb5b76e6",
   "metadata": {
    "tags": []
   },
   "outputs": [],
   "source": [
    "# next, do the data cleaning that can come before log transforming & standardizing\n",
    "import numpy as np\n",
    "import scipy.stats.mstats\n",
    "\n",
    "# first need to preprocess data, remove metabolites that aren't in at least 75% of samples\n",
    "bad = mac_raw[metabolite_features].isnull().sum() / mac_raw.shape[0] > 0.25\n",
    "metabolite_features = bad[~bad].index \n",
    "mac_raw = mac_raw.drop(columns=bad[bad].index)\n",
    "# same with chemistries that aren't in at least 75% of samples\n",
    "bad_2 = mac_raw[chemistry_features].isnull().sum() / mac_raw.shape[0] > 0.25\n",
    "chemistry_features = bad_2[~bad_2].index \n",
    "mac_raw = mac_raw.drop(columns=bad_2[bad_2].index)\n",
    "# drop duplicates so that there is only one entry per client\n",
    "mac_raw.drop_duplicates(subset = 'public_client_id', keep = 'first', inplace = True)\n",
    "#mac_raw"
   ]
  },
  {
   "cell_type": "code",
   "execution_count": 3,
   "id": "176ff500-5cb3-49f9-afa1-436167e47eda",
   "metadata": {
    "tags": []
   },
   "outputs": [],
   "source": [
    "# fix the chemistry names\n",
    "mac_raw.rename(columns= {\"HOMA-IR\" : \"HOMA_IR\", \"LDL-CHOL CALCULATION\" : \"LDL_CHOL CALCULATION\", \n",
    "                            \"OMEGA-3 INDEX\" : \"OMEGA_3 INDEX\", \"OMEGA-6/OMEGA-3 RATIO\" : \"OMEGA_6/OMEGA_3 RATIO\",\n",
    "                            \"VITAMIN D, 25-OH TOT\" : \"VITAMIN D, 25_OH TOT\"},\n",
    "                 inplace = True)\n",
    "mac_raw.rename(columns= {'A/G RATIO' : 'A/G_RATIO', 'ADIPONECTIN, SERUM' : 'ADIPONECTIN_SERUM',\n",
    "                           'ALAT (SGPT)' : 'ALAT_SGPT', 'ALKALINE PHOSPHATE' : 'ALKALINE_PHOSPHATE',\n",
    "                           'ARACHIDONIC ACID' : 'ARACHIDONIC_ACID' , 'ASAT (SGOT)' : 'ASAT_SGOT',\n",
    "                           'BASOPHILS ABSOLUTE' : 'BASOPHILS_ABSOLUTE', 'BILIRUBIN, TOTAL' : 'BILI_TOT',\n",
    "                           'BUN/CREAT RATIO' : 'BUN/CREAT_RATIO', 'CARBON DIOXIDE (CO2)' : 'CARBON_DIOXIDE',\n",
    "                           'CHOLESTEROL, TOTAL' : 'CHOLESTEROL_TOTAL', 'CREATININE ENZ, SER' : 'CREATININE_ENZ_SER',\n",
    "                           'CRP HIGH SENSITIVITY' : 'CRP_HIGH_SENSITIVITY', 'EOSINOPHILS ABSOLUTE' : 'EOSINOPHILS_ABSOLUTE',\n",
    "                           'GFR, MDRD' : 'GFR_MDRD', 'GFR, MDRD, AFRICAN AM' : 'GFR_MDRD_AFRICAN_AM', 'GLYCOHEMOGLOBIN A1C' : 'GLYCOHEMOGLOBIN_A1C',\n",
    "                           'HDL CHOL DIRECT' : 'HDL_CHOL_DIRECT', 'HDL PARTICLE NUMBER' : 'HDL_PARTICLE_NUMBER',\n",
    "                           'HOMOCYSTEINE, SERUM' : 'HOMOCYSTEINE_SERUM', 'IMMATURE GRANULOCYTES' : 'IMMATURE_GRANULOCYTES',\n",
    "                           'IMMATURE GRANULOCYTES ABSOLUTE' : 'IMMATURE_GRANULOCYTES_ABSOLUTE', 'LDL PARTICLE NUMBER' : 'LDL_PARTICLE_NUMBER',\n",
    "                           'LDL SMALL' : 'LDL_SMALL', 'LDL_CHOL CALCULATION' : 'LDL_CHOL_CALCULATION', 'LYMPHOCYTES ABSOLUTE' : 'LYMPHOCYTES_ABSOLUTE',\n",
    "                           'MERCURY, BLOOD' : 'MERCURY_BLOOD', 'METHYLMALONIC ACID' : 'METHYLMALONIC_ACID', 'MONOCYTES ABSOLUTE' : 'MONOCYTES_ABSOLUTE',\n",
    "                           'OMEGA_3 INDEX' : 'OMEGA_3_INDEX', 'OMEGA_6/OMEGA_3 RATIO' : 'OMEGA_6/OMEGA_3_RATIO', 'PLATELET COUNT THOUSAND' : 'PLATELET_COUNT_THOUSAND',\n",
    "                           'PROTEIN, TOTAL SERUM' : 'PROTEIN_TOTAL_SERUM', 'RED CELL COUNT' : 'RED_CELL_COUNT', 'TOTAL NEUTROPHILS' : 'TOTAL_NEUTROPHILS',\n",
    "                           'TOTAL NEUTROPHILS AB' : 'TOTAL_NEUTROPHILS_AB', 'Triglyceride HDL Ratio' : 'TRIGLYCERIDE_HDL_RATIO',\n",
    "                           'UREA NITROGEN' : 'UREA_NITROGEN', 'URIC ACID' : 'URIC_ACID', 'VITAMIN D, 25_OH TOT' : 'VIT_D_25_OH_TOT',\n",
    "                           'WHITE CELL COUNT' : 'WHITE_CELL_COUNT'},\n",
    "                 inplace = True)\n",
    "mac_raw.rename(columns= {'A/G_RATIO' : 'A_G_RATIO', 'ALKALINE PHOSPHATASE' : 'ALKALINE_PHOSPHATASE',\n",
    "                            'BUN/CREAT_RATIO' : 'BUN_CREAT_RATIO', 'OMEGA_6/OMEGA_3_RATIO' : 'OMEGA6_OMEGA3_RATIO'},\n",
    "                  inplace = True)\n",
    "mac_raw.drop(columns=['BASOPHILS', 'BASOPHILS_ABSOLUTE', 'EOSINOPHILS', 'EOSINOPHILS_ABSOLUTE',\n",
    "                         'MERCURY_BLOOD', 'IMMATURE_GRANULOCYTES_ABSOLUTE', 'IMMATURE_GRANULOCYTES',\n",
    "                         'EPA'], inplace = True)"
   ]
  },
  {
   "cell_type": "code",
   "execution_count": 4,
   "id": "942e9049-4be7-4e30-98cf-65a7b0bf8ea8",
   "metadata": {
    "tags": []
   },
   "outputs": [],
   "source": [
    "chemistry_features = mac_raw.columns[941:] # this number may change if new activites or other columns are added in/taken out\n",
    "#chemistry_features"
   ]
  },
  {
   "cell_type": "code",
   "execution_count": 5,
   "id": "9d4e8a54-8549-43ff-982d-fdd2252855c7",
   "metadata": {
    "tags": []
   },
   "outputs": [
    {
     "data": {
      "text/html": [
       "<div>\n",
       "<style scoped>\n",
       "    .dataframe tbody tr th:only-of-type {\n",
       "        vertical-align: middle;\n",
       "    }\n",
       "\n",
       "    .dataframe tbody tr th {\n",
       "        vertical-align: top;\n",
       "    }\n",
       "\n",
       "    .dataframe thead th {\n",
       "        text-align: right;\n",
       "    }\n",
       "</style>\n",
       "<table border=\"1\" class=\"dataframe\">\n",
       "  <thead>\n",
       "    <tr style=\"text-align: right;\">\n",
       "      <th></th>\n",
       "      <th>public_client_id</th>\n",
       "      <th>days_in_program</th>\n",
       "      <th>days_since_first_draw_x</th>\n",
       "      <th>activities_distance</th>\n",
       "      <th>activities_minutesFairlyActive</th>\n",
       "      <th>activities_minutesLightlyActive</th>\n",
       "      <th>activities_minutesSedentary</th>\n",
       "      <th>activities_minutesVeryActive</th>\n",
       "      <th>heartrate_resting</th>\n",
       "      <th>sleep_efficiency</th>\n",
       "      <th>...</th>\n",
       "      <th>RED_CELL_COUNT</th>\n",
       "      <th>SODIUM</th>\n",
       "      <th>TOTAL_NEUTROPHILS</th>\n",
       "      <th>TOTAL_NEUTROPHILS_AB</th>\n",
       "      <th>TRIGLYCERIDES</th>\n",
       "      <th>TRIGLYCERIDE_HDL_RATIO</th>\n",
       "      <th>UREA_NITROGEN</th>\n",
       "      <th>URIC_ACID</th>\n",
       "      <th>VIT_D_25_OH_TOT</th>\n",
       "      <th>WHITE_CELL_COUNT</th>\n",
       "    </tr>\n",
       "  </thead>\n",
       "  <tbody>\n",
       "    <tr>\n",
       "      <th>0</th>\n",
       "      <td>01158621</td>\n",
       "      <td>-29.0</td>\n",
       "      <td>-30.0</td>\n",
       "      <td>3.135200</td>\n",
       "      <td>37.400000</td>\n",
       "      <td>156.440000</td>\n",
       "      <td>941.040000</td>\n",
       "      <td>12.000000</td>\n",
       "      <td>NaN</td>\n",
       "      <td>92.800000</td>\n",
       "      <td>...</td>\n",
       "      <td>1.047910</td>\n",
       "      <td>1.328344</td>\n",
       "      <td>0.820022</td>\n",
       "      <td>1.378087</td>\n",
       "      <td>-1.264120</td>\n",
       "      <td>-0.383763</td>\n",
       "      <td>0.425495</td>\n",
       "      <td>1.102395</td>\n",
       "      <td>-4.109235</td>\n",
       "      <td>1.364113</td>\n",
       "    </tr>\n",
       "    <tr>\n",
       "      <th>1</th>\n",
       "      <td>01902561</td>\n",
       "      <td>-28.0</td>\n",
       "      <td>-30.0</td>\n",
       "      <td>4.237586</td>\n",
       "      <td>16.000000</td>\n",
       "      <td>260.724138</td>\n",
       "      <td>703.551724</td>\n",
       "      <td>6.448276</td>\n",
       "      <td>62.965517</td>\n",
       "      <td>95.321429</td>\n",
       "      <td>...</td>\n",
       "      <td>0.721279</td>\n",
       "      <td>0.874160</td>\n",
       "      <td>-1.070264</td>\n",
       "      <td>-0.873164</td>\n",
       "      <td>-0.056226</td>\n",
       "      <td>-0.161282</td>\n",
       "      <td>0.662078</td>\n",
       "      <td>0.619610</td>\n",
       "      <td>-4.815407</td>\n",
       "      <td>-0.355066</td>\n",
       "    </tr>\n",
       "    <tr>\n",
       "      <th>2</th>\n",
       "      <td>01821552</td>\n",
       "      <td>-27.0</td>\n",
       "      <td>-30.0</td>\n",
       "      <td>3.283871</td>\n",
       "      <td>7.096774</td>\n",
       "      <td>218.806452</td>\n",
       "      <td>740.806452</td>\n",
       "      <td>22.354839</td>\n",
       "      <td>NaN</td>\n",
       "      <td>95.500000</td>\n",
       "      <td>...</td>\n",
       "      <td>-0.321276</td>\n",
       "      <td>-0.507835</td>\n",
       "      <td>-0.571219</td>\n",
       "      <td>-0.419871</td>\n",
       "      <td>0.705014</td>\n",
       "      <td>0.181459</td>\n",
       "      <td>-1.060844</td>\n",
       "      <td>0.353903</td>\n",
       "      <td>0.649371</td>\n",
       "      <td>-0.280640</td>\n",
       "    </tr>\n",
       "    <tr>\n",
       "      <th>3</th>\n",
       "      <td>01285674</td>\n",
       "      <td>-26.0</td>\n",
       "      <td>-28.0</td>\n",
       "      <td>3.830000</td>\n",
       "      <td>5.500000</td>\n",
       "      <td>169.000000</td>\n",
       "      <td>1249.000000</td>\n",
       "      <td>16.500000</td>\n",
       "      <td>78.000000</td>\n",
       "      <td>NaN</td>\n",
       "      <td>...</td>\n",
       "      <td>-0.369989</td>\n",
       "      <td>-0.507835</td>\n",
       "      <td>-1.335612</td>\n",
       "      <td>-1.130343</td>\n",
       "      <td>-1.305653</td>\n",
       "      <td>-1.377679</td>\n",
       "      <td>0.172584</td>\n",
       "      <td>-0.081842</td>\n",
       "      <td>0.142965</td>\n",
       "      <td>-0.668446</td>\n",
       "    </tr>\n",
       "    <tr>\n",
       "      <th>4</th>\n",
       "      <td>01893068</td>\n",
       "      <td>-26.0</td>\n",
       "      <td>-30.0</td>\n",
       "      <td>3.055000</td>\n",
       "      <td>42.500000</td>\n",
       "      <td>268.500000</td>\n",
       "      <td>720.000000</td>\n",
       "      <td>37.500000</td>\n",
       "      <td>59.500000</td>\n",
       "      <td>90.500000</td>\n",
       "      <td>...</td>\n",
       "      <td>-0.152459</td>\n",
       "      <td>0.874160</td>\n",
       "      <td>-0.221516</td>\n",
       "      <td>-0.217854</td>\n",
       "      <td>-0.687495</td>\n",
       "      <td>-0.248253</td>\n",
       "      <td>-0.099079</td>\n",
       "      <td>-0.660231</td>\n",
       "      <td>-1.315732</td>\n",
       "      <td>-0.207659</td>\n",
       "    </tr>\n",
       "    <tr>\n",
       "      <th>...</th>\n",
       "      <td>...</td>\n",
       "      <td>...</td>\n",
       "      <td>...</td>\n",
       "      <td>...</td>\n",
       "      <td>...</td>\n",
       "      <td>...</td>\n",
       "      <td>...</td>\n",
       "      <td>...</td>\n",
       "      <td>...</td>\n",
       "      <td>...</td>\n",
       "      <td>...</td>\n",
       "      <td>...</td>\n",
       "      <td>...</td>\n",
       "      <td>...</td>\n",
       "      <td>...</td>\n",
       "      <td>...</td>\n",
       "      <td>...</td>\n",
       "      <td>...</td>\n",
       "      <td>...</td>\n",
       "      <td>...</td>\n",
       "      <td>...</td>\n",
       "    </tr>\n",
       "    <tr>\n",
       "      <th>5172</th>\n",
       "      <td>01673066</td>\n",
       "      <td>268.0</td>\n",
       "      <td>221.0</td>\n",
       "      <td>4.704737</td>\n",
       "      <td>14.526316</td>\n",
       "      <td>239.315789</td>\n",
       "      <td>846.421053</td>\n",
       "      <td>16.578947</td>\n",
       "      <td>61.888889</td>\n",
       "      <td>95.000000</td>\n",
       "      <td>...</td>\n",
       "      <td>-0.567033</td>\n",
       "      <td>-0.043884</td>\n",
       "      <td>0.820022</td>\n",
       "      <td>-0.029316</td>\n",
       "      <td>-0.104531</td>\n",
       "      <td>0.484472</td>\n",
       "      <td>-0.392496</td>\n",
       "      <td>-2.573437</td>\n",
       "      <td>0.213422</td>\n",
       "      <td>-0.508491</td>\n",
       "    </tr>\n",
       "    <tr>\n",
       "      <th>5262</th>\n",
       "      <td>01277016</td>\n",
       "      <td>302.0</td>\n",
       "      <td>276.0</td>\n",
       "      <td>2.814194</td>\n",
       "      <td>13.580645</td>\n",
       "      <td>197.838710</td>\n",
       "      <td>601.741935</td>\n",
       "      <td>15.129032</td>\n",
       "      <td>59.903226</td>\n",
       "      <td>95.433333</td>\n",
       "      <td>...</td>\n",
       "      <td>0.743359</td>\n",
       "      <td>0.874160</td>\n",
       "      <td>-0.335918</td>\n",
       "      <td>-0.637441</td>\n",
       "      <td>1.093099</td>\n",
       "      <td>0.803891</td>\n",
       "      <td>-0.711460</td>\n",
       "      <td>0.619610</td>\n",
       "      <td>0.010569</td>\n",
       "      <td>-0.668446</td>\n",
       "    </tr>\n",
       "    <tr>\n",
       "      <th>5276</th>\n",
       "      <td>01533942</td>\n",
       "      <td>309.0</td>\n",
       "      <td>238.0</td>\n",
       "      <td>6.661667</td>\n",
       "      <td>69.333333</td>\n",
       "      <td>132.833333</td>\n",
       "      <td>769.333333</td>\n",
       "      <td>134.000000</td>\n",
       "      <td>62.666667</td>\n",
       "      <td>91.750000</td>\n",
       "      <td>...</td>\n",
       "      <td>-0.894966</td>\n",
       "      <td>0.416766</td>\n",
       "      <td>0.109610</td>\n",
       "      <td>0.546264</td>\n",
       "      <td>-0.056226</td>\n",
       "      <td>0.155274</td>\n",
       "      <td>1.292041</td>\n",
       "      <td>0.928247</td>\n",
       "      <td>1.041576</td>\n",
       "      <td>0.688381</td>\n",
       "    </tr>\n",
       "    <tr>\n",
       "      <th>6079</th>\n",
       "      <td>01211854</td>\n",
       "      <td>436.0</td>\n",
       "      <td>408.0</td>\n",
       "      <td>5.370000</td>\n",
       "      <td>42.200000</td>\n",
       "      <td>124.133333</td>\n",
       "      <td>1166.533333</td>\n",
       "      <td>107.133333</td>\n",
       "      <td>57.172414</td>\n",
       "      <td>NaN</td>\n",
       "      <td>...</td>\n",
       "      <td>0.475421</td>\n",
       "      <td>2.672081</td>\n",
       "      <td>-5.934347</td>\n",
       "      <td>-0.122014</td>\n",
       "      <td>-1.305653</td>\n",
       "      <td>-0.642197</td>\n",
       "      <td>0.172584</td>\n",
       "      <td>0.554853</td>\n",
       "      <td>1.493267</td>\n",
       "      <td>3.321862</td>\n",
       "    </tr>\n",
       "    <tr>\n",
       "      <th>6080</th>\n",
       "      <td>01273646</td>\n",
       "      <td>438.0</td>\n",
       "      <td>324.0</td>\n",
       "      <td>3.568966</td>\n",
       "      <td>27.586207</td>\n",
       "      <td>204.517241</td>\n",
       "      <td>1188.172414</td>\n",
       "      <td>17.482759</td>\n",
       "      <td>68.655172</td>\n",
       "      <td>91.333333</td>\n",
       "      <td>...</td>\n",
       "      <td>1.260391</td>\n",
       "      <td>0.416766</td>\n",
       "      <td>0.001177</td>\n",
       "      <td>0.313775</td>\n",
       "      <td>-0.256088</td>\n",
       "      <td>0.307874</td>\n",
       "      <td>0.172584</td>\n",
       "      <td>0.422038</td>\n",
       "      <td>0.537157</td>\n",
       "      <td>0.453406</td>\n",
       "    </tr>\n",
       "  </tbody>\n",
       "</table>\n",
       "<p>1738 rows × 1004 columns</p>\n",
       "</div>"
      ],
      "text/plain": [
       "     public_client_id  days_in_program  days_since_first_draw_x  \\\n",
       "0            01158621            -29.0                    -30.0   \n",
       "1            01902561            -28.0                    -30.0   \n",
       "2            01821552            -27.0                    -30.0   \n",
       "3            01285674            -26.0                    -28.0   \n",
       "4            01893068            -26.0                    -30.0   \n",
       "...               ...              ...                      ...   \n",
       "5172         01673066            268.0                    221.0   \n",
       "5262         01277016            302.0                    276.0   \n",
       "5276         01533942            309.0                    238.0   \n",
       "6079         01211854            436.0                    408.0   \n",
       "6080         01273646            438.0                    324.0   \n",
       "\n",
       "      activities_distance  activities_minutesFairlyActive  \\\n",
       "0                3.135200                       37.400000   \n",
       "1                4.237586                       16.000000   \n",
       "2                3.283871                        7.096774   \n",
       "3                3.830000                        5.500000   \n",
       "4                3.055000                       42.500000   \n",
       "...                   ...                             ...   \n",
       "5172             4.704737                       14.526316   \n",
       "5262             2.814194                       13.580645   \n",
       "5276             6.661667                       69.333333   \n",
       "6079             5.370000                       42.200000   \n",
       "6080             3.568966                       27.586207   \n",
       "\n",
       "      activities_minutesLightlyActive  activities_minutesSedentary  \\\n",
       "0                          156.440000                   941.040000   \n",
       "1                          260.724138                   703.551724   \n",
       "2                          218.806452                   740.806452   \n",
       "3                          169.000000                  1249.000000   \n",
       "4                          268.500000                   720.000000   \n",
       "...                               ...                          ...   \n",
       "5172                       239.315789                   846.421053   \n",
       "5262                       197.838710                   601.741935   \n",
       "5276                       132.833333                   769.333333   \n",
       "6079                       124.133333                  1166.533333   \n",
       "6080                       204.517241                  1188.172414   \n",
       "\n",
       "      activities_minutesVeryActive  heartrate_resting  sleep_efficiency  ...  \\\n",
       "0                        12.000000                NaN         92.800000  ...   \n",
       "1                         6.448276          62.965517         95.321429  ...   \n",
       "2                        22.354839                NaN         95.500000  ...   \n",
       "3                        16.500000          78.000000               NaN  ...   \n",
       "4                        37.500000          59.500000         90.500000  ...   \n",
       "...                            ...                ...               ...  ...   \n",
       "5172                     16.578947          61.888889         95.000000  ...   \n",
       "5262                     15.129032          59.903226         95.433333  ...   \n",
       "5276                    134.000000          62.666667         91.750000  ...   \n",
       "6079                    107.133333          57.172414               NaN  ...   \n",
       "6080                     17.482759          68.655172         91.333333  ...   \n",
       "\n",
       "     RED_CELL_COUNT    SODIUM TOTAL_NEUTROPHILS TOTAL_NEUTROPHILS_AB  \\\n",
       "0          1.047910  1.328344          0.820022             1.378087   \n",
       "1          0.721279  0.874160         -1.070264            -0.873164   \n",
       "2         -0.321276 -0.507835         -0.571219            -0.419871   \n",
       "3         -0.369989 -0.507835         -1.335612            -1.130343   \n",
       "4         -0.152459  0.874160         -0.221516            -0.217854   \n",
       "...             ...       ...               ...                  ...   \n",
       "5172      -0.567033 -0.043884          0.820022            -0.029316   \n",
       "5262       0.743359  0.874160         -0.335918            -0.637441   \n",
       "5276      -0.894966  0.416766          0.109610             0.546264   \n",
       "6079       0.475421  2.672081         -5.934347            -0.122014   \n",
       "6080       1.260391  0.416766          0.001177             0.313775   \n",
       "\n",
       "      TRIGLYCERIDES  TRIGLYCERIDE_HDL_RATIO  UREA_NITROGEN  URIC_ACID  \\\n",
       "0         -1.264120               -0.383763       0.425495   1.102395   \n",
       "1         -0.056226               -0.161282       0.662078   0.619610   \n",
       "2          0.705014                0.181459      -1.060844   0.353903   \n",
       "3         -1.305653               -1.377679       0.172584  -0.081842   \n",
       "4         -0.687495               -0.248253      -0.099079  -0.660231   \n",
       "...             ...                     ...            ...        ...   \n",
       "5172      -0.104531                0.484472      -0.392496  -2.573437   \n",
       "5262       1.093099                0.803891      -0.711460   0.619610   \n",
       "5276      -0.056226                0.155274       1.292041   0.928247   \n",
       "6079      -1.305653               -0.642197       0.172584   0.554853   \n",
       "6080      -0.256088                0.307874       0.172584   0.422038   \n",
       "\n",
       "      VIT_D_25_OH_TOT  WHITE_CELL_COUNT  \n",
       "0           -4.109235          1.364113  \n",
       "1           -4.815407         -0.355066  \n",
       "2            0.649371         -0.280640  \n",
       "3            0.142965         -0.668446  \n",
       "4           -1.315732         -0.207659  \n",
       "...               ...               ...  \n",
       "5172         0.213422         -0.508491  \n",
       "5262         0.010569         -0.668446  \n",
       "5276         1.041576          0.688381  \n",
       "6079         1.493267          3.321862  \n",
       "6080         0.537157          0.453406  \n",
       "\n",
       "[1738 rows x 1004 columns]"
      ]
     },
     "execution_count": 5,
     "metadata": {},
     "output_type": "execute_result"
    }
   ],
   "source": [
    "# now to log-standardize and transform data! save as new dataframe\n",
    "# make a copy of dataframe to save as a new name\n",
    "mac_str = mac_raw.copy()\n",
    "# log-transform and standardize all metabolites\n",
    "mac_str[metabolite_features] = np.log(mac_str[metabolite_features])\n",
    "mac_str[metabolite_features] = mac_str[metabolite_features].apply(lambda x: (x - x.mean()) / x.std())\n",
    "\n",
    "# same as above, except log-transforming and standardizing chemistries\n",
    "mac_str[chemistry_features] = np.log(mac_str[chemistry_features])\n",
    "mac_str[chemistry_features] = mac_str[chemistry_features].apply(lambda x: (x - x.mean()) / x.std())\n",
    "\n",
    "# add in word \"metabolite\" so that regressions work\n",
    "mac_str.rename(columns=dict(zip(metabolite_features, \"metabolite_\" + metabolite_features)), inplace=True)\n",
    "metabolite_features = \"metabolite_\" + metabolite_features\n",
    "\n",
    "# drop duplicates so that there is only one entry per client\n",
    "mac_str.drop_duplicates(subset = 'public_client_id', keep = 'first', inplace = True)\n",
    "mac_str"
   ]
  },
  {
   "cell_type": "code",
   "execution_count": 6,
   "id": "af26ec91-6cf2-45fc-8b6d-f23093979828",
   "metadata": {},
   "outputs": [],
   "source": [
    "#save both dataframes to csv\n",
    "mac_raw.to_csv('mac_raw_df.csv', index = False)\n",
    "mac_str.to_csv('mac_str_df.csv', index = False)"
   ]
  },
  {
   "cell_type": "markdown",
   "id": "b9c85d05-58c7-45e1-9002-cc9deed684b9",
   "metadata": {},
   "source": [
    "## Regression Analyses"
   ]
  },
  {
   "cell_type": "markdown",
   "id": "e2b54f05-085c-4262-ae54-f0c2fe9bcdbb",
   "metadata": {
    "tags": []
   },
   "source": [
    "### Make Association Bins\n",
    "#### Genetic, Microbe, Hybrid \n",
    "##### Goal is to create them as \"features\" so they can be easily used in regressions"
   ]
  },
  {
   "cell_type": "code",
   "execution_count": 6,
   "id": "3191236f-b8e5-435d-a698-bea8816014c0",
   "metadata": {
    "tags": []
   },
   "outputs": [],
   "source": [
    "# create dataframes for the genetic and microbe metabolites\n",
    "genetic_assoc = pd.read_csv('genetic_associations.csv')\n",
    "microbe_assoc = pd.read_csv('sig_metabolite_taxon.csv')\n",
    "\n",
    "# drop the duplicate metabolites that are present in each dataframe\n",
    "genetic_assoc.drop_duplicates(subset=['metabolite_id'], inplace=True)\n",
    "microbe_assoc.drop_duplicates(subset=['metabolite'], inplace=True)\n",
    "\n",
    "# pivot tables to allow the metabolites to be \"columns\"\n",
    "genetic_assoc = genetic_assoc[['metabolite_id', 'rsid', 'p']].copy()\n",
    "genetic_assoc = genetic_assoc.pivot_table(index='rsid', columns='metabolite_id', values='p')\n",
    "microbe_assoc = microbe_assoc[['metabolite', 'r', 'p']].copy()\n",
    "microbe_assoc = microbe_assoc.pivot_table(index='r', columns='metabolite', values='p')\n",
    "\n",
    "# turn these column names in each dataframe into \"features\"\n",
    "genetic_features = genetic_assoc.columns[0:]\n",
    "genetic_features = mac_str.columns[mac_str.columns.isin(genetic_features)]\n",
    "microbe_features = microbe_assoc.columns[0:]\n",
    "microbe_features = mac_str.columns[mac_str.columns.isin(microbe_features)]\n",
    "\n",
    "# turn into list so I can run loop through them to sort into bins\n",
    "genetic_list = genetic_features.tolist()\n",
    "microbe_list = microbe_features.tolist()\n",
    "\n",
    "# see which metabolites are in both genetic and microbe\n",
    "hybrid = []\n",
    "for elem in genetic_list:\n",
    "    if elem in genetic_list and elem in microbe_list:\n",
    "        hybrid.append(elem)\n",
    "        \n",
    "# pull out only genetic and microbe only\n",
    "genetic_only = [i for i in genetic_list if i not in hybrid]\n",
    "microbe_only = [i for i in microbe_list if i not in hybrid]"
   ]
  },
  {
   "cell_type": "code",
   "execution_count": 12,
   "id": "bbe1b07d-3641-4439-aef1-f5c14c644d1f",
   "metadata": {
    "tags": []
   },
   "outputs": [],
   "source": [
    "#pwd"
   ]
  },
  {
   "cell_type": "code",
   "execution_count": 8,
   "id": "b755bafc-6ce7-4011-b802-8974746f9b43",
   "metadata": {},
   "outputs": [
    {
     "name": "stdout",
     "output_type": "stream",
     "text": [
      "332\n",
      "274\n",
      "155\n"
     ]
    }
   ],
   "source": [
    "# just checking for accuracy\n",
    "print(len(hybrid))\n",
    "print(len(genetic_only))\n",
    "print(len(microbe_only))"
   ]
  },
  {
   "cell_type": "code",
   "execution_count": 7,
   "id": "68d6b737-e3e5-43b5-986c-16691e646079",
   "metadata": {
    "tags": []
   },
   "outputs": [],
   "source": [
    "# now, need to turn these lists into index \"features\"\n",
    "gen_only_features = mac_str.columns[mac_str.columns.isin(genetic_only)]\n",
    "microbe_only_features = mac_str.columns[mac_str.columns.isin(microbe_only)]\n",
    "hybrid_features = mac_str.columns[mac_str.columns.isin(hybrid)]"
   ]
  },
  {
   "cell_type": "markdown",
   "id": "76091d8c-ce0c-4a7f-9550-4105033ce5c7",
   "metadata": {},
   "source": [
    "##### I now have three indexes, one for each association \"bin\" that I can use in my regressions: <br>gen_only_features, microbe_only_features, and hybrid_features. <br>Each only includes metabolites that are in that specific bin "
   ]
  },
  {
   "cell_type": "markdown",
   "id": "fbdd756c-2ef0-4ea9-867c-c444253e9b42",
   "metadata": {},
   "source": [
    "### Initial Regression\n",
    "#### What metabolites & chemistries are associated"
   ]
  },
  {
   "cell_type": "code",
   "execution_count": 8,
   "id": "b3c14472-64f6-440a-a753-3dc769436e81",
   "metadata": {
    "tags": []
   },
   "outputs": [],
   "source": [
    "from rich.progress import track\n",
    "\n",
    "from statsmodels.formula.api import ols\n",
    "from statsmodels.formula.api import glm\n",
    "import statsmodels.api as sm\n",
    "import statsmodels.genmod.families.links as links\n",
    "from statsmodels.stats.multitest import multipletests\n",
    "from statsmodels.stats.mediation import Mediation"
   ]
  },
  {
   "cell_type": "code",
   "execution_count": 9,
   "id": "b7f8033b-122a-43e4-b50d-a06aa5351c94",
   "metadata": {
    "tags": []
   },
   "outputs": [
    {
     "data": {
      "text/html": [
       "<div>\n",
       "<style scoped>\n",
       "    .dataframe tbody tr th:only-of-type {\n",
       "        vertical-align: middle;\n",
       "    }\n",
       "\n",
       "    .dataframe tbody tr th {\n",
       "        vertical-align: top;\n",
       "    }\n",
       "\n",
       "    .dataframe thead th {\n",
       "        text-align: right;\n",
       "    }\n",
       "</style>\n",
       "<table border=\"1\" class=\"dataframe\">\n",
       "  <thead>\n",
       "    <tr style=\"text-align: right;\">\n",
       "      <th></th>\n",
       "      <th>feature</th>\n",
       "      <th>SUB_PATHWAY</th>\n",
       "      <th>SUPER_PATHWAY</th>\n",
       "      <th>BIOCHEMICAL_NAME</th>\n",
       "    </tr>\n",
       "  </thead>\n",
       "  <tbody>\n",
       "    <tr>\n",
       "      <th>0</th>\n",
       "      <td>metabolite_35</td>\n",
       "      <td>Glutamate Metabolism</td>\n",
       "      <td>Amino Acid</td>\n",
       "      <td>S-1-pyrroline-5-carboxylate</td>\n",
       "    </tr>\n",
       "    <tr>\n",
       "      <th>1</th>\n",
       "      <td>metabolite_50</td>\n",
       "      <td>Polyamine Metabolism</td>\n",
       "      <td>Amino Acid</td>\n",
       "      <td>spermidine</td>\n",
       "    </tr>\n",
       "    <tr>\n",
       "      <th>2</th>\n",
       "      <td>metabolite_55</td>\n",
       "      <td>Nicotinate and Nicotinamide Metabolism</td>\n",
       "      <td>Cofactors and Vitamins</td>\n",
       "      <td>1-methylnicotinamide</td>\n",
       "    </tr>\n",
       "    <tr>\n",
       "      <th>3</th>\n",
       "      <td>metabolite_62</td>\n",
       "      <td>Fatty Acid, Dihydroxy</td>\n",
       "      <td>Lipid</td>\n",
       "      <td>12,13-DiHOME</td>\n",
       "    </tr>\n",
       "    <tr>\n",
       "      <th>4</th>\n",
       "      <td>metabolite_71</td>\n",
       "      <td>Tryptophan Metabolism</td>\n",
       "      <td>Amino Acid</td>\n",
       "      <td>5-hydroxyindoleacetate</td>\n",
       "    </tr>\n",
       "    <tr>\n",
       "      <th>...</th>\n",
       "      <td>...</td>\n",
       "      <td>...</td>\n",
       "      <td>...</td>\n",
       "      <td>...</td>\n",
       "    </tr>\n",
       "    <tr>\n",
       "      <th>1343</th>\n",
       "      <td>metabolite_999954834</td>\n",
       "      <td>NaN</td>\n",
       "      <td>NaN</td>\n",
       "      <td>X - 24806</td>\n",
       "    </tr>\n",
       "    <tr>\n",
       "      <th>1344</th>\n",
       "      <td>metabolite_999954839</td>\n",
       "      <td>NaN</td>\n",
       "      <td>NaN</td>\n",
       "      <td>X - 24811</td>\n",
       "    </tr>\n",
       "    <tr>\n",
       "      <th>1345</th>\n",
       "      <td>metabolite_999954840</td>\n",
       "      <td>NaN</td>\n",
       "      <td>NaN</td>\n",
       "      <td>X - 24812</td>\n",
       "    </tr>\n",
       "    <tr>\n",
       "      <th>1346</th>\n",
       "      <td>metabolite_100002397</td>\n",
       "      <td>NaN</td>\n",
       "      <td>NaN</td>\n",
       "      <td>alpha-ketoglutaramate*</td>\n",
       "    </tr>\n",
       "    <tr>\n",
       "      <th>1347</th>\n",
       "      <td>metabolite_100020578</td>\n",
       "      <td>NaN</td>\n",
       "      <td>NaN</td>\n",
       "      <td>4-allylcatechol sulfate</td>\n",
       "    </tr>\n",
       "  </tbody>\n",
       "</table>\n",
       "<p>1348 rows × 4 columns</p>\n",
       "</div>"
      ],
      "text/plain": [
       "                   feature                             SUB_PATHWAY  \\\n",
       "0            metabolite_35                    Glutamate Metabolism   \n",
       "1            metabolite_50                    Polyamine Metabolism   \n",
       "2            metabolite_55  Nicotinate and Nicotinamide Metabolism   \n",
       "3            metabolite_62                   Fatty Acid, Dihydroxy   \n",
       "4            metabolite_71                   Tryptophan Metabolism   \n",
       "...                    ...                                     ...   \n",
       "1343  metabolite_999954834                                     NaN   \n",
       "1344  metabolite_999954839                                     NaN   \n",
       "1345  metabolite_999954840                                     NaN   \n",
       "1346  metabolite_100002397                                     NaN   \n",
       "1347  metabolite_100020578                                     NaN   \n",
       "\n",
       "               SUPER_PATHWAY             BIOCHEMICAL_NAME  \n",
       "0                 Amino Acid  S-1-pyrroline-5-carboxylate  \n",
       "1                 Amino Acid                   spermidine  \n",
       "2     Cofactors and Vitamins         1-methylnicotinamide  \n",
       "3                      Lipid                 12,13-DiHOME  \n",
       "4                 Amino Acid       5-hydroxyindoleacetate  \n",
       "...                      ...                          ...  \n",
       "1343                     NaN                    X - 24806  \n",
       "1344                     NaN                    X - 24811  \n",
       "1345                     NaN                    X - 24812  \n",
       "1346                     NaN       alpha-ketoglutaramate*  \n",
       "1347                     NaN      4-allylcatechol sulfate  \n",
       "\n",
       "[1348 rows x 4 columns]"
      ]
     },
     "execution_count": 9,
     "metadata": {},
     "output_type": "execute_result"
    }
   ],
   "source": [
    "## uploading meta names so it can be added to data frames\n",
    "meta_names = get_snapshot(\"metabolomics_metadata\")\n",
    "meta_names.rename(columns={'CHEMICAL_ID': 'feature'}, inplace=True)\n",
    "meta_names.drop(meta_names.columns[[4,5,6,7,8,9,10,11,12,13,14,15,16]],axis = 1, inplace=True)\n",
    "meta_names['feature'] = 'metabolite_' + meta_names['feature'].astype(str)\n",
    "meta_names"
   ]
  },
  {
   "cell_type": "markdown",
   "id": "84d912f7-4dca-440d-abf4-aff0afe1a087",
   "metadata": {
    "tags": []
   },
   "source": [
    "##### HDL Cholesterol ~ metabolites + [covar]"
   ]
  },
  {
   "cell_type": "code",
   "execution_count": 10,
   "id": "1a7c2052-57b3-4623-bd56-3368826c7d99",
   "metadata": {
    "tags": []
   },
   "outputs": [
    {
     "data": {
      "text/html": [
       "<pre style=\"white-space:pre;overflow-x:auto;line-height:normal;font-family:Menlo,'DejaVu Sans Mono',consolas,'Courier New',monospace\"></pre>\n"
      ],
      "text/plain": [
       "\u001b[?25l"
      ]
     },
     "metadata": {},
     "output_type": "display_data"
    },
    {
     "data": {
      "text/html": [
       "<pre style=\"white-space:pre;overflow-x:auto;line-height:normal;font-family:Menlo,'DejaVu Sans Mono',consolas,'Courier New',monospace\">\n",
       "</pre>\n"
      ],
      "text/plain": [
       "\n",
       "\u001b[?25h"
      ]
     },
     "metadata": {},
     "output_type": "display_data"
    },
    {
     "data": {
      "text/html": [
       "<div>\n",
       "<style scoped>\n",
       "    .dataframe tbody tr th:only-of-type {\n",
       "        vertical-align: middle;\n",
       "    }\n",
       "\n",
       "    .dataframe tbody tr th {\n",
       "        vertical-align: top;\n",
       "    }\n",
       "\n",
       "    .dataframe thead th {\n",
       "        text-align: right;\n",
       "    }\n",
       "</style>\n",
       "<table border=\"1\" class=\"dataframe\">\n",
       "  <thead>\n",
       "    <tr style=\"text-align: right;\">\n",
       "      <th></th>\n",
       "      <th>feature</th>\n",
       "      <th>beta</th>\n",
       "      <th>t_statistic</th>\n",
       "      <th>p</th>\n",
       "      <th>n</th>\n",
       "      <th>q</th>\n",
       "      <th>SUB_PATHWAY</th>\n",
       "      <th>SUPER_PATHWAY</th>\n",
       "      <th>BIOCHEMICAL_NAME</th>\n",
       "      <th>assoc_bin</th>\n",
       "    </tr>\n",
       "  </thead>\n",
       "  <tbody>\n",
       "    <tr>\n",
       "      <th>0</th>\n",
       "      <td>metabolite_55</td>\n",
       "      <td>0.058805</td>\n",
       "      <td>2.843437</td>\n",
       "      <td>4.518099e-03</td>\n",
       "      <td>1656.0</td>\n",
       "      <td>9.903674e-03</td>\n",
       "      <td>Nicotinate and Nicotinamide Metabolism</td>\n",
       "      <td>Cofactors and Vitamins</td>\n",
       "      <td>1-methylnicotinamide</td>\n",
       "      <td>genetic</td>\n",
       "    </tr>\n",
       "    <tr>\n",
       "      <th>1</th>\n",
       "      <td>metabolite_179</td>\n",
       "      <td>0.069933</td>\n",
       "      <td>3.138879</td>\n",
       "      <td>1.729995e-03</td>\n",
       "      <td>1466.0</td>\n",
       "      <td>4.232308e-03</td>\n",
       "      <td>Fatty Acid, Dihydroxy</td>\n",
       "      <td>Lipid</td>\n",
       "      <td>9,10-DiHOME</td>\n",
       "      <td>genetic</td>\n",
       "    </tr>\n",
       "    <tr>\n",
       "      <th>2</th>\n",
       "      <td>metabolite_197</td>\n",
       "      <td>-0.058326</td>\n",
       "      <td>-2.562955</td>\n",
       "      <td>1.047392e-02</td>\n",
       "      <td>1533.0</td>\n",
       "      <td>2.079605e-02</td>\n",
       "      <td>Methionine, Cysteine, SAM and Taurine Metabolism</td>\n",
       "      <td>Amino Acid</td>\n",
       "      <td>S-adenosylhomocysteine (SAH)</td>\n",
       "      <td>genetic</td>\n",
       "    </tr>\n",
       "    <tr>\n",
       "      <th>3</th>\n",
       "      <td>metabolite_212</td>\n",
       "      <td>-0.064420</td>\n",
       "      <td>-2.947296</td>\n",
       "      <td>3.252086e-03</td>\n",
       "      <td>1610.0</td>\n",
       "      <td>7.364228e-03</td>\n",
       "      <td>Polyamine Metabolism</td>\n",
       "      <td>Amino Acid</td>\n",
       "      <td>5-methylthioadenosine (MTA)</td>\n",
       "      <td>genetic</td>\n",
       "    </tr>\n",
       "    <tr>\n",
       "      <th>4</th>\n",
       "      <td>metabolite_234</td>\n",
       "      <td>-0.086382</td>\n",
       "      <td>-4.078564</td>\n",
       "      <td>4.744685e-05</td>\n",
       "      <td>1681.0</td>\n",
       "      <td>1.604992e-04</td>\n",
       "      <td>Alanine and Aspartate Metabolism</td>\n",
       "      <td>Amino Acid</td>\n",
       "      <td>aspartate</td>\n",
       "      <td>genetic</td>\n",
       "    </tr>\n",
       "    <tr>\n",
       "      <th>...</th>\n",
       "      <td>...</td>\n",
       "      <td>...</td>\n",
       "      <td>...</td>\n",
       "      <td>...</td>\n",
       "      <td>...</td>\n",
       "      <td>...</td>\n",
       "      <td>...</td>\n",
       "      <td>...</td>\n",
       "      <td>...</td>\n",
       "      <td>...</td>\n",
       "    </tr>\n",
       "    <tr>\n",
       "      <th>152</th>\n",
       "      <td>metabolite_999946390</td>\n",
       "      <td>-0.055947</td>\n",
       "      <td>-2.534417</td>\n",
       "      <td>1.135514e-02</td>\n",
       "      <td>1662.0</td>\n",
       "      <td>2.238351e-02</td>\n",
       "      <td>NaN</td>\n",
       "      <td>NaN</td>\n",
       "      <td>X - 11308</td>\n",
       "      <td>genetic</td>\n",
       "    </tr>\n",
       "    <tr>\n",
       "      <th>153</th>\n",
       "      <td>metabolite_999946460</td>\n",
       "      <td>-0.139586</td>\n",
       "      <td>-6.290866</td>\n",
       "      <td>4.046006e-10</td>\n",
       "      <td>1641.0</td>\n",
       "      <td>2.771514e-09</td>\n",
       "      <td>NaN</td>\n",
       "      <td>NaN</td>\n",
       "      <td>X - 11444</td>\n",
       "      <td>genetic</td>\n",
       "    </tr>\n",
       "    <tr>\n",
       "      <th>154</th>\n",
       "      <td>metabolite_999946601</td>\n",
       "      <td>-0.053628</td>\n",
       "      <td>-2.486684</td>\n",
       "      <td>1.299330e-02</td>\n",
       "      <td>1642.0</td>\n",
       "      <td>2.507157e-02</td>\n",
       "      <td>NaN</td>\n",
       "      <td>NaN</td>\n",
       "      <td>X - 11470</td>\n",
       "      <td>genetic</td>\n",
       "    </tr>\n",
       "    <tr>\n",
       "      <th>155</th>\n",
       "      <td>metabolite_999946633</td>\n",
       "      <td>-0.077918</td>\n",
       "      <td>-3.754487</td>\n",
       "      <td>1.797355e-04</td>\n",
       "      <td>1656.0</td>\n",
       "      <td>5.077065e-04</td>\n",
       "      <td>NaN</td>\n",
       "      <td>NaN</td>\n",
       "      <td>X - 12844</td>\n",
       "      <td>genetic</td>\n",
       "    </tr>\n",
       "    <tr>\n",
       "      <th>156</th>\n",
       "      <td>metabolite_999946701</td>\n",
       "      <td>0.050113</td>\n",
       "      <td>2.310316</td>\n",
       "      <td>2.099338e-02</td>\n",
       "      <td>1662.0</td>\n",
       "      <td>3.809395e-02</td>\n",
       "      <td>NaN</td>\n",
       "      <td>NaN</td>\n",
       "      <td>X - 19141</td>\n",
       "      <td>genetic</td>\n",
       "    </tr>\n",
       "  </tbody>\n",
       "</table>\n",
       "<p>157 rows × 10 columns</p>\n",
       "</div>"
      ],
      "text/plain": [
       "                  feature      beta  t_statistic             p       n  \\\n",
       "0           metabolite_55  0.058805     2.843437  4.518099e-03  1656.0   \n",
       "1          metabolite_179  0.069933     3.138879  1.729995e-03  1466.0   \n",
       "2          metabolite_197 -0.058326    -2.562955  1.047392e-02  1533.0   \n",
       "3          metabolite_212 -0.064420    -2.947296  3.252086e-03  1610.0   \n",
       "4          metabolite_234 -0.086382    -4.078564  4.744685e-05  1681.0   \n",
       "..                    ...       ...          ...           ...     ...   \n",
       "152  metabolite_999946390 -0.055947    -2.534417  1.135514e-02  1662.0   \n",
       "153  metabolite_999946460 -0.139586    -6.290866  4.046006e-10  1641.0   \n",
       "154  metabolite_999946601 -0.053628    -2.486684  1.299330e-02  1642.0   \n",
       "155  metabolite_999946633 -0.077918    -3.754487  1.797355e-04  1656.0   \n",
       "156  metabolite_999946701  0.050113     2.310316  2.099338e-02  1662.0   \n",
       "\n",
       "                q                                       SUB_PATHWAY  \\\n",
       "0    9.903674e-03            Nicotinate and Nicotinamide Metabolism   \n",
       "1    4.232308e-03                             Fatty Acid, Dihydroxy   \n",
       "2    2.079605e-02  Methionine, Cysteine, SAM and Taurine Metabolism   \n",
       "3    7.364228e-03                              Polyamine Metabolism   \n",
       "4    1.604992e-04                  Alanine and Aspartate Metabolism   \n",
       "..            ...                                               ...   \n",
       "152  2.238351e-02                                               NaN   \n",
       "153  2.771514e-09                                               NaN   \n",
       "154  2.507157e-02                                               NaN   \n",
       "155  5.077065e-04                                               NaN   \n",
       "156  3.809395e-02                                               NaN   \n",
       "\n",
       "              SUPER_PATHWAY              BIOCHEMICAL_NAME assoc_bin  \n",
       "0    Cofactors and Vitamins          1-methylnicotinamide   genetic  \n",
       "1                     Lipid                   9,10-DiHOME   genetic  \n",
       "2                Amino Acid  S-adenosylhomocysteine (SAH)   genetic  \n",
       "3                Amino Acid   5-methylthioadenosine (MTA)   genetic  \n",
       "4                Amino Acid                     aspartate   genetic  \n",
       "..                      ...                           ...       ...  \n",
       "152                     NaN                     X - 11308   genetic  \n",
       "153                     NaN                     X - 11444   genetic  \n",
       "154                     NaN                     X - 11470   genetic  \n",
       "155                     NaN                     X - 12844   genetic  \n",
       "156                     NaN                     X - 19141   genetic  \n",
       "\n",
       "[157 rows x 10 columns]"
      ]
     },
     "execution_count": 10,
     "metadata": {},
     "output_type": "execute_result"
    }
   ],
   "source": [
    "# GENETIC\n",
    "def get_results(feature):\n",
    "    \n",
    "    \"\"\"Get a single association.\n",
    "    \n",
    "    As long as `args` and `df` are assigned this can be used on\n",
    "    any data set.\n",
    "    \"\"\"\n",
    "    formula = f\"HDL_CHOL_DIRECT ~ {feature} + C(sex) + age + BMI_CALC + PC1 + PC2 + PC3 + PC4 + PC5\"\n",
    "    fitted = ols(formula, data=df).fit()\n",
    "    return pd.DataFrame({\n",
    "        \"feature\": feature,\n",
    "        \"beta\": fitted.params[feature],\n",
    "        \"t_statistic\": fitted.tvalues[feature],\n",
    "        \"p\": fitted.pvalues[feature],\n",
    "        \"n\": fitted.nobs\n",
    "        }, index=[feature])\n",
    "\n",
    "args = gen_only_features\n",
    "df = mac_str\n",
    "results = map(get_results, track(args))\n",
    "results = list(results)\n",
    "tests = pd.concat(results)\n",
    "tests[\"q\"] = multipletests(tests.p, method=\"fdr_bh\")[1]\n",
    "gen_hdl_sig = tests[tests.q <= 0.05]\n",
    "## merge in names + pathway info to this data\n",
    "gen_hdl_sig = pd.merge(gen_hdl_sig, meta_names, on = \"feature\", how = \"inner\")\n",
    "## adding in column with association bin so we can merge all three into one, cuts down on number of dataframes, and so i can do FDR correction in future\n",
    "gen_hdl_sig['assoc_bin']='genetic'\n",
    "gen_hdl_sig"
   ]
  },
  {
   "cell_type": "code",
   "execution_count": 11,
   "id": "8f923e6c-1eb2-4bd0-9120-05eb3a11f71f",
   "metadata": {
    "tags": []
   },
   "outputs": [
    {
     "data": {
      "text/html": [
       "<pre style=\"white-space:pre;overflow-x:auto;line-height:normal;font-family:Menlo,'DejaVu Sans Mono',consolas,'Courier New',monospace\"></pre>\n"
      ],
      "text/plain": [
       "\u001b[?25l"
      ]
     },
     "metadata": {},
     "output_type": "display_data"
    },
    {
     "data": {
      "text/html": [
       "<pre style=\"white-space:pre;overflow-x:auto;line-height:normal;font-family:Menlo,'DejaVu Sans Mono',consolas,'Courier New',monospace\">\n",
       "</pre>\n"
      ],
      "text/plain": [
       "\n",
       "\u001b[?25h"
      ]
     },
     "metadata": {},
     "output_type": "display_data"
    }
   ],
   "source": [
    "# MICROBE\n",
    "def get_results(feature):\n",
    "    \n",
    "    \"\"\"Get a single association.\n",
    "    \n",
    "    As long as `args` and `df` are assigned this can be used on\n",
    "    any data set.\n",
    "    \"\"\"\n",
    "    formula = f\"HDL_CHOL_DIRECT ~ {feature} + C(sex) + age + BMI_CALC + PC1 + PC2 + PC3 + PC4 + PC5\"\n",
    "    fitted = ols(formula, data=df).fit()\n",
    "    return pd.DataFrame({\n",
    "        \"feature\": feature,\n",
    "        \"beta\": fitted.params[feature],\n",
    "        \"t_statistic\": fitted.tvalues[feature],\n",
    "        \"p\": fitted.pvalues[feature],\n",
    "        \"n\": fitted.nobs\n",
    "        }, index=[feature])\n",
    "\n",
    "args = microbe_only_features\n",
    "df = mac_str\n",
    "results = map(get_results, track(args))\n",
    "results = list(results)\n",
    "tests = pd.concat(results)\n",
    "tests[\"q\"] = multipletests(tests.p, method=\"fdr_bh\")[1]\n",
    "mic_hdl_sig = tests[tests.q <= 0.05]\n",
    "## merge in names + pathway info to this data\n",
    "mic_hdl_sig = pd.merge(mic_hdl_sig, meta_names, on = \"feature\", how = \"inner\")\n",
    "mic_hdl_sig['assoc_bin']='microbe'"
   ]
  },
  {
   "cell_type": "code",
   "execution_count": 12,
   "id": "3e54af38-714e-49f7-a981-6150ee21e185",
   "metadata": {
    "tags": []
   },
   "outputs": [
    {
     "data": {
      "text/html": [
       "<pre style=\"white-space:pre;overflow-x:auto;line-height:normal;font-family:Menlo,'DejaVu Sans Mono',consolas,'Courier New',monospace\"></pre>\n"
      ],
      "text/plain": [
       "\u001b[?25l"
      ]
     },
     "metadata": {},
     "output_type": "display_data"
    },
    {
     "data": {
      "text/html": [
       "<pre style=\"white-space:pre;overflow-x:auto;line-height:normal;font-family:Menlo,'DejaVu Sans Mono',consolas,'Courier New',monospace\">\n",
       "</pre>\n"
      ],
      "text/plain": [
       "\n",
       "\u001b[?25h"
      ]
     },
     "metadata": {},
     "output_type": "display_data"
    }
   ],
   "source": [
    "# HYBRID\n",
    "def get_results(feature):\n",
    "    \n",
    "    \"\"\"Get a single association.\n",
    "    \n",
    "    As long as `args` and `df` are assigned this can be used on\n",
    "    any data set.\n",
    "    \"\"\"\n",
    "    formula = f\"HDL_CHOL_DIRECT ~ {feature} + C(sex) + age + BMI_CALC + PC1 + PC2 + PC3 + PC4 + PC5\"\n",
    "    fitted = ols(formula, data=df).fit()\n",
    "    return pd.DataFrame({\n",
    "        \"feature\": feature,\n",
    "        \"beta\": fitted.params[feature],\n",
    "        \"t_statistic\": fitted.tvalues[feature],\n",
    "        \"p\": fitted.pvalues[feature],\n",
    "        \"n\": fitted.nobs\n",
    "        }, index=[feature])\n",
    "\n",
    "args = hybrid_features\n",
    "df = mac_str\n",
    "results = map(get_results, track(args))\n",
    "results = list(results)\n",
    "tests = pd.concat(results)\n",
    "tests[\"q\"] = multipletests(tests.p, method=\"fdr_bh\")[1]\n",
    "hyb_hdl_sig = tests[tests.q <= 0.05]\n",
    "## merge in names + pathway info to this data\n",
    "hyb_hdl_sig = pd.merge(hyb_hdl_sig, meta_names, on = \"feature\", how = \"inner\")\n",
    "hyb_hdl_sig['assoc_bin']='hybrid'"
   ]
  },
  {
   "cell_type": "code",
   "execution_count": 13,
   "id": "33d25a67-f2b3-4cdb-914e-3d9f3cfd2c46",
   "metadata": {
    "tags": []
   },
   "outputs": [
    {
     "data": {
      "text/html": [
       "<div>\n",
       "<style scoped>\n",
       "    .dataframe tbody tr th:only-of-type {\n",
       "        vertical-align: middle;\n",
       "    }\n",
       "\n",
       "    .dataframe tbody tr th {\n",
       "        vertical-align: top;\n",
       "    }\n",
       "\n",
       "    .dataframe thead th {\n",
       "        text-align: right;\n",
       "    }\n",
       "</style>\n",
       "<table border=\"1\" class=\"dataframe\">\n",
       "  <thead>\n",
       "    <tr style=\"text-align: right;\">\n",
       "      <th></th>\n",
       "      <th>feature</th>\n",
       "      <th>beta</th>\n",
       "      <th>t_statistic</th>\n",
       "      <th>p</th>\n",
       "      <th>n</th>\n",
       "      <th>q</th>\n",
       "      <th>SUB_PATHWAY</th>\n",
       "      <th>SUPER_PATHWAY</th>\n",
       "      <th>BIOCHEMICAL_NAME</th>\n",
       "      <th>assoc_bin</th>\n",
       "    </tr>\n",
       "  </thead>\n",
       "  <tbody>\n",
       "    <tr>\n",
       "      <th>0</th>\n",
       "      <td>metabolite_55</td>\n",
       "      <td>0.058805</td>\n",
       "      <td>2.843437</td>\n",
       "      <td>4.518099e-03</td>\n",
       "      <td>1656.0</td>\n",
       "      <td>9.903674e-03</td>\n",
       "      <td>Nicotinate and Nicotinamide Metabolism</td>\n",
       "      <td>Cofactors and Vitamins</td>\n",
       "      <td>1-methylnicotinamide</td>\n",
       "      <td>genetic</td>\n",
       "    </tr>\n",
       "    <tr>\n",
       "      <th>1</th>\n",
       "      <td>metabolite_179</td>\n",
       "      <td>0.069933</td>\n",
       "      <td>3.138879</td>\n",
       "      <td>1.729995e-03</td>\n",
       "      <td>1466.0</td>\n",
       "      <td>4.232308e-03</td>\n",
       "      <td>Fatty Acid, Dihydroxy</td>\n",
       "      <td>Lipid</td>\n",
       "      <td>9,10-DiHOME</td>\n",
       "      <td>genetic</td>\n",
       "    </tr>\n",
       "    <tr>\n",
       "      <th>2</th>\n",
       "      <td>metabolite_197</td>\n",
       "      <td>-0.058326</td>\n",
       "      <td>-2.562955</td>\n",
       "      <td>1.047392e-02</td>\n",
       "      <td>1533.0</td>\n",
       "      <td>2.079605e-02</td>\n",
       "      <td>Methionine, Cysteine, SAM and Taurine Metabolism</td>\n",
       "      <td>Amino Acid</td>\n",
       "      <td>S-adenosylhomocysteine (SAH)</td>\n",
       "      <td>genetic</td>\n",
       "    </tr>\n",
       "    <tr>\n",
       "      <th>3</th>\n",
       "      <td>metabolite_212</td>\n",
       "      <td>-0.064420</td>\n",
       "      <td>-2.947296</td>\n",
       "      <td>3.252086e-03</td>\n",
       "      <td>1610.0</td>\n",
       "      <td>7.364228e-03</td>\n",
       "      <td>Polyamine Metabolism</td>\n",
       "      <td>Amino Acid</td>\n",
       "      <td>5-methylthioadenosine (MTA)</td>\n",
       "      <td>genetic</td>\n",
       "    </tr>\n",
       "    <tr>\n",
       "      <th>4</th>\n",
       "      <td>metabolite_234</td>\n",
       "      <td>-0.086382</td>\n",
       "      <td>-4.078564</td>\n",
       "      <td>4.744685e-05</td>\n",
       "      <td>1681.0</td>\n",
       "      <td>1.604992e-04</td>\n",
       "      <td>Alanine and Aspartate Metabolism</td>\n",
       "      <td>Amino Acid</td>\n",
       "      <td>aspartate</td>\n",
       "      <td>genetic</td>\n",
       "    </tr>\n",
       "    <tr>\n",
       "      <th>...</th>\n",
       "      <td>...</td>\n",
       "      <td>...</td>\n",
       "      <td>...</td>\n",
       "      <td>...</td>\n",
       "      <td>...</td>\n",
       "      <td>...</td>\n",
       "      <td>...</td>\n",
       "      <td>...</td>\n",
       "      <td>...</td>\n",
       "      <td>...</td>\n",
       "    </tr>\n",
       "    <tr>\n",
       "      <th>214</th>\n",
       "      <td>metabolite_999947671</td>\n",
       "      <td>0.056495</td>\n",
       "      <td>2.752564</td>\n",
       "      <td>5.977621e-03</td>\n",
       "      <td>1665.0</td>\n",
       "      <td>1.033630e-02</td>\n",
       "      <td>NaN</td>\n",
       "      <td>NaN</td>\n",
       "      <td>X - 18921</td>\n",
       "      <td>hybrid</td>\n",
       "    </tr>\n",
       "    <tr>\n",
       "      <th>215</th>\n",
       "      <td>metabolite_999947788</td>\n",
       "      <td>0.101035</td>\n",
       "      <td>4.686124</td>\n",
       "      <td>3.021835e-06</td>\n",
       "      <td>1600.0</td>\n",
       "      <td>8.574780e-06</td>\n",
       "      <td>NaN</td>\n",
       "      <td>NaN</td>\n",
       "      <td>X - 13431</td>\n",
       "      <td>hybrid</td>\n",
       "    </tr>\n",
       "    <tr>\n",
       "      <th>216</th>\n",
       "      <td>metabolite_999949515</td>\n",
       "      <td>0.115902</td>\n",
       "      <td>5.277082</td>\n",
       "      <td>1.489556e-07</td>\n",
       "      <td>1633.0</td>\n",
       "      <td>5.052937e-07</td>\n",
       "      <td>NaN</td>\n",
       "      <td>NaN</td>\n",
       "      <td>X - 23639</td>\n",
       "      <td>hybrid</td>\n",
       "    </tr>\n",
       "    <tr>\n",
       "      <th>217</th>\n",
       "      <td>metabolite_999949592</td>\n",
       "      <td>0.132822</td>\n",
       "      <td>6.040220</td>\n",
       "      <td>1.899534e-09</td>\n",
       "      <td>1653.0</td>\n",
       "      <td>7.507684e-09</td>\n",
       "      <td>NaN</td>\n",
       "      <td>NaN</td>\n",
       "      <td>X - 11315</td>\n",
       "      <td>hybrid</td>\n",
       "    </tr>\n",
       "    <tr>\n",
       "      <th>218</th>\n",
       "      <td>metabolite_999953267</td>\n",
       "      <td>0.065807</td>\n",
       "      <td>2.852030</td>\n",
       "      <td>4.411432e-03</td>\n",
       "      <td>1337.0</td>\n",
       "      <td>7.749182e-03</td>\n",
       "      <td>NaN</td>\n",
       "      <td>NaN</td>\n",
       "      <td>X - 24748</td>\n",
       "      <td>hybrid</td>\n",
       "    </tr>\n",
       "  </tbody>\n",
       "</table>\n",
       "<p>454 rows × 10 columns</p>\n",
       "</div>"
      ],
      "text/plain": [
       "                  feature      beta  t_statistic             p       n  \\\n",
       "0           metabolite_55  0.058805     2.843437  4.518099e-03  1656.0   \n",
       "1          metabolite_179  0.069933     3.138879  1.729995e-03  1466.0   \n",
       "2          metabolite_197 -0.058326    -2.562955  1.047392e-02  1533.0   \n",
       "3          metabolite_212 -0.064420    -2.947296  3.252086e-03  1610.0   \n",
       "4          metabolite_234 -0.086382    -4.078564  4.744685e-05  1681.0   \n",
       "..                    ...       ...          ...           ...     ...   \n",
       "214  metabolite_999947671  0.056495     2.752564  5.977621e-03  1665.0   \n",
       "215  metabolite_999947788  0.101035     4.686124  3.021835e-06  1600.0   \n",
       "216  metabolite_999949515  0.115902     5.277082  1.489556e-07  1633.0   \n",
       "217  metabolite_999949592  0.132822     6.040220  1.899534e-09  1653.0   \n",
       "218  metabolite_999953267  0.065807     2.852030  4.411432e-03  1337.0   \n",
       "\n",
       "                q                                       SUB_PATHWAY  \\\n",
       "0    9.903674e-03            Nicotinate and Nicotinamide Metabolism   \n",
       "1    4.232308e-03                             Fatty Acid, Dihydroxy   \n",
       "2    2.079605e-02  Methionine, Cysteine, SAM and Taurine Metabolism   \n",
       "3    7.364228e-03                              Polyamine Metabolism   \n",
       "4    1.604992e-04                  Alanine and Aspartate Metabolism   \n",
       "..            ...                                               ...   \n",
       "214  1.033630e-02                                               NaN   \n",
       "215  8.574780e-06                                               NaN   \n",
       "216  5.052937e-07                                               NaN   \n",
       "217  7.507684e-09                                               NaN   \n",
       "218  7.749182e-03                                               NaN   \n",
       "\n",
       "              SUPER_PATHWAY              BIOCHEMICAL_NAME assoc_bin  \n",
       "0    Cofactors and Vitamins          1-methylnicotinamide   genetic  \n",
       "1                     Lipid                   9,10-DiHOME   genetic  \n",
       "2                Amino Acid  S-adenosylhomocysteine (SAH)   genetic  \n",
       "3                Amino Acid   5-methylthioadenosine (MTA)   genetic  \n",
       "4                Amino Acid                     aspartate   genetic  \n",
       "..                      ...                           ...       ...  \n",
       "214                     NaN                     X - 18921    hybrid  \n",
       "215                     NaN                     X - 13431    hybrid  \n",
       "216                     NaN                     X - 23639    hybrid  \n",
       "217                     NaN                     X - 11315    hybrid  \n",
       "218                     NaN                     X - 24748    hybrid  \n",
       "\n",
       "[454 rows x 10 columns]"
      ]
     },
     "execution_count": 13,
     "metadata": {},
     "output_type": "execute_result"
    }
   ],
   "source": [
    "# merge these three into one dataframe\n",
    "hdl_sig = pd.concat([gen_hdl_sig, mic_hdl_sig, hyb_hdl_sig])\n",
    "hdl_sig"
   ]
  },
  {
   "cell_type": "code",
   "execution_count": 60,
   "id": "fb7ac46b-f92e-4918-a82a-d25d240c7356",
   "metadata": {
    "tags": []
   },
   "outputs": [],
   "source": [
    "# this is creating the file\n",
    "hdl_sig.to_excel(\"MAC_Project_data.xlsx\", sheet_name='hdl_sig')"
   ]
  },
  {
   "cell_type": "code",
   "execution_count": 14,
   "id": "af3bf218-6d51-4789-b3c5-e6f18bbcfd3d",
   "metadata": {
    "tags": []
   },
   "outputs": [
    {
     "data": {
      "text/plain": [
       "Index(['metabolite_100000036', 'metabolite_100000042', 'metabolite_100000054',\n",
       "       'metabolite_100000263', 'metabolite_100000265', 'metabolite_100000406',\n",
       "       'metabolite_100000437', 'metabolite_100000442', 'metabolite_100000453',\n",
       "       'metabolite_100000463',\n",
       "       ...\n",
       "       'metabolite_999947804', 'metabolite_999947905', 'metabolite_999948094',\n",
       "       'metabolite_999949463', 'metabolite_999949515', 'metabolite_999949555',\n",
       "       'metabolite_999949592', 'metabolite_999949681', 'metabolite_999952877',\n",
       "       'metabolite_999953267'],\n",
       "      dtype='object', name='feature', length=454)"
      ]
     },
     "execution_count": 14,
     "metadata": {},
     "output_type": "execute_result"
    }
   ],
   "source": [
    "## turn features column into index feature to use for regression down the line\n",
    "hdl_met_to_col = hdl_sig[['feature', 'assoc_bin', 'p']].copy()\n",
    "hdl_met_to_col = hdl_met_to_col.pivot_table(index='assoc_bin', columns='feature', values='p')\n",
    "\n",
    "hdl_features = hdl_met_to_col.columns[0:]\n",
    "hdl_features"
   ]
  },
  {
   "cell_type": "markdown",
   "id": "dcf9ca4d-ea61-47d8-abc3-65a095362bee",
   "metadata": {
    "tags": []
   },
   "source": [
    "##### Hematocrit ~ metabolites + [covar]"
   ]
  },
  {
   "cell_type": "code",
   "execution_count": 15,
   "id": "97f13c62-b260-4a5e-a080-108c8518f4c7",
   "metadata": {
    "tags": []
   },
   "outputs": [
    {
     "data": {
      "text/html": [
       "<pre style=\"white-space:pre;overflow-x:auto;line-height:normal;font-family:Menlo,'DejaVu Sans Mono',consolas,'Courier New',monospace\"></pre>\n"
      ],
      "text/plain": [
       "\u001b[?25l"
      ]
     },
     "metadata": {},
     "output_type": "display_data"
    },
    {
     "data": {
      "text/html": [
       "<pre style=\"white-space:pre;overflow-x:auto;line-height:normal;font-family:Menlo,'DejaVu Sans Mono',consolas,'Courier New',monospace\">\n",
       "</pre>\n"
      ],
      "text/plain": [
       "\n",
       "\u001b[?25h"
      ]
     },
     "metadata": {},
     "output_type": "display_data"
    }
   ],
   "source": [
    "# GENETIC\n",
    "def get_results(feature):\n",
    "    \n",
    "    \"\"\"Get a single association.\n",
    "    \n",
    "    As long as `args` and `df` are assigned this can be used on\n",
    "    any data set.\n",
    "    \"\"\"\n",
    "    formula = f\"HEMATOCRIT ~ {feature} + C(sex) + age + BMI_CALC + PC1 + PC2 + PC3 + PC4 + PC5\"\n",
    "    fitted = ols(formula, data=df).fit()\n",
    "    return pd.DataFrame({\n",
    "        \"feature\": feature,\n",
    "        \"beta\": fitted.params[feature],\n",
    "        \"t_statistic\": fitted.tvalues[feature],\n",
    "        \"p\": fitted.pvalues[feature],\n",
    "        \"n\": fitted.nobs\n",
    "        }, index=[feature])\n",
    "\n",
    "args = gen_only_features\n",
    "df = mac_str\n",
    "results = map(get_results, track(args))\n",
    "results = list(results)\n",
    "tests = pd.concat(results)\n",
    "tests[\"q\"] = multipletests(tests.p, method=\"fdr_bh\")[1]\n",
    "gen_hem_sig = tests[tests.q <= 0.05]\n",
    "## merge in names + pathway info to this data\n",
    "gen_hem_sig = pd.merge(gen_hem_sig, meta_names, on = \"feature\", how = \"inner\")\n",
    "gen_hem_sig['assoc_bin']='genetic'"
   ]
  },
  {
   "cell_type": "code",
   "execution_count": 16,
   "id": "e2e252be-25a6-45b1-9712-7f6e388362ff",
   "metadata": {
    "tags": []
   },
   "outputs": [
    {
     "data": {
      "text/html": [
       "<pre style=\"white-space:pre;overflow-x:auto;line-height:normal;font-family:Menlo,'DejaVu Sans Mono',consolas,'Courier New',monospace\"></pre>\n"
      ],
      "text/plain": [
       "\u001b[?25l"
      ]
     },
     "metadata": {},
     "output_type": "display_data"
    },
    {
     "data": {
      "text/html": [
       "<pre style=\"white-space:pre;overflow-x:auto;line-height:normal;font-family:Menlo,'DejaVu Sans Mono',consolas,'Courier New',monospace\">\n",
       "</pre>\n"
      ],
      "text/plain": [
       "\n",
       "\u001b[?25h"
      ]
     },
     "metadata": {},
     "output_type": "display_data"
    }
   ],
   "source": [
    "# MICROBE\n",
    "def get_results(feature):\n",
    "    \n",
    "    \"\"\"Get a single association.\n",
    "    \n",
    "    As long as `args` and `df` are assigned this can be used on\n",
    "    any data set.\n",
    "    \"\"\"\n",
    "    formula = f\"HEMATOCRIT ~ {feature} + C(sex) + age + BMI_CALC + PC1 + PC2 + PC3 + PC4 + PC5\"\n",
    "    fitted = ols(formula, data=df).fit()\n",
    "    return pd.DataFrame({\n",
    "        \"feature\": feature,\n",
    "        \"beta\": fitted.params[feature],\n",
    "        \"t_statistic\": fitted.tvalues[feature],\n",
    "        \"p\": fitted.pvalues[feature],\n",
    "        \"n\": fitted.nobs\n",
    "        }, index=[feature])\n",
    "\n",
    "args = microbe_only_features\n",
    "df = mac_str\n",
    "results = map(get_results, track(args))\n",
    "results = list(results)\n",
    "tests = pd.concat(results)\n",
    "tests[\"q\"] = multipletests(tests.p, method=\"fdr_bh\")[1]\n",
    "mic_hem_sig = tests[tests.q <= 0.05]\n",
    "## merge in names + pathway info to this data\n",
    "mic_hem_sig = pd.merge(mic_hem_sig, meta_names, on = \"feature\", how = \"inner\")\n",
    "mic_hem_sig['assoc_bin']='microbe'"
   ]
  },
  {
   "cell_type": "code",
   "execution_count": 17,
   "id": "07d9218b-6e1f-4bb1-af02-3a5b2145ee54",
   "metadata": {
    "tags": []
   },
   "outputs": [
    {
     "data": {
      "text/html": [
       "<pre style=\"white-space:pre;overflow-x:auto;line-height:normal;font-family:Menlo,'DejaVu Sans Mono',consolas,'Courier New',monospace\"></pre>\n"
      ],
      "text/plain": [
       "\u001b[?25l"
      ]
     },
     "metadata": {},
     "output_type": "display_data"
    },
    {
     "data": {
      "text/html": [
       "<pre style=\"white-space:pre;overflow-x:auto;line-height:normal;font-family:Menlo,'DejaVu Sans Mono',consolas,'Courier New',monospace\">\n",
       "</pre>\n"
      ],
      "text/plain": [
       "\n",
       "\u001b[?25h"
      ]
     },
     "metadata": {},
     "output_type": "display_data"
    }
   ],
   "source": [
    "# HYBRID\n",
    "def get_results(feature):\n",
    "    \n",
    "    \"\"\"Get a single association.\n",
    "    \n",
    "    As long as `args` and `df` are assigned this can be used on\n",
    "    any data set.\n",
    "    \"\"\"\n",
    "    formula = f\"HEMATOCRIT ~ {feature} + C(sex) + age + BMI_CALC + PC1 + PC2 + PC3 + PC4 + PC5\"\n",
    "    fitted = ols(formula, data=df).fit()\n",
    "    return pd.DataFrame({\n",
    "        \"feature\": feature,\n",
    "        \"beta\": fitted.params[feature],\n",
    "        \"t_statistic\": fitted.tvalues[feature],\n",
    "        \"p\": fitted.pvalues[feature],\n",
    "        \"n\": fitted.nobs\n",
    "        }, index=[feature])\n",
    "\n",
    "args = hybrid_features\n",
    "df = mac_str\n",
    "results = map(get_results, track(args))\n",
    "results = list(results)\n",
    "tests = pd.concat(results)\n",
    "tests[\"q\"] = multipletests(tests.p, method=\"fdr_bh\")[1]\n",
    "hyb_hem_sig = tests[tests.q <= 0.05]\n",
    "## merge in names + pathway info to this data\n",
    "hyb_hem_sig = pd.merge(hyb_hem_sig, meta_names, on = \"feature\", how = \"inner\")\n",
    "hyb_hem_sig['assoc_bin']='hybrid'"
   ]
  },
  {
   "cell_type": "code",
   "execution_count": 21,
   "id": "d679b40b-eeaf-464b-91f5-ada765477e83",
   "metadata": {
    "tags": []
   },
   "outputs": [],
   "source": [
    "# merge these three into one dataframe\n",
    "hem_sig = pd.concat([gen_hem_sig, mic_hem_sig, hyb_hem_sig])"
   ]
  },
  {
   "cell_type": "code",
   "execution_count": null,
   "id": "21176ec8-ee71-4fda-b804-ebd353f78320",
   "metadata": {},
   "outputs": [],
   "source": [
    "with pd.ExcelWriter('MAC_Project_data.xlsx',\n",
    "                    mode='a') as writer:  \n",
    "    hem_sig.to_excel(writer, sheet_name='hem_sig')"
   ]
  },
  {
   "cell_type": "code",
   "execution_count": 22,
   "id": "65a9dace-7898-4117-9794-164478014953",
   "metadata": {
    "tags": []
   },
   "outputs": [
    {
     "data": {
      "text/plain": [
       "Index(['metabolite_100000036', 'metabolite_100000039', 'metabolite_100000042',\n",
       "       'metabolite_100000257', 'metabolite_100000276', 'metabolite_100000447',\n",
       "       'metabolite_100000551', 'metabolite_100000616', 'metabolite_100000665',\n",
       "       'metabolite_100000706',\n",
       "       ...\n",
       "       'metabolite_999947006', 'metabolite_999947642', 'metabolite_999947650',\n",
       "       'metabolite_999947788', 'metabolite_999948076', 'metabolite_999949515',\n",
       "       'metabolite_999952286', 'metabolite_999952502', 'metabolite_999952909',\n",
       "       'metabolite_999953267'],\n",
       "      dtype='object', name='feature', length=332)"
      ]
     },
     "execution_count": 22,
     "metadata": {},
     "output_type": "execute_result"
    }
   ],
   "source": [
    "## turn features column into index feature to use for regression down the line\n",
    "hem_met_to_col = hem_sig[['feature', 'assoc_bin', 'p']].copy()\n",
    "hem_met_to_col = hem_met_to_col.pivot_table(index='assoc_bin', columns='feature', values='p')\n",
    "\n",
    "hem_features = hem_met_to_col.columns[0:]\n",
    "hem_features"
   ]
  },
  {
   "cell_type": "markdown",
   "id": "fa78314e-1491-4c00-a6f8-4ce678c06fe9",
   "metadata": {
    "jp-MarkdownHeadingCollapsed": true,
    "tags": []
   },
   "source": [
    "##### Triglycerides ~ metabolites + [covar]"
   ]
  },
  {
   "cell_type": "code",
   "execution_count": 23,
   "id": "ad197eb7-932b-4bf0-b8b4-e104e0d9afbb",
   "metadata": {
    "tags": []
   },
   "outputs": [
    {
     "data": {
      "text/html": [
       "<pre style=\"white-space:pre;overflow-x:auto;line-height:normal;font-family:Menlo,'DejaVu Sans Mono',consolas,'Courier New',monospace\"></pre>\n"
      ],
      "text/plain": [
       "\u001b[?25l"
      ]
     },
     "metadata": {},
     "output_type": "display_data"
    },
    {
     "data": {
      "text/html": [
       "<pre style=\"white-space:pre;overflow-x:auto;line-height:normal;font-family:Menlo,'DejaVu Sans Mono',consolas,'Courier New',monospace\">\n",
       "</pre>\n"
      ],
      "text/plain": [
       "\n",
       "\u001b[?25h"
      ]
     },
     "metadata": {},
     "output_type": "display_data"
    }
   ],
   "source": [
    "# GENETIC\n",
    "def get_results(feature):\n",
    "    \n",
    "    \"\"\"Get a single association.\n",
    "    \n",
    "    As long as `args` and `df` are assigned this can be used on\n",
    "    any data set.\n",
    "    \"\"\"\n",
    "    formula = f\"TRIGLYCERIDES ~ {feature} + C(sex) + age + BMI_CALC + PC1 + PC2 + PC3 + PC4 + PC5\"\n",
    "    fitted = ols(formula, data=df).fit()\n",
    "    return pd.DataFrame({\n",
    "        \"feature\": feature,\n",
    "        \"beta\": fitted.params[feature],\n",
    "        \"t_statistic\": fitted.tvalues[feature],\n",
    "        \"p\": fitted.pvalues[feature],\n",
    "        \"n\": fitted.nobs\n",
    "        }, index=[feature])\n",
    "\n",
    "args = gen_only_features\n",
    "df = mac_str\n",
    "results = map(get_results, track(args))\n",
    "results = list(results)\n",
    "tests = pd.concat(results)\n",
    "tests[\"q\"] = multipletests(tests.p, method=\"fdr_bh\")[1]\n",
    "gen_tri_sig = tests[tests.q <= 0.05]\n",
    "## merge in names + pathway info to this data\n",
    "gen_tri_sig = pd.merge(gen_tri_sig, meta_names, on = \"feature\", how = \"inner\")"
   ]
  },
  {
   "cell_type": "code",
   "execution_count": 24,
   "id": "8d841aba-84f9-4a19-9c8c-881f3855c548",
   "metadata": {
    "tags": []
   },
   "outputs": [
    {
     "data": {
      "text/html": [
       "<pre style=\"white-space:pre;overflow-x:auto;line-height:normal;font-family:Menlo,'DejaVu Sans Mono',consolas,'Courier New',monospace\"></pre>\n"
      ],
      "text/plain": [
       "\u001b[?25l"
      ]
     },
     "metadata": {},
     "output_type": "display_data"
    },
    {
     "data": {
      "text/html": [
       "<pre style=\"white-space:pre;overflow-x:auto;line-height:normal;font-family:Menlo,'DejaVu Sans Mono',consolas,'Courier New',monospace\">\n",
       "</pre>\n"
      ],
      "text/plain": [
       "\n",
       "\u001b[?25h"
      ]
     },
     "metadata": {},
     "output_type": "display_data"
    }
   ],
   "source": [
    "# MICROBE\n",
    "def get_results(feature):\n",
    "    \n",
    "    \"\"\"Get a single association.\n",
    "    \n",
    "    As long as `args` and `df` are assigned this can be used on\n",
    "    any data set.\n",
    "    \"\"\"\n",
    "    formula = f\"TRIGLYCERIDES ~ {feature} + C(sex) + age + BMI_CALC + PC1 + PC2 + PC3 + PC4 + PC5\"\n",
    "    fitted = ols(formula, data=df).fit()\n",
    "    return pd.DataFrame({\n",
    "        \"feature\": feature,\n",
    "        \"beta\": fitted.params[feature],\n",
    "        \"t_statistic\": fitted.tvalues[feature],\n",
    "        \"p\": fitted.pvalues[feature],\n",
    "        \"n\": fitted.nobs\n",
    "        }, index=[feature])\n",
    "\n",
    "args = microbe_only_features\n",
    "df = mac_str\n",
    "results = map(get_results, track(args))\n",
    "results = list(results)\n",
    "tests = pd.concat(results)\n",
    "tests[\"q\"] = multipletests(tests.p, method=\"fdr_bh\")[1]\n",
    "mic_tri_sig = tests[tests.q <= 0.05]\n",
    "## merge in names + pathway info to this data\n",
    "mic_tri_sig = pd.merge(mic_tri_sig, meta_names, on = \"feature\", how = \"inner\")"
   ]
  },
  {
   "cell_type": "code",
   "execution_count": 25,
   "id": "d83be980-4290-426d-9d28-22dffcb11ccf",
   "metadata": {
    "tags": []
   },
   "outputs": [
    {
     "data": {
      "text/html": [
       "<pre style=\"white-space:pre;overflow-x:auto;line-height:normal;font-family:Menlo,'DejaVu Sans Mono',consolas,'Courier New',monospace\"></pre>\n"
      ],
      "text/plain": [
       "\u001b[?25l"
      ]
     },
     "metadata": {},
     "output_type": "display_data"
    },
    {
     "data": {
      "text/html": [
       "<pre style=\"white-space:pre;overflow-x:auto;line-height:normal;font-family:Menlo,'DejaVu Sans Mono',consolas,'Courier New',monospace\">\n",
       "</pre>\n"
      ],
      "text/plain": [
       "\n",
       "\u001b[?25h"
      ]
     },
     "metadata": {},
     "output_type": "display_data"
    }
   ],
   "source": [
    "# HYBRID\n",
    "def get_results(feature):\n",
    "    \n",
    "    \"\"\"Get a single association.\n",
    "    \n",
    "    As long as `args` and `df` are assigned this can be used on\n",
    "    any data set.\n",
    "    \"\"\"\n",
    "    formula = f\"TRIGLYCERIDES ~ {feature} + C(sex) + age + BMI_CALC + PC1 + PC2 + PC3 + PC4 + PC5\"\n",
    "    fitted = ols(formula, data=df).fit()\n",
    "    return pd.DataFrame({\n",
    "        \"feature\": feature,\n",
    "        \"beta\": fitted.params[feature],\n",
    "        \"t_statistic\": fitted.tvalues[feature],\n",
    "        \"p\": fitted.pvalues[feature],\n",
    "        \"n\": fitted.nobs\n",
    "        }, index=[feature])\n",
    "\n",
    "args = hybrid_features\n",
    "df = mac_str\n",
    "results = map(get_results, track(args))\n",
    "results = list(results)\n",
    "tests = pd.concat(results)\n",
    "tests[\"q\"] = multipletests(tests.p, method=\"fdr_bh\")[1]\n",
    "hyb_tri_sig = tests[tests.q <= 0.05]\n",
    "## merge in names + pathway info to this data\n",
    "hyb_tri_sig = pd.merge(hyb_tri_sig, meta_names, on = \"feature\", how = \"inner\")"
   ]
  },
  {
   "cell_type": "code",
   "execution_count": 26,
   "id": "58bebc87-95b2-4a2f-903a-62dd3f177a74",
   "metadata": {
    "tags": []
   },
   "outputs": [],
   "source": [
    "## now, putting the association bins + merging + excel sheet into one code block\n",
    "gen_tri_sig['assoc_bin']='genetic'\n",
    "mic_tri_sig['assoc_bin']='microbe'\n",
    "hyb_tri_sig['assoc_bin']='hybrid'\n",
    "\n",
    "tri_sig = pd.concat([gen_tri_sig, mic_tri_sig, hyb_tri_sig])"
   ]
  },
  {
   "cell_type": "code",
   "execution_count": null,
   "id": "5b8e5bfe-6b55-4e49-8871-6421d148c089",
   "metadata": {},
   "outputs": [],
   "source": [
    "with pd.ExcelWriter('MAC_Project_data.xlsx',\n",
    "                    mode='a') as writer:  \n",
    "    tri_sig.to_excel(writer, sheet_name='tri_sig')"
   ]
  },
  {
   "cell_type": "code",
   "execution_count": 27,
   "id": "b766217a-a6cc-4ee8-a071-e8a62eeac684",
   "metadata": {
    "tags": []
   },
   "outputs": [
    {
     "data": {
      "text/plain": [
       "Index(['metabolite_100000010', 'metabolite_100000014', 'metabolite_100000036',\n",
       "       'metabolite_100000042', 'metabolite_100000054', 'metabolite_100000257',\n",
       "       'metabolite_100000265', 'metabolite_100000276', 'metabolite_100000406',\n",
       "       'metabolite_100000436',\n",
       "       ...\n",
       "       'metabolite_999948094', 'metabolite_999949515', 'metabolite_999949521',\n",
       "       'metabolite_999949555', 'metabolite_999949557', 'metabolite_999949592',\n",
       "       'metabolite_999949681', 'metabolite_999952286', 'metabolite_999952877',\n",
       "       'metabolite_999952909'],\n",
       "      dtype='object', name='feature', length=479)"
      ]
     },
     "execution_count": 27,
     "metadata": {},
     "output_type": "execute_result"
    }
   ],
   "source": [
    "## turn features column into index feature to use for regression down the line\n",
    "tri_met_to_col = tri_sig[['feature', 'assoc_bin', 'p']].copy()\n",
    "tri_met_to_col = tri_met_to_col.pivot_table(index='assoc_bin', columns='feature', values='p')\n",
    "\n",
    "tri_features = tri_met_to_col.columns[0:]\n",
    "tri_features"
   ]
  },
  {
   "cell_type": "markdown",
   "id": "c66dbc7a-47fa-4df4-960f-5c9175d060c8",
   "metadata": {
    "jp-MarkdownHeadingCollapsed": true,
    "tags": []
   },
   "source": [
    "##### Red Cell Count ~ metabolites + [covar]"
   ]
  },
  {
   "cell_type": "code",
   "execution_count": 28,
   "id": "b4f111bd-fa4c-4d85-820a-1e839658795c",
   "metadata": {
    "tags": []
   },
   "outputs": [
    {
     "data": {
      "text/html": [
       "<pre style=\"white-space:pre;overflow-x:auto;line-height:normal;font-family:Menlo,'DejaVu Sans Mono',consolas,'Courier New',monospace\"></pre>\n"
      ],
      "text/plain": [
       "\u001b[?25l"
      ]
     },
     "metadata": {},
     "output_type": "display_data"
    },
    {
     "data": {
      "text/html": [
       "<pre style=\"white-space:pre;overflow-x:auto;line-height:normal;font-family:Menlo,'DejaVu Sans Mono',consolas,'Courier New',monospace\">\n",
       "</pre>\n"
      ],
      "text/plain": [
       "\n",
       "\u001b[?25h"
      ]
     },
     "metadata": {},
     "output_type": "display_data"
    }
   ],
   "source": [
    "# GENETIC\n",
    "def get_results(feature):\n",
    "    \n",
    "    \"\"\"Get a single association.\n",
    "    \n",
    "    As long as `args` and `df` are assigned this can be used on\n",
    "    any data set.\n",
    "    \"\"\"\n",
    "    formula = f\"RED_CELL_COUNT ~ {feature} + C(sex) + age + BMI_CALC + PC1 + PC2 + PC3 + PC4 + PC5\"\n",
    "    fitted = ols(formula, data=df).fit()\n",
    "    return pd.DataFrame({\n",
    "        \"feature\": feature,\n",
    "        \"beta\": fitted.params[feature],\n",
    "        \"t_statistic\": fitted.tvalues[feature],\n",
    "        \"p\": fitted.pvalues[feature],\n",
    "        \"n\": fitted.nobs\n",
    "        }, index=[feature])\n",
    "\n",
    "args = gen_only_features\n",
    "df = mac_str\n",
    "results = map(get_results, track(args))\n",
    "results = list(results)\n",
    "tests = pd.concat(results)\n",
    "tests[\"q\"] = multipletests(tests.p, method=\"fdr_bh\")[1]\n",
    "gen_rbc_sig = tests[tests.q <= 0.05]\n",
    "## merge in names + pathway info to this data\n",
    "gen_rbc_sig = pd.merge(gen_rbc_sig, meta_names, on = \"feature\", how = \"inner\")"
   ]
  },
  {
   "cell_type": "code",
   "execution_count": 29,
   "id": "f6d1e6f5-2105-44b2-8b66-4d7f36c6e62d",
   "metadata": {
    "tags": []
   },
   "outputs": [
    {
     "data": {
      "text/html": [
       "<pre style=\"white-space:pre;overflow-x:auto;line-height:normal;font-family:Menlo,'DejaVu Sans Mono',consolas,'Courier New',monospace\"></pre>\n"
      ],
      "text/plain": [
       "\u001b[?25l"
      ]
     },
     "metadata": {},
     "output_type": "display_data"
    },
    {
     "data": {
      "text/html": [
       "<pre style=\"white-space:pre;overflow-x:auto;line-height:normal;font-family:Menlo,'DejaVu Sans Mono',consolas,'Courier New',monospace\">\n",
       "</pre>\n"
      ],
      "text/plain": [
       "\n",
       "\u001b[?25h"
      ]
     },
     "metadata": {},
     "output_type": "display_data"
    }
   ],
   "source": [
    "# MICROBE\n",
    "def get_results(feature):\n",
    "    \n",
    "    \"\"\"Get a single association.\n",
    "    \n",
    "    As long as `args` and `df` are assigned this can be used on\n",
    "    any data set.\n",
    "    \"\"\"\n",
    "    formula = f\"RED_CELL_COUNT ~ {feature} + C(sex) + age + BMI_CALC + PC1 + PC2 + PC3 + PC4 + PC5\"\n",
    "    fitted = ols(formula, data=df).fit()\n",
    "    return pd.DataFrame({\n",
    "        \"feature\": feature,\n",
    "        \"beta\": fitted.params[feature],\n",
    "        \"t_statistic\": fitted.tvalues[feature],\n",
    "        \"p\": fitted.pvalues[feature],\n",
    "        \"n\": fitted.nobs\n",
    "        }, index=[feature])\n",
    "\n",
    "args = microbe_only_features\n",
    "df = mac_str\n",
    "results = map(get_results, track(args))\n",
    "results = list(results)\n",
    "tests = pd.concat(results)\n",
    "tests[\"q\"] = multipletests(tests.p, method=\"fdr_bh\")[1]\n",
    "mic_rbc_sig = tests[tests.q <= 0.05]\n",
    "## merge in names + pathway info to this data\n",
    "mic_rbc_sig = pd.merge(mic_rbc_sig, meta_names, on = \"feature\", how = \"inner\")"
   ]
  },
  {
   "cell_type": "code",
   "execution_count": 30,
   "id": "23c09812-9f0e-421b-98d3-b3a372a1a70f",
   "metadata": {
    "tags": []
   },
   "outputs": [
    {
     "data": {
      "text/html": [
       "<pre style=\"white-space:pre;overflow-x:auto;line-height:normal;font-family:Menlo,'DejaVu Sans Mono',consolas,'Courier New',monospace\"></pre>\n"
      ],
      "text/plain": [
       "\u001b[?25l"
      ]
     },
     "metadata": {},
     "output_type": "display_data"
    },
    {
     "data": {
      "text/html": [
       "<pre style=\"white-space:pre;overflow-x:auto;line-height:normal;font-family:Menlo,'DejaVu Sans Mono',consolas,'Courier New',monospace\">\n",
       "</pre>\n"
      ],
      "text/plain": [
       "\n",
       "\u001b[?25h"
      ]
     },
     "metadata": {},
     "output_type": "display_data"
    }
   ],
   "source": [
    "# HYBRID\n",
    "def get_results(feature):\n",
    "    \n",
    "    \"\"\"Get a single association.\n",
    "    \n",
    "    As long as `args` and `df` are assigned this can be used on\n",
    "    any data set.\n",
    "    \"\"\"\n",
    "    formula = f\"RED_CELL_COUNT ~ {feature} + C(sex) + age + BMI_CALC + PC1 + PC2 + PC3 + PC4 + PC5\"\n",
    "    fitted = ols(formula, data=df).fit()\n",
    "    return pd.DataFrame({\n",
    "        \"feature\": feature,\n",
    "        \"beta\": fitted.params[feature],\n",
    "        \"t_statistic\": fitted.tvalues[feature],\n",
    "        \"p\": fitted.pvalues[feature],\n",
    "        \"n\": fitted.nobs\n",
    "        }, index=[feature])\n",
    "\n",
    "args = hybrid_features\n",
    "df = mac_str\n",
    "results = map(get_results, track(args))\n",
    "results = list(results)\n",
    "tests = pd.concat(results)\n",
    "tests[\"q\"] = multipletests(tests.p, method=\"fdr_bh\")[1]\n",
    "hyb_rbc_sig = tests[tests.q <= 0.05]\n",
    "## merge in names + pathway info to this data\n",
    "hyb_rbc_sig = pd.merge(hyb_rbc_sig, meta_names, on = \"feature\", how = \"inner\")"
   ]
  },
  {
   "cell_type": "code",
   "execution_count": 31,
   "id": "37b08e2c-e9f3-43d6-abb4-fb3e7d1d40fc",
   "metadata": {
    "tags": []
   },
   "outputs": [],
   "source": [
    "## now, putting the association bins + merging + excel sheet into one code block\n",
    "gen_rbc_sig['assoc_bin']='genetic'\n",
    "mic_rbc_sig['assoc_bin']='microbe'\n",
    "hyb_rbc_sig['assoc_bin']='hybrid'\n",
    "\n",
    "rbc_sig = pd.concat([gen_rbc_sig, mic_rbc_sig, hyb_rbc_sig])"
   ]
  },
  {
   "cell_type": "code",
   "execution_count": null,
   "id": "45a2a7c7-0f26-43bf-974c-e115efa368f6",
   "metadata": {},
   "outputs": [],
   "source": [
    "with pd.ExcelWriter('MAC_Project_data.xlsx',\n",
    "                    mode='a') as writer:  \n",
    "    rbc_sig.to_excel(writer, sheet_name='rbc_sig')"
   ]
  },
  {
   "cell_type": "code",
   "execution_count": 32,
   "id": "dcafe5fd-69a4-4fd5-9231-77c9a5270a02",
   "metadata": {
    "tags": []
   },
   "outputs": [
    {
     "data": {
      "text/plain": [
       "Index(['metabolite_100000036', 'metabolite_100000039', 'metabolite_100000257',\n",
       "       'metabolite_100000263', 'metabolite_100000442', 'metabolite_100000551',\n",
       "       'metabolite_100000656', 'metabolite_100000657', 'metabolite_100000707',\n",
       "       'metabolite_100000776',\n",
       "       ...\n",
       "       'metabolite_999946977', 'metabolite_999946997', 'metabolite_999947417',\n",
       "       'metabolite_999947642', 'metabolite_999947804', 'metabolite_999947905',\n",
       "       'metabolite_999949515', 'metabolite_999949557', 'metabolite_999949592',\n",
       "       'metabolite_999952502'],\n",
       "      dtype='object', name='feature', length=216)"
      ]
     },
     "execution_count": 32,
     "metadata": {},
     "output_type": "execute_result"
    }
   ],
   "source": [
    "## turn features column into index feature to use for regression down the line\n",
    "rbc_met_to_col = rbc_sig[['feature', 'assoc_bin', 'p']].copy()\n",
    "rbc_met_to_col = rbc_met_to_col.pivot_table(index='assoc_bin', columns='feature', values='p')\n",
    "\n",
    "rbc_features = rbc_met_to_col.columns[0:]\n",
    "rbc_features"
   ]
  },
  {
   "cell_type": "markdown",
   "id": "674d6fe1-0c92-44fa-8519-bc1c13e81d24",
   "metadata": {
    "jp-MarkdownHeadingCollapsed": true,
    "tags": []
   },
   "source": [
    "##### A1C ~ metabolites + [covar]"
   ]
  },
  {
   "cell_type": "code",
   "execution_count": 33,
   "id": "f36b8c21-c6bc-4b22-a939-5f62fc7819f6",
   "metadata": {
    "tags": []
   },
   "outputs": [
    {
     "data": {
      "text/html": [
       "<pre style=\"white-space:pre;overflow-x:auto;line-height:normal;font-family:Menlo,'DejaVu Sans Mono',consolas,'Courier New',monospace\"></pre>\n"
      ],
      "text/plain": [
       "\u001b[?25l"
      ]
     },
     "metadata": {},
     "output_type": "display_data"
    },
    {
     "data": {
      "text/html": [
       "<pre style=\"white-space:pre;overflow-x:auto;line-height:normal;font-family:Menlo,'DejaVu Sans Mono',consolas,'Courier New',monospace\">\n",
       "</pre>\n"
      ],
      "text/plain": [
       "\n",
       "\u001b[?25h"
      ]
     },
     "metadata": {},
     "output_type": "display_data"
    }
   ],
   "source": [
    "# GENETIC\n",
    "def get_results(feature):\n",
    "    \n",
    "    \"\"\"Get a single association.\n",
    "    \n",
    "    As long as `args` and `df` are assigned this can be used on\n",
    "    any data set.\n",
    "    \"\"\"\n",
    "    formula = f\"GLYCOHEMOGLOBIN_A1C ~ {feature} + C(sex) + age + BMI_CALC + PC1 + PC2 + PC3 + PC4 + PC5\"\n",
    "    fitted = ols(formula, data=df).fit()\n",
    "    return pd.DataFrame({\n",
    "        \"feature\": feature,\n",
    "        \"beta\": fitted.params[feature],\n",
    "        \"t_statistic\": fitted.tvalues[feature],\n",
    "        \"p\": fitted.pvalues[feature],\n",
    "        \"n\": fitted.nobs\n",
    "        }, index=[feature])\n",
    "\n",
    "args = gen_only_features\n",
    "df = mac_str\n",
    "results = map(get_results, track(args))\n",
    "results = list(results)\n",
    "tests = pd.concat(results)\n",
    "tests[\"q\"] = multipletests(tests.p, method=\"fdr_bh\")[1]\n",
    "gen_a1c_sig = tests[tests.q <= 0.05]\n",
    "## merge in names + pathway info to this data\n",
    "gen_a1c_sig = pd.merge(gen_a1c_sig, meta_names, on = \"feature\", how = \"inner\")"
   ]
  },
  {
   "cell_type": "code",
   "execution_count": 34,
   "id": "02b2c515-8a8a-435c-9f6c-05c1e4212e93",
   "metadata": {
    "tags": []
   },
   "outputs": [
    {
     "data": {
      "text/html": [
       "<pre style=\"white-space:pre;overflow-x:auto;line-height:normal;font-family:Menlo,'DejaVu Sans Mono',consolas,'Courier New',monospace\"></pre>\n"
      ],
      "text/plain": [
       "\u001b[?25l"
      ]
     },
     "metadata": {},
     "output_type": "display_data"
    },
    {
     "data": {
      "text/html": [
       "<pre style=\"white-space:pre;overflow-x:auto;line-height:normal;font-family:Menlo,'DejaVu Sans Mono',consolas,'Courier New',monospace\">\n",
       "</pre>\n"
      ],
      "text/plain": [
       "\n",
       "\u001b[?25h"
      ]
     },
     "metadata": {},
     "output_type": "display_data"
    }
   ],
   "source": [
    "# MICROBE\n",
    "def get_results(feature):\n",
    "    \n",
    "    \"\"\"Get a single association.\n",
    "    \n",
    "    As long as `args` and `df` are assigned this can be used on\n",
    "    any data set.\n",
    "    \"\"\"\n",
    "    formula = f\"GLYCOHEMOGLOBIN_A1C ~ {feature} + C(sex) + age + BMI_CALC + PC1 + PC2 + PC3 + PC4 + PC5\"\n",
    "    fitted = ols(formula, data=df).fit()\n",
    "    return pd.DataFrame({\n",
    "        \"feature\": feature,\n",
    "        \"beta\": fitted.params[feature],\n",
    "        \"t_statistic\": fitted.tvalues[feature],\n",
    "        \"p\": fitted.pvalues[feature],\n",
    "        \"n\": fitted.nobs\n",
    "        }, index=[feature])\n",
    "\n",
    "args = microbe_only_features\n",
    "df = mac_str\n",
    "results = map(get_results, track(args))\n",
    "results = list(results)\n",
    "tests = pd.concat(results)\n",
    "tests[\"q\"] = multipletests(tests.p, method=\"fdr_bh\")[1]\n",
    "mic_a1c_sig = tests[tests.q <= 0.05]\n",
    "## merge in names + pathway info to this data\n",
    "mic_a1c_sig = pd.merge(mic_a1c_sig, meta_names, on = \"feature\", how = \"inner\")"
   ]
  },
  {
   "cell_type": "code",
   "execution_count": 35,
   "id": "b51048e2-b9b5-472e-aca3-9549baf937f4",
   "metadata": {
    "tags": []
   },
   "outputs": [
    {
     "data": {
      "text/html": [
       "<pre style=\"white-space:pre;overflow-x:auto;line-height:normal;font-family:Menlo,'DejaVu Sans Mono',consolas,'Courier New',monospace\"></pre>\n"
      ],
      "text/plain": [
       "\u001b[?25l"
      ]
     },
     "metadata": {},
     "output_type": "display_data"
    },
    {
     "data": {
      "text/html": [
       "<pre style=\"white-space:pre;overflow-x:auto;line-height:normal;font-family:Menlo,'DejaVu Sans Mono',consolas,'Courier New',monospace\">\n",
       "</pre>\n"
      ],
      "text/plain": [
       "\n",
       "\u001b[?25h"
      ]
     },
     "metadata": {},
     "output_type": "display_data"
    }
   ],
   "source": [
    "# HYBRID\n",
    "def get_results(feature):\n",
    "    \n",
    "    \"\"\"Get a single association.\n",
    "    \n",
    "    As long as `args` and `df` are assigned this can be used on\n",
    "    any data set.\n",
    "    \"\"\"\n",
    "    formula = f\"GLYCOHEMOGLOBIN_A1C ~ {feature} + C(sex) + age + BMI_CALC + PC1 + PC2 + PC3 + PC4 + PC5\"\n",
    "    fitted = ols(formula, data=df).fit()\n",
    "    return pd.DataFrame({\n",
    "        \"feature\": feature,\n",
    "        \"beta\": fitted.params[feature],\n",
    "        \"t_statistic\": fitted.tvalues[feature],\n",
    "        \"p\": fitted.pvalues[feature],\n",
    "        \"n\": fitted.nobs\n",
    "        }, index=[feature])\n",
    "\n",
    "args = hybrid_features\n",
    "df = mac_str\n",
    "results = map(get_results, track(args))\n",
    "results = list(results)\n",
    "tests = pd.concat(results)\n",
    "tests[\"q\"] = multipletests(tests.p, method=\"fdr_bh\")[1]\n",
    "hyb_a1c_sig = tests[tests.q <= 0.05]\n",
    "## merge in names + pathway info to this data\n",
    "hyb_a1c_sig = pd.merge(hyb_a1c_sig, meta_names, on = \"feature\", how = \"inner\")"
   ]
  },
  {
   "cell_type": "code",
   "execution_count": 36,
   "id": "f9191556-3eb3-44b8-872c-8747e0a5f092",
   "metadata": {
    "tags": []
   },
   "outputs": [],
   "source": [
    "## now, putting the association bins + merging + excel sheet into one code block\n",
    "gen_a1c_sig['assoc_bin']='genetic'\n",
    "mic_a1c_sig['assoc_bin']='microbe'\n",
    "hyb_a1c_sig['assoc_bin']='hybrid'\n",
    "\n",
    "a1c_sig = pd.concat([gen_a1c_sig, mic_a1c_sig, hyb_a1c_sig])"
   ]
  },
  {
   "cell_type": "code",
   "execution_count": null,
   "id": "5f13257b-6e4e-42df-a411-00aaddddd021",
   "metadata": {},
   "outputs": [],
   "source": [
    "with pd.ExcelWriter('MAC_Project_data.xlsx',\n",
    "                    mode='a') as writer:  \n",
    "    a1c_sig.to_excel(writer, sheet_name='a1c_sig')"
   ]
  },
  {
   "cell_type": "code",
   "execution_count": 37,
   "id": "8e0a4838-2470-4b5b-bfe1-ed8495c03b9b",
   "metadata": {
    "tags": []
   },
   "outputs": [
    {
     "data": {
      "text/plain": [
       "Index(['metabolite_100000007', 'metabolite_100000036', 'metabolite_100000263',\n",
       "       'metabolite_100000276', 'metabolite_100000282', 'metabolite_100000406',\n",
       "       'metabolite_100000551', 'metabolite_100000580', 'metabolite_100000656',\n",
       "       'metabolite_100000657',\n",
       "       ...\n",
       "       'metabolite_999946707', 'metabolite_999946970', 'metabolite_999946977',\n",
       "       'metabolite_999947006', 'metabolite_999947642', 'metabolite_999947905',\n",
       "       'metabolite_999947993', 'metabolite_999949515', 'metabolite_999949592',\n",
       "       'metabolite_999952877'],\n",
       "      dtype='object', name='feature', length=311)"
      ]
     },
     "execution_count": 37,
     "metadata": {},
     "output_type": "execute_result"
    }
   ],
   "source": [
    "## turn features column into index feature to use for regression down the line\n",
    "a1c_met_to_col = a1c_sig[['feature', 'assoc_bin', 'p']].copy()\n",
    "a1c_met_to_col = a1c_met_to_col.pivot_table(index='assoc_bin', columns='feature', values='p')\n",
    "\n",
    "a1c_features = a1c_met_to_col.columns[0:]\n",
    "a1c_features"
   ]
  },
  {
   "cell_type": "markdown",
   "id": "4eb98efc-bf1e-46d7-aefb-fa162b527de7",
   "metadata": {
    "jp-MarkdownHeadingCollapsed": true,
    "tags": []
   },
   "source": [
    "##### Insulin ~ metabolites + [covar]"
   ]
  },
  {
   "cell_type": "code",
   "execution_count": 38,
   "id": "edc091ae-2f85-496a-9c90-770ac4c5504c",
   "metadata": {
    "tags": []
   },
   "outputs": [
    {
     "data": {
      "text/html": [
       "<pre style=\"white-space:pre;overflow-x:auto;line-height:normal;font-family:Menlo,'DejaVu Sans Mono',consolas,'Courier New',monospace\"></pre>\n"
      ],
      "text/plain": [
       "\u001b[?25l"
      ]
     },
     "metadata": {},
     "output_type": "display_data"
    },
    {
     "data": {
      "text/html": [
       "<pre style=\"white-space:pre;overflow-x:auto;line-height:normal;font-family:Menlo,'DejaVu Sans Mono',consolas,'Courier New',monospace\">\n",
       "</pre>\n"
      ],
      "text/plain": [
       "\n",
       "\u001b[?25h"
      ]
     },
     "metadata": {},
     "output_type": "display_data"
    }
   ],
   "source": [
    "# GENETIC\n",
    "def get_results(feature):\n",
    "    \n",
    "    \"\"\"Get a single association.\n",
    "    \n",
    "    As long as `args` and `df` are assigned this can be used on\n",
    "    any data set.\n",
    "    \"\"\"\n",
    "    formula = f\"INSULIN ~ {feature} + C(sex) + age + BMI_CALC + PC1 + PC2 + PC3 + PC4 + PC5\"\n",
    "    fitted = ols(formula, data=df).fit()\n",
    "    return pd.DataFrame({\n",
    "        \"feature\": feature,\n",
    "        \"beta\": fitted.params[feature],\n",
    "        \"t_statistic\": fitted.tvalues[feature],\n",
    "        \"p\": fitted.pvalues[feature],\n",
    "        \"n\": fitted.nobs\n",
    "        }, index=[feature])\n",
    "\n",
    "args = gen_only_features\n",
    "df = mac_str\n",
    "results = map(get_results, track(args))\n",
    "results = list(results)\n",
    "tests = pd.concat(results)\n",
    "tests[\"q\"] = multipletests(tests.p, method=\"fdr_bh\")[1]\n",
    "gen_ins_sig = tests[tests.q <= 0.05]\n",
    "## merge in names + pathway info to this data\n",
    "gen_ins_sig = pd.merge(gen_ins_sig, meta_names, on = \"feature\", how = \"inner\")"
   ]
  },
  {
   "cell_type": "code",
   "execution_count": 39,
   "id": "58620b26-7c47-4989-90bf-564bed1924a8",
   "metadata": {
    "tags": []
   },
   "outputs": [
    {
     "data": {
      "text/html": [
       "<pre style=\"white-space:pre;overflow-x:auto;line-height:normal;font-family:Menlo,'DejaVu Sans Mono',consolas,'Courier New',monospace\"></pre>\n"
      ],
      "text/plain": [
       "\u001b[?25l"
      ]
     },
     "metadata": {},
     "output_type": "display_data"
    },
    {
     "data": {
      "text/html": [
       "<pre style=\"white-space:pre;overflow-x:auto;line-height:normal;font-family:Menlo,'DejaVu Sans Mono',consolas,'Courier New',monospace\">\n",
       "</pre>\n"
      ],
      "text/plain": [
       "\n",
       "\u001b[?25h"
      ]
     },
     "metadata": {},
     "output_type": "display_data"
    }
   ],
   "source": [
    "# MICROBE\n",
    "def get_results(feature):\n",
    "    \n",
    "    \"\"\"Get a single association.\n",
    "    \n",
    "    As long as `args` and `df` are assigned this can be used on\n",
    "    any data set.\n",
    "    \"\"\"\n",
    "    formula = f\"INSULIN ~ {feature} + C(sex) + age + BMI_CALC + PC1 + PC2 + PC3 + PC4 + PC5\"\n",
    "    fitted = ols(formula, data=df).fit()\n",
    "    return pd.DataFrame({\n",
    "        \"feature\": feature,\n",
    "        \"beta\": fitted.params[feature],\n",
    "        \"t_statistic\": fitted.tvalues[feature],\n",
    "        \"p\": fitted.pvalues[feature],\n",
    "        \"n\": fitted.nobs\n",
    "        }, index=[feature])\n",
    "\n",
    "args = microbe_only_features\n",
    "df = mac_str\n",
    "results = map(get_results, track(args))\n",
    "results = list(results)\n",
    "tests = pd.concat(results)\n",
    "tests[\"q\"] = multipletests(tests.p, method=\"fdr_bh\")[1]\n",
    "mic_ins_sig = tests[tests.q <= 0.05]\n",
    "## merge in names + pathway info to this data\n",
    "mic_ins_sig = pd.merge(mic_ins_sig, meta_names, on = \"feature\", how = \"inner\")"
   ]
  },
  {
   "cell_type": "code",
   "execution_count": 40,
   "id": "9030c9fd-4d01-459b-a6b6-7d860320c77d",
   "metadata": {
    "tags": []
   },
   "outputs": [
    {
     "data": {
      "text/html": [
       "<pre style=\"white-space:pre;overflow-x:auto;line-height:normal;font-family:Menlo,'DejaVu Sans Mono',consolas,'Courier New',monospace\"></pre>\n"
      ],
      "text/plain": [
       "\u001b[?25l"
      ]
     },
     "metadata": {},
     "output_type": "display_data"
    },
    {
     "data": {
      "text/html": [
       "<pre style=\"white-space:pre;overflow-x:auto;line-height:normal;font-family:Menlo,'DejaVu Sans Mono',consolas,'Courier New',monospace\">\n",
       "</pre>\n"
      ],
      "text/plain": [
       "\n",
       "\u001b[?25h"
      ]
     },
     "metadata": {},
     "output_type": "display_data"
    }
   ],
   "source": [
    "# HYBRID\n",
    "def get_results(feature):\n",
    "    \n",
    "    \"\"\"Get a single association.\n",
    "    \n",
    "    As long as `args` and `df` are assigned this can be used on\n",
    "    any data set.\n",
    "    \"\"\"\n",
    "    formula = f\"INSULIN ~ {feature} + C(sex) + age + BMI_CALC + PC1 + PC2 + PC3 + PC4 + PC5\"\n",
    "    fitted = ols(formula, data=df).fit()\n",
    "    return pd.DataFrame({\n",
    "        \"feature\": feature,\n",
    "        \"beta\": fitted.params[feature],\n",
    "        \"t_statistic\": fitted.tvalues[feature],\n",
    "        \"p\": fitted.pvalues[feature],\n",
    "        \"n\": fitted.nobs\n",
    "        }, index=[feature])\n",
    "\n",
    "args = hybrid_features\n",
    "df = mac_str\n",
    "results = map(get_results, track(args))\n",
    "results = list(results)\n",
    "tests = pd.concat(results)\n",
    "tests[\"q\"] = multipletests(tests.p, method=\"fdr_bh\")[1]\n",
    "hyb_ins_sig = tests[tests.q <= 0.05]\n",
    "## merge in names + pathway info to this data\n",
    "hyb_ins_sig = pd.merge(hyb_ins_sig, meta_names, on = \"feature\", how = \"inner\")"
   ]
  },
  {
   "cell_type": "code",
   "execution_count": 41,
   "id": "62b15259-28e9-4768-9ebc-05ffd5be6345",
   "metadata": {
    "tags": []
   },
   "outputs": [],
   "source": [
    "## now, putting the association bins + merging + excel sheet into one code block\n",
    "gen_ins_sig['assoc_bin']='genetic'\n",
    "mic_ins_sig['assoc_bin']='microbe'\n",
    "hyb_ins_sig['assoc_bin']='hybrid'\n",
    "\n",
    "ins_sig = pd.concat([gen_ins_sig, mic_ins_sig, hyb_ins_sig])"
   ]
  },
  {
   "cell_type": "code",
   "execution_count": null,
   "id": "eff94e37-7735-4cdc-adad-56cf641e5732",
   "metadata": {},
   "outputs": [],
   "source": [
    "with pd.ExcelWriter('MAC_Project_data.xlsx',\n",
    "                    mode='a') as writer:  \n",
    "    ins_sig.to_excel(writer, sheet_name='ins_sig')"
   ]
  },
  {
   "cell_type": "code",
   "execution_count": 42,
   "id": "7e525e5b-3a38-429d-8060-6046e8399a73",
   "metadata": {
    "tags": []
   },
   "outputs": [
    {
     "data": {
      "text/plain": [
       "Index(['metabolite_100000036', 'metabolite_100000054', 'metabolite_100000263',\n",
       "       'metabolite_100000265', 'metabolite_100000282', 'metabolite_100000406',\n",
       "       'metabolite_100000436', 'metabolite_100000445', 'metabolite_100000463',\n",
       "       'metabolite_100000467',\n",
       "       ...\n",
       "       'metabolite_999947971', 'metabolite_999947993', 'metabolite_999948076',\n",
       "       'metabolite_999949515', 'metabolite_999949555', 'metabolite_999949557',\n",
       "       'metabolite_999949592', 'metabolite_999949681', 'metabolite_999952502',\n",
       "       'metabolite_999952909'],\n",
       "      dtype='object', name='feature', length=426)"
      ]
     },
     "execution_count": 42,
     "metadata": {},
     "output_type": "execute_result"
    }
   ],
   "source": [
    "## turn features column into index feature to use for regression down the line\n",
    "ins_met_to_col = ins_sig[['feature', 'assoc_bin', 'p']].copy()\n",
    "ins_met_to_col = ins_met_to_col.pivot_table(index='assoc_bin', columns='feature', values='p')\n",
    "\n",
    "ins_features = ins_met_to_col.columns[0:]\n",
    "ins_features"
   ]
  },
  {
   "cell_type": "markdown",
   "id": "c4a393d7-be67-46d4-ba8e-0ad758ac16f4",
   "metadata": {
    "jp-MarkdownHeadingCollapsed": true,
    "tags": []
   },
   "source": [
    "##### Protein ~ metabolites + [covar]"
   ]
  },
  {
   "cell_type": "code",
   "execution_count": 43,
   "id": "1a3f4646-d237-4b6d-b70d-8967431ef8d8",
   "metadata": {
    "tags": []
   },
   "outputs": [
    {
     "data": {
      "text/html": [
       "<pre style=\"white-space:pre;overflow-x:auto;line-height:normal;font-family:Menlo,'DejaVu Sans Mono',consolas,'Courier New',monospace\"></pre>\n"
      ],
      "text/plain": [
       "\u001b[?25l"
      ]
     },
     "metadata": {},
     "output_type": "display_data"
    },
    {
     "data": {
      "text/html": [
       "<pre style=\"white-space:pre;overflow-x:auto;line-height:normal;font-family:Menlo,'DejaVu Sans Mono',consolas,'Courier New',monospace\">\n",
       "</pre>\n"
      ],
      "text/plain": [
       "\n",
       "\u001b[?25h"
      ]
     },
     "metadata": {},
     "output_type": "display_data"
    }
   ],
   "source": [
    "# GENETIC\n",
    "def get_results(feature):\n",
    "    \n",
    "    \"\"\"Get a single association.\n",
    "    \n",
    "    As long as `args` and `df` are assigned this can be used on\n",
    "    any data set.\n",
    "    \"\"\"\n",
    "    formula = f\"PROTEIN_TOTAL_SERUM ~ {feature} + C(sex) + age + BMI_CALC + PC1 + PC2 + PC3 + PC4 + PC5\"\n",
    "    fitted = ols(formula, data=df).fit()\n",
    "    return pd.DataFrame({\n",
    "        \"feature\": feature,\n",
    "        \"beta\": fitted.params[feature],\n",
    "        \"t_statistic\": fitted.tvalues[feature],\n",
    "        \"p\": fitted.pvalues[feature],\n",
    "        \"n\": fitted.nobs\n",
    "        }, index=[feature])\n",
    "\n",
    "args = gen_only_features\n",
    "df = mac_str\n",
    "results = map(get_results, track(args))\n",
    "results = list(results)\n",
    "tests = pd.concat(results)\n",
    "tests[\"q\"] = multipletests(tests.p, method=\"fdr_bh\")[1]\n",
    "gen_pro_sig = tests[tests.q <= 0.05]\n",
    "## merge in names + pathway info to this data\n",
    "gen_pro_sig = pd.merge(gen_pro_sig, meta_names, on = \"feature\", how = \"inner\")"
   ]
  },
  {
   "cell_type": "code",
   "execution_count": 44,
   "id": "1b9ec066-beaa-4469-ab45-4de69a0fbe18",
   "metadata": {
    "tags": []
   },
   "outputs": [
    {
     "data": {
      "text/html": [
       "<pre style=\"white-space:pre;overflow-x:auto;line-height:normal;font-family:Menlo,'DejaVu Sans Mono',consolas,'Courier New',monospace\"></pre>\n"
      ],
      "text/plain": [
       "\u001b[?25l"
      ]
     },
     "metadata": {},
     "output_type": "display_data"
    },
    {
     "data": {
      "text/html": [
       "<pre style=\"white-space:pre;overflow-x:auto;line-height:normal;font-family:Menlo,'DejaVu Sans Mono',consolas,'Courier New',monospace\">\n",
       "</pre>\n"
      ],
      "text/plain": [
       "\n",
       "\u001b[?25h"
      ]
     },
     "metadata": {},
     "output_type": "display_data"
    }
   ],
   "source": [
    "# MICROBE\n",
    "def get_results(feature):\n",
    "    \n",
    "    \"\"\"Get a single association.\n",
    "    \n",
    "    As long as `args` and `df` are assigned this can be used on\n",
    "    any data set.\n",
    "    \"\"\"\n",
    "    formula = f\"PROTEIN_TOTAL_SERUM ~ {feature} + C(sex) + age + BMI_CALC + PC1 + PC2 + PC3 + PC4 + PC5\"\n",
    "    fitted = ols(formula, data=df).fit()\n",
    "    return pd.DataFrame({\n",
    "        \"feature\": feature,\n",
    "        \"beta\": fitted.params[feature],\n",
    "        \"t_statistic\": fitted.tvalues[feature],\n",
    "        \"p\": fitted.pvalues[feature],\n",
    "        \"n\": fitted.nobs\n",
    "        }, index=[feature])\n",
    "\n",
    "args = microbe_only_features\n",
    "df = mac_str\n",
    "results = map(get_results, track(args))\n",
    "results = list(results)\n",
    "tests = pd.concat(results)\n",
    "tests[\"q\"] = multipletests(tests.p, method=\"fdr_bh\")[1]\n",
    "mic_pro_sig = tests[tests.q <= 0.05]\n",
    "## merge in names + pathway info to this data\n",
    "mic_pro_sig = pd.merge(mic_pro_sig, meta_names, on = \"feature\", how = \"inner\")"
   ]
  },
  {
   "cell_type": "code",
   "execution_count": 45,
   "id": "ceb21c7a-00e9-47ca-bec8-9ff07a3e71aa",
   "metadata": {
    "tags": []
   },
   "outputs": [
    {
     "data": {
      "text/html": [
       "<pre style=\"white-space:pre;overflow-x:auto;line-height:normal;font-family:Menlo,'DejaVu Sans Mono',consolas,'Courier New',monospace\"></pre>\n"
      ],
      "text/plain": [
       "\u001b[?25l"
      ]
     },
     "metadata": {},
     "output_type": "display_data"
    },
    {
     "data": {
      "text/html": [
       "<pre style=\"white-space:pre;overflow-x:auto;line-height:normal;font-family:Menlo,'DejaVu Sans Mono',consolas,'Courier New',monospace\">\n",
       "</pre>\n"
      ],
      "text/plain": [
       "\n",
       "\u001b[?25h"
      ]
     },
     "metadata": {},
     "output_type": "display_data"
    }
   ],
   "source": [
    "# HYBRID\n",
    "def get_results(feature):\n",
    "    \n",
    "    \"\"\"Get a single association.\n",
    "    \n",
    "    As long as `args` and `df` are assigned this can be used on\n",
    "    any data set.\n",
    "    \"\"\"\n",
    "    formula = f\"PROTEIN_TOTAL_SERUM ~ {feature} + C(sex) + age + BMI_CALC + PC1 + PC2 + PC3 + PC4 + PC5\"\n",
    "    fitted = ols(formula, data=df).fit()\n",
    "    return pd.DataFrame({\n",
    "        \"feature\": feature,\n",
    "        \"beta\": fitted.params[feature],\n",
    "        \"t_statistic\": fitted.tvalues[feature],\n",
    "        \"p\": fitted.pvalues[feature],\n",
    "        \"n\": fitted.nobs\n",
    "        }, index=[feature])\n",
    "\n",
    "args = hybrid_features\n",
    "df = mac_str\n",
    "results = map(get_results, track(args))\n",
    "results = list(results)\n",
    "tests = pd.concat(results)\n",
    "tests[\"q\"] = multipletests(tests.p, method=\"fdr_bh\")[1]\n",
    "hyb_pro_sig = tests[tests.q <= 0.05]\n",
    "## merge in names + pathway info to this data\n",
    "hyb_pro_sig = pd.merge(hyb_pro_sig, meta_names, on = \"feature\", how = \"inner\")"
   ]
  },
  {
   "cell_type": "code",
   "execution_count": 46,
   "id": "2ec48a9a-5574-47a7-a8b0-df07804710c5",
   "metadata": {
    "tags": []
   },
   "outputs": [],
   "source": [
    "## now, putting the association bins + merging + excel sheet into one code block\n",
    "gen_pro_sig['assoc_bin']='genetic'\n",
    "mic_pro_sig['assoc_bin']='microbe'\n",
    "hyb_pro_sig['assoc_bin']='hybrid'\n",
    "\n",
    "pro_sig = pd.concat([gen_pro_sig, mic_pro_sig, hyb_pro_sig])"
   ]
  },
  {
   "cell_type": "code",
   "execution_count": null,
   "id": "55af008c-2822-46a8-a9b0-81e1606e6aa9",
   "metadata": {},
   "outputs": [],
   "source": [
    "with pd.ExcelWriter('MAC_Project_data.xlsx',\n",
    "                    mode='a') as writer:  \n",
    "    pro_sig.to_excel(writer, sheet_name='pro_sig')"
   ]
  },
  {
   "cell_type": "code",
   "execution_count": 47,
   "id": "ce522fb0-ca7f-4099-9edf-05d926e5b802",
   "metadata": {
    "tags": []
   },
   "outputs": [
    {
     "data": {
      "text/plain": [
       "Index(['metabolite_100000007', 'metabolite_100000014', 'metabolite_100000036',\n",
       "       'metabolite_100000039', 'metabolite_100000263', 'metabolite_100000265',\n",
       "       'metabolite_100000276', 'metabolite_100000442', 'metabolite_100000551',\n",
       "       'metabolite_100000580',\n",
       "       ...\n",
       "       'metabolite_999948047', 'metabolite_999948076', 'metabolite_999948094',\n",
       "       'metabolite_999949515', 'metabolite_999949557', 'metabolite_999949637',\n",
       "       'metabolite_999949681', 'metabolite_999952502', 'metabolite_999952877',\n",
       "       'metabolite_999952909'],\n",
       "      dtype='object', name='feature', length=377)"
      ]
     },
     "execution_count": 47,
     "metadata": {},
     "output_type": "execute_result"
    }
   ],
   "source": [
    "## turn features column into index feature to use for regression down the line\n",
    "pro_met_to_col = pro_sig[['feature', 'assoc_bin', 'p']].copy()\n",
    "pro_met_to_col = pro_met_to_col.pivot_table(index='assoc_bin', columns='feature', values='p')\n",
    "\n",
    "pro_features = pro_met_to_col.columns[0:]\n",
    "pro_features"
   ]
  },
  {
   "cell_type": "markdown",
   "id": "91e74d43-a51f-4ace-8da8-96a151c34893",
   "metadata": {
    "jp-MarkdownHeadingCollapsed": true,
    "tags": []
   },
   "source": [
    "##### Urea Nitrogen ~ metabolites + [covar]"
   ]
  },
  {
   "cell_type": "code",
   "execution_count": 48,
   "id": "2346acdd-2fca-4ad4-b389-190271c09431",
   "metadata": {
    "tags": []
   },
   "outputs": [
    {
     "data": {
      "text/html": [
       "<pre style=\"white-space:pre;overflow-x:auto;line-height:normal;font-family:Menlo,'DejaVu Sans Mono',consolas,'Courier New',monospace\"></pre>\n"
      ],
      "text/plain": [
       "\u001b[?25l"
      ]
     },
     "metadata": {},
     "output_type": "display_data"
    },
    {
     "data": {
      "text/html": [
       "<pre style=\"white-space:pre;overflow-x:auto;line-height:normal;font-family:Menlo,'DejaVu Sans Mono',consolas,'Courier New',monospace\">\n",
       "</pre>\n"
      ],
      "text/plain": [
       "\n",
       "\u001b[?25h"
      ]
     },
     "metadata": {},
     "output_type": "display_data"
    }
   ],
   "source": [
    "# GENETIC\n",
    "def get_results(feature):\n",
    "    \n",
    "    \"\"\"Get a single association.\n",
    "    \n",
    "    As long as `args` and `df` are assigned this can be used on\n",
    "    any data set.\n",
    "    \"\"\"\n",
    "    formula = f\"UREA_NITROGEN ~ {feature} + C(sex) + age + BMI_CALC + PC1 + PC2 + PC3 + PC4 + PC5\"\n",
    "    fitted = ols(formula, data=df).fit()\n",
    "    return pd.DataFrame({\n",
    "        \"feature\": feature,\n",
    "        \"beta\": fitted.params[feature],\n",
    "        \"t_statistic\": fitted.tvalues[feature],\n",
    "        \"p\": fitted.pvalues[feature],\n",
    "        \"n\": fitted.nobs\n",
    "        }, index=[feature])\n",
    "\n",
    "args = gen_only_features\n",
    "df = mac_str\n",
    "results = map(get_results, track(args))\n",
    "results = list(results)\n",
    "tests = pd.concat(results)\n",
    "tests[\"q\"] = multipletests(tests.p, method=\"fdr_bh\")[1]\n",
    "gen_ure_sig = tests[tests.q <= 0.05]\n",
    "## merge in names + pathway info to this data\n",
    "gen_ure_sig = pd.merge(gen_ure_sig, meta_names, on = \"feature\", how = \"inner\")"
   ]
  },
  {
   "cell_type": "code",
   "execution_count": 49,
   "id": "95cc5c34-b8b2-4ba5-8e27-472970c464a9",
   "metadata": {
    "tags": []
   },
   "outputs": [
    {
     "data": {
      "text/html": [
       "<pre style=\"white-space:pre;overflow-x:auto;line-height:normal;font-family:Menlo,'DejaVu Sans Mono',consolas,'Courier New',monospace\"></pre>\n"
      ],
      "text/plain": [
       "\u001b[?25l"
      ]
     },
     "metadata": {},
     "output_type": "display_data"
    },
    {
     "data": {
      "text/html": [
       "<pre style=\"white-space:pre;overflow-x:auto;line-height:normal;font-family:Menlo,'DejaVu Sans Mono',consolas,'Courier New',monospace\">\n",
       "</pre>\n"
      ],
      "text/plain": [
       "\n",
       "\u001b[?25h"
      ]
     },
     "metadata": {},
     "output_type": "display_data"
    }
   ],
   "source": [
    "# MICROBE\n",
    "def get_results(feature):\n",
    "    \n",
    "    \"\"\"Get a single association.\n",
    "    \n",
    "    As long as `args` and `df` are assigned this can be used on\n",
    "    any data set.\n",
    "    \"\"\"\n",
    "    formula = f\"UREA_NITROGEN ~ {feature} + C(sex) + age + BMI_CALC + PC1 + PC2 + PC3 + PC4 + PC5\"\n",
    "    fitted = ols(formula, data=df).fit()\n",
    "    return pd.DataFrame({\n",
    "        \"feature\": feature,\n",
    "        \"beta\": fitted.params[feature],\n",
    "        \"t_statistic\": fitted.tvalues[feature],\n",
    "        \"p\": fitted.pvalues[feature],\n",
    "        \"n\": fitted.nobs\n",
    "        }, index=[feature])\n",
    "\n",
    "args = microbe_only_features\n",
    "df = mac_str\n",
    "results = map(get_results, track(args))\n",
    "results = list(results)\n",
    "tests = pd.concat(results)\n",
    "tests[\"q\"] = multipletests(tests.p, method=\"fdr_bh\")[1]\n",
    "mic_ure_sig = tests[tests.q <= 0.05]\n",
    "## merge in names + pathway info to this data\n",
    "mic_ure_sig = pd.merge(mic_ure_sig, meta_names, on = \"feature\", how = \"inner\")"
   ]
  },
  {
   "cell_type": "code",
   "execution_count": 50,
   "id": "e89c170f-c9a2-44d1-87ca-75ae520044d7",
   "metadata": {
    "tags": []
   },
   "outputs": [
    {
     "data": {
      "text/html": [
       "<pre style=\"white-space:pre;overflow-x:auto;line-height:normal;font-family:Menlo,'DejaVu Sans Mono',consolas,'Courier New',monospace\"></pre>\n"
      ],
      "text/plain": [
       "\u001b[?25l"
      ]
     },
     "metadata": {},
     "output_type": "display_data"
    },
    {
     "data": {
      "text/html": [
       "<pre style=\"white-space:pre;overflow-x:auto;line-height:normal;font-family:Menlo,'DejaVu Sans Mono',consolas,'Courier New',monospace\">\n",
       "</pre>\n"
      ],
      "text/plain": [
       "\n",
       "\u001b[?25h"
      ]
     },
     "metadata": {},
     "output_type": "display_data"
    }
   ],
   "source": [
    "# HYBRID\n",
    "def get_results(feature):\n",
    "    \n",
    "    \"\"\"Get a single association.\n",
    "    \n",
    "    As long as `args` and `df` are assigned this can be used on\n",
    "    any data set.\n",
    "    \"\"\"\n",
    "    formula = f\"UREA_NITROGEN ~ {feature} + C(sex) + age + BMI_CALC + PC1 + PC2 + PC3 + PC4 + PC5\"\n",
    "    fitted = ols(formula, data=df).fit()\n",
    "    return pd.DataFrame({\n",
    "        \"feature\": feature,\n",
    "        \"beta\": fitted.params[feature],\n",
    "        \"t_statistic\": fitted.tvalues[feature],\n",
    "        \"p\": fitted.pvalues[feature],\n",
    "        \"n\": fitted.nobs\n",
    "        }, index=[feature])\n",
    "\n",
    "args = hybrid_features\n",
    "df = mac_str\n",
    "results = map(get_results, track(args))\n",
    "results = list(results)\n",
    "tests = pd.concat(results)\n",
    "tests[\"q\"] = multipletests(tests.p, method=\"fdr_bh\")[1]\n",
    "hyb_ure_sig = tests[tests.q <= 0.05]\n",
    "## merge in names + pathway info to this data\n",
    "hyb_ure_sig = pd.merge(hyb_ure_sig, meta_names, on = \"feature\", how = \"inner\")"
   ]
  },
  {
   "cell_type": "code",
   "execution_count": 51,
   "id": "ce777347-4bb8-47ea-8805-b7746de74a57",
   "metadata": {
    "tags": []
   },
   "outputs": [],
   "source": [
    "## now, putting the association bins + merging + excel sheet into one code block\n",
    "gen_ure_sig['assoc_bin']='genetic'\n",
    "mic_ure_sig['assoc_bin']='microbe'\n",
    "hyb_ure_sig['assoc_bin']='hybrid'\n",
    "\n",
    "ure_sig = pd.concat([gen_ure_sig, mic_ure_sig, hyb_ure_sig])"
   ]
  },
  {
   "cell_type": "code",
   "execution_count": null,
   "id": "c1c440e8-1d4e-41f9-8e71-ea4eaf6a9b76",
   "metadata": {},
   "outputs": [],
   "source": [
    "with pd.ExcelWriter('MAC_Project_data.xlsx',\n",
    "                    mode='a') as writer:  \n",
    "    ure_sig.to_excel(writer, sheet_name='ure_sig')"
   ]
  },
  {
   "cell_type": "code",
   "execution_count": 52,
   "id": "e439e157-fc52-45fe-adcb-ea02d21f1d5d",
   "metadata": {
    "tags": []
   },
   "outputs": [
    {
     "data": {
      "text/plain": [
       "Index(['metabolite_100000007', 'metabolite_100000036', 'metabolite_100000042',\n",
       "       'metabolite_100000054', 'metabolite_100000263', 'metabolite_100000265',\n",
       "       'metabolite_100000463', 'metabolite_100000467', 'metabolite_100000491',\n",
       "       'metabolite_100000551',\n",
       "       ...\n",
       "       'metabolite_999948001', 'metabolite_999949463', 'metabolite_999949512',\n",
       "       'metabolite_999949515', 'metabolite_999949521', 'metabolite_999949637',\n",
       "       'metabolite_999952025', 'metabolite_999952286', 'metabolite_999952640',\n",
       "       'metabolite_999952877'],\n",
       "      dtype='object', name='feature', length=359)"
      ]
     },
     "execution_count": 52,
     "metadata": {},
     "output_type": "execute_result"
    }
   ],
   "source": [
    "## turn features column into index feature to use for regression down the line\n",
    "ure_met_to_col = ure_sig[['feature', 'assoc_bin', 'p']].copy()\n",
    "ure_met_to_col = ure_met_to_col.pivot_table(index='assoc_bin', columns='feature', values='p')\n",
    "\n",
    "ure_features = ure_met_to_col.columns[0:]\n",
    "ure_features"
   ]
  },
  {
   "cell_type": "markdown",
   "id": "170ca566-1444-46aa-9c74-162c6e84606c",
   "metadata": {
    "jp-MarkdownHeadingCollapsed": true,
    "tags": []
   },
   "source": [
    "##### White Cell Count ~ metabolites + [covar]"
   ]
  },
  {
   "cell_type": "code",
   "execution_count": 53,
   "id": "1f79aa53-8047-480e-b8be-eb82860fd5a8",
   "metadata": {
    "tags": []
   },
   "outputs": [
    {
     "data": {
      "text/html": [
       "<pre style=\"white-space:pre;overflow-x:auto;line-height:normal;font-family:Menlo,'DejaVu Sans Mono',consolas,'Courier New',monospace\"></pre>\n"
      ],
      "text/plain": [
       "\u001b[?25l"
      ]
     },
     "metadata": {},
     "output_type": "display_data"
    },
    {
     "data": {
      "text/html": [
       "<pre style=\"white-space:pre;overflow-x:auto;line-height:normal;font-family:Menlo,'DejaVu Sans Mono',consolas,'Courier New',monospace\">\n",
       "</pre>\n"
      ],
      "text/plain": [
       "\n",
       "\u001b[?25h"
      ]
     },
     "metadata": {},
     "output_type": "display_data"
    }
   ],
   "source": [
    "# GENETIC\n",
    "def get_results(feature):\n",
    "    \n",
    "    \"\"\"Get a single association.\n",
    "    \n",
    "    As long as `args` and `df` are assigned this can be used on\n",
    "    any data set.\n",
    "    \"\"\"\n",
    "    formula = f\"WHITE_CELL_COUNT ~ {feature} + C(sex) + age + BMI_CALC + PC1 + PC2 + PC3 + PC4 + PC5\"\n",
    "    fitted = ols(formula, data=df).fit()\n",
    "    return pd.DataFrame({\n",
    "        \"feature\": feature,\n",
    "        \"beta\": fitted.params[feature],\n",
    "        \"t_statistic\": fitted.tvalues[feature],\n",
    "        \"p\": fitted.pvalues[feature],\n",
    "        \"n\": fitted.nobs\n",
    "        }, index=[feature])\n",
    "\n",
    "args = gen_only_features\n",
    "df = mac_str\n",
    "results = map(get_results, track(args))\n",
    "results = list(results)\n",
    "tests = pd.concat(results)\n",
    "tests[\"q\"] = multipletests(tests.p, method=\"fdr_bh\")[1]\n",
    "gen_wbc_sig = tests[tests.q <= 0.05]\n",
    "## merge in names + pathway info to this data\n",
    "gen_wbc_sig = pd.merge(gen_wbc_sig, meta_names, on = \"feature\", how = \"inner\")"
   ]
  },
  {
   "cell_type": "code",
   "execution_count": 54,
   "id": "55e95992-bced-4e3e-b912-756c1f3d979d",
   "metadata": {
    "tags": []
   },
   "outputs": [
    {
     "data": {
      "text/html": [
       "<pre style=\"white-space:pre;overflow-x:auto;line-height:normal;font-family:Menlo,'DejaVu Sans Mono',consolas,'Courier New',monospace\"></pre>\n"
      ],
      "text/plain": [
       "\u001b[?25l"
      ]
     },
     "metadata": {},
     "output_type": "display_data"
    },
    {
     "data": {
      "text/html": [
       "<pre style=\"white-space:pre;overflow-x:auto;line-height:normal;font-family:Menlo,'DejaVu Sans Mono',consolas,'Courier New',monospace\">\n",
       "</pre>\n"
      ],
      "text/plain": [
       "\n",
       "\u001b[?25h"
      ]
     },
     "metadata": {},
     "output_type": "display_data"
    }
   ],
   "source": [
    "# MICROBE\n",
    "def get_results(feature):\n",
    "    \n",
    "    \"\"\"Get a single association.\n",
    "    \n",
    "    As long as `args` and `df` are assigned this can be used on\n",
    "    any data set.\n",
    "    \"\"\"\n",
    "    formula = f\"WHITE_CELL_COUNT ~ {feature} + C(sex) + age + BMI_CALC + PC1 + PC2 + PC3 + PC4 + PC5\"\n",
    "    fitted = ols(formula, data=df).fit()\n",
    "    return pd.DataFrame({\n",
    "        \"feature\": feature,\n",
    "        \"beta\": fitted.params[feature],\n",
    "        \"t_statistic\": fitted.tvalues[feature],\n",
    "        \"p\": fitted.pvalues[feature],\n",
    "        \"n\": fitted.nobs\n",
    "        }, index=[feature])\n",
    "\n",
    "args = microbe_only_features\n",
    "df = mac_str\n",
    "results = map(get_results, track(args))\n",
    "results = list(results)\n",
    "tests = pd.concat(results)\n",
    "tests[\"q\"] = multipletests(tests.p, method=\"fdr_bh\")[1]\n",
    "mic_wbc_sig = tests[tests.q <= 0.05]\n",
    "## merge in names + pathway info to this data\n",
    "mic_wbc_sig = pd.merge(mic_wbc_sig, meta_names, on = \"feature\", how = \"inner\")"
   ]
  },
  {
   "cell_type": "code",
   "execution_count": 55,
   "id": "d5632ae5-219b-44bd-aac8-eba9e8145e27",
   "metadata": {
    "tags": []
   },
   "outputs": [
    {
     "data": {
      "text/html": [
       "<pre style=\"white-space:pre;overflow-x:auto;line-height:normal;font-family:Menlo,'DejaVu Sans Mono',consolas,'Courier New',monospace\"></pre>\n"
      ],
      "text/plain": [
       "\u001b[?25l"
      ]
     },
     "metadata": {},
     "output_type": "display_data"
    },
    {
     "data": {
      "text/html": [
       "<pre style=\"white-space:pre;overflow-x:auto;line-height:normal;font-family:Menlo,'DejaVu Sans Mono',consolas,'Courier New',monospace\">\n",
       "</pre>\n"
      ],
      "text/plain": [
       "\n",
       "\u001b[?25h"
      ]
     },
     "metadata": {},
     "output_type": "display_data"
    }
   ],
   "source": [
    "# HYBRID\n",
    "def get_results(feature):\n",
    "    \n",
    "    \"\"\"Get a single association.\n",
    "    \n",
    "    As long as `args` and `df` are assigned this can be used on\n",
    "    any data set.\n",
    "    \"\"\"\n",
    "    formula = f\"WHITE_CELL_COUNT ~ {feature} + C(sex) + age + BMI_CALC + PC1 + PC2 + PC3 + PC4 + PC5\"\n",
    "    fitted = ols(formula, data=df).fit()\n",
    "    return pd.DataFrame({\n",
    "        \"feature\": feature,\n",
    "        \"beta\": fitted.params[feature],\n",
    "        \"t_statistic\": fitted.tvalues[feature],\n",
    "        \"p\": fitted.pvalues[feature],\n",
    "        \"n\": fitted.nobs\n",
    "        }, index=[feature])\n",
    "\n",
    "args = hybrid_features\n",
    "df = mac_str\n",
    "results = map(get_results, track(args))\n",
    "results = list(results)\n",
    "tests = pd.concat(results)\n",
    "tests[\"q\"] = multipletests(tests.p, method=\"fdr_bh\")[1]\n",
    "hyb_wbc_sig = tests[tests.q <= 0.05]\n",
    "## merge in names + pathway info to this data\n",
    "hyb_wbc_sig = pd.merge(hyb_wbc_sig, meta_names, on = \"feature\", how = \"inner\")"
   ]
  },
  {
   "cell_type": "code",
   "execution_count": 56,
   "id": "24457888-b07b-46c3-993e-730ed9834222",
   "metadata": {
    "tags": []
   },
   "outputs": [],
   "source": [
    "## now, putting the association bins + merging + excel sheet into one code block\n",
    "gen_wbc_sig['assoc_bin']='genetic'\n",
    "mic_wbc_sig['assoc_bin']='microbe'\n",
    "hyb_wbc_sig['assoc_bin']='hybrid'\n",
    "\n",
    "wbc_sig = pd.concat([gen_wbc_sig, mic_wbc_sig, hyb_wbc_sig])"
   ]
  },
  {
   "cell_type": "code",
   "execution_count": null,
   "id": "740d477b-ec67-4017-aa0c-e923827198bf",
   "metadata": {},
   "outputs": [],
   "source": [
    "with pd.ExcelWriter('MAC_Project_data.xlsx',\n",
    "                    mode='a') as writer:  \n",
    "    wbc_sig.to_excel(writer, sheet_name='wbc_sig')"
   ]
  },
  {
   "cell_type": "code",
   "execution_count": 57,
   "id": "38bb0f08-6fe4-4b60-bfb9-ac33cc0af6ff",
   "metadata": {
    "tags": []
   },
   "outputs": [
    {
     "data": {
      "text/plain": [
       "Index(['metabolite_100000007', 'metabolite_100000010', 'metabolite_100000014',\n",
       "       'metabolite_100000036', 'metabolite_100000039', 'metabolite_100000406',\n",
       "       'metabolite_100000442', 'metabolite_100000463', 'metabolite_100000551',\n",
       "       'metabolite_100000580',\n",
       "       ...\n",
       "       'metabolite_999947642', 'metabolite_999947804', 'metabolite_999947905',\n",
       "       'metabolite_999947955', 'metabolite_999949515', 'metabolite_999949521',\n",
       "       'metabolite_999949592', 'metabolite_999949637', 'metabolite_999952877',\n",
       "       'metabolite_999953267'],\n",
       "      dtype='object', name='feature', length=252)"
      ]
     },
     "execution_count": 57,
     "metadata": {},
     "output_type": "execute_result"
    }
   ],
   "source": [
    "## turn features column into index feature to use for regression down the line\n",
    "wbc_met_to_col = wbc_sig[['feature', 'assoc_bin', 'p']].copy()\n",
    "wbc_met_to_col = wbc_met_to_col.pivot_table(index='assoc_bin', columns='feature', values='p')\n",
    "\n",
    "wbc_features = wbc_met_to_col.columns[0:]\n",
    "wbc_features"
   ]
  },
  {
   "cell_type": "markdown",
   "id": "8cd2bd3e-ab2a-46be-90a1-c55b95d4e926",
   "metadata": {
    "jp-MarkdownHeadingCollapsed": true,
    "tags": []
   },
   "source": [
    "##### GFR ~ metabolites + [covar]"
   ]
  },
  {
   "cell_type": "code",
   "execution_count": 58,
   "id": "7022c0fd-2af1-4703-879e-dea6ec50b0f7",
   "metadata": {
    "tags": []
   },
   "outputs": [
    {
     "data": {
      "text/html": [
       "<pre style=\"white-space:pre;overflow-x:auto;line-height:normal;font-family:Menlo,'DejaVu Sans Mono',consolas,'Courier New',monospace\"></pre>\n"
      ],
      "text/plain": [
       "\u001b[?25l"
      ]
     },
     "metadata": {},
     "output_type": "display_data"
    },
    {
     "data": {
      "text/html": [
       "<pre style=\"white-space:pre;overflow-x:auto;line-height:normal;font-family:Menlo,'DejaVu Sans Mono',consolas,'Courier New',monospace\">\n",
       "</pre>\n"
      ],
      "text/plain": [
       "\n",
       "\u001b[?25h"
      ]
     },
     "metadata": {},
     "output_type": "display_data"
    }
   ],
   "source": [
    "# GENETIC\n",
    "def get_results(feature):\n",
    "    \n",
    "    \"\"\"Get a single association.\n",
    "    \n",
    "    As long as `args` and `df` are assigned this can be used on\n",
    "    any data set.\n",
    "    \"\"\"\n",
    "    formula = f\"GFR_MDRD ~ {feature} + C(sex) + age + BMI_CALC + PC1 + PC2 + PC3 + PC4 + PC5\"\n",
    "    fitted = ols(formula, data=df).fit()\n",
    "    return pd.DataFrame({\n",
    "        \"feature\": feature,\n",
    "        \"beta\": fitted.params[feature],\n",
    "        \"t_statistic\": fitted.tvalues[feature],\n",
    "        \"p\": fitted.pvalues[feature],\n",
    "        \"n\": fitted.nobs\n",
    "        }, index=[feature])\n",
    "\n",
    "args = gen_only_features\n",
    "df = mac_str\n",
    "results = map(get_results, track(args))\n",
    "results = list(results)\n",
    "tests = pd.concat(results)\n",
    "tests[\"q\"] = multipletests(tests.p, method=\"fdr_bh\")[1]\n",
    "gen_gfr_sig = tests[tests.q <= 0.05]\n",
    "## merge in names + pathway info to this data\n",
    "gen_gfr_sig = pd.merge(gen_gfr_sig, meta_names, on = \"feature\", how = \"inner\")"
   ]
  },
  {
   "cell_type": "code",
   "execution_count": 59,
   "id": "d24ba5df-39e6-4529-a8d1-d962bbed68f5",
   "metadata": {
    "tags": []
   },
   "outputs": [
    {
     "data": {
      "text/html": [
       "<pre style=\"white-space:pre;overflow-x:auto;line-height:normal;font-family:Menlo,'DejaVu Sans Mono',consolas,'Courier New',monospace\"></pre>\n"
      ],
      "text/plain": [
       "\u001b[?25l"
      ]
     },
     "metadata": {},
     "output_type": "display_data"
    },
    {
     "data": {
      "text/html": [
       "<pre style=\"white-space:pre;overflow-x:auto;line-height:normal;font-family:Menlo,'DejaVu Sans Mono',consolas,'Courier New',monospace\">\n",
       "</pre>\n"
      ],
      "text/plain": [
       "\n",
       "\u001b[?25h"
      ]
     },
     "metadata": {},
     "output_type": "display_data"
    }
   ],
   "source": [
    "# MICROBE\n",
    "def get_results(feature):\n",
    "    \n",
    "    \"\"\"Get a single association.\n",
    "    \n",
    "    As long as `args` and `df` are assigned this can be used on\n",
    "    any data set.\n",
    "    \"\"\"\n",
    "    formula = f\"GFR_MDRD ~ {feature} + C(sex) + age + BMI_CALC + PC1 + PC2 + PC3 + PC4 + PC5\"\n",
    "    fitted = ols(formula, data=df).fit()\n",
    "    return pd.DataFrame({\n",
    "        \"feature\": feature,\n",
    "        \"beta\": fitted.params[feature],\n",
    "        \"t_statistic\": fitted.tvalues[feature],\n",
    "        \"p\": fitted.pvalues[feature],\n",
    "        \"n\": fitted.nobs\n",
    "        }, index=[feature])\n",
    "\n",
    "args = microbe_only_features\n",
    "df = mac_str\n",
    "results = map(get_results, track(args))\n",
    "results = list(results)\n",
    "tests = pd.concat(results)\n",
    "tests[\"q\"] = multipletests(tests.p, method=\"fdr_bh\")[1]\n",
    "mic_gfr_sig = tests[tests.q <= 0.05]\n",
    "## merge in names + pathway info to this data\n",
    "mic_gfr_sig = pd.merge(mic_gfr_sig, meta_names, on = \"feature\", how = \"inner\")"
   ]
  },
  {
   "cell_type": "code",
   "execution_count": 60,
   "id": "ab09e5d6-6379-426e-82fc-5f08517dc5da",
   "metadata": {
    "tags": []
   },
   "outputs": [
    {
     "data": {
      "text/html": [
       "<pre style=\"white-space:pre;overflow-x:auto;line-height:normal;font-family:Menlo,'DejaVu Sans Mono',consolas,'Courier New',monospace\"></pre>\n"
      ],
      "text/plain": [
       "\u001b[?25l"
      ]
     },
     "metadata": {},
     "output_type": "display_data"
    },
    {
     "data": {
      "text/html": [
       "<pre style=\"white-space:pre;overflow-x:auto;line-height:normal;font-family:Menlo,'DejaVu Sans Mono',consolas,'Courier New',monospace\">\n",
       "</pre>\n"
      ],
      "text/plain": [
       "\n",
       "\u001b[?25h"
      ]
     },
     "metadata": {},
     "output_type": "display_data"
    }
   ],
   "source": [
    "# HYBRID\n",
    "def get_results(feature):\n",
    "    \n",
    "    \"\"\"Get a single association.\n",
    "    \n",
    "    As long as `args` and `df` are assigned this can be used on\n",
    "    any data set.\n",
    "    \"\"\"\n",
    "    formula = f\"GFR_MDRD ~ {feature} + C(sex) + age + BMI_CALC + PC1 + PC2 + PC3 + PC4 + PC5\"\n",
    "    fitted = ols(formula, data=df).fit()\n",
    "    return pd.DataFrame({\n",
    "        \"feature\": feature,\n",
    "        \"beta\": fitted.params[feature],\n",
    "        \"t_statistic\": fitted.tvalues[feature],\n",
    "        \"p\": fitted.pvalues[feature],\n",
    "        \"n\": fitted.nobs\n",
    "        }, index=[feature])\n",
    "\n",
    "args = hybrid_features\n",
    "df = mac_str\n",
    "results = map(get_results, track(args))\n",
    "results = list(results)\n",
    "tests = pd.concat(results)\n",
    "tests[\"q\"] = multipletests(tests.p, method=\"fdr_bh\")[1]\n",
    "hyb_gfr_sig = tests[tests.q <= 0.05]\n",
    "## merge in names + pathway info to this data\n",
    "hyb_gfr_sig = pd.merge(hyb_gfr_sig, meta_names, on = \"feature\", how = \"inner\")"
   ]
  },
  {
   "cell_type": "code",
   "execution_count": 61,
   "id": "8bb4b76d-3b2e-47c7-bb4a-cfbdd8cbd6c0",
   "metadata": {
    "tags": []
   },
   "outputs": [],
   "source": [
    "## now, putting the association bins + merging + excel sheet into one code block\n",
    "gen_gfr_sig['assoc_bin']='genetic'\n",
    "mic_gfr_sig['assoc_bin']='microbe'\n",
    "hyb_gfr_sig['assoc_bin']='hybrid'\n",
    "\n",
    "gfr_sig = pd.concat([gen_gfr_sig, mic_gfr_sig, hyb_gfr_sig])"
   ]
  },
  {
   "cell_type": "code",
   "execution_count": null,
   "id": "e41e934d-be51-4213-9ccb-6ff97e27671b",
   "metadata": {},
   "outputs": [],
   "source": [
    "with pd.ExcelWriter('MAC_Project_data.xlsx',\n",
    "                    mode='a') as writer:  \n",
    "    gfr_sig.to_excel(writer, sheet_name='gfr_sig')"
   ]
  },
  {
   "cell_type": "code",
   "execution_count": 62,
   "id": "da0e5f4e-e882-4062-918e-f8e3fbc61b7e",
   "metadata": {
    "tags": []
   },
   "outputs": [
    {
     "data": {
      "text/plain": [
       "Index(['metabolite_100000014', 'metabolite_100000036', 'metabolite_100000042',\n",
       "       'metabolite_100000096', 'metabolite_100000257', 'metabolite_100000263',\n",
       "       'metabolite_100000265', 'metabolite_100000282', 'metabolite_100000406',\n",
       "       'metabolite_100000445',\n",
       "       ...\n",
       "       'metabolite_999949521', 'metabolite_999949555', 'metabolite_999949557',\n",
       "       'metabolite_999949592', 'metabolite_999949637', 'metabolite_999952025',\n",
       "       'metabolite_999952286', 'metabolite_999952640', 'metabolite_999952877',\n",
       "       'metabolite_999952909'],\n",
       "      dtype='object', name='feature', length=446)"
      ]
     },
     "execution_count": 62,
     "metadata": {},
     "output_type": "execute_result"
    }
   ],
   "source": [
    "## turn features column into index feature to use for regression down the line\n",
    "gfr_met_to_col = gfr_sig[['feature', 'assoc_bin', 'p']].copy()\n",
    "gfr_met_to_col = gfr_met_to_col.pivot_table(index='assoc_bin', columns='feature', values='p')\n",
    "\n",
    "gfr_features = gfr_met_to_col.columns[0:]\n",
    "gfr_features"
   ]
  },
  {
   "cell_type": "markdown",
   "id": "ede29093-a525-452e-8bc0-a7822b657de4",
   "metadata": {},
   "source": [
    "### Mediation"
   ]
  },
  {
   "cell_type": "markdown",
   "id": "54dc0411-4a18-44e5-90c6-95934d9d022b",
   "metadata": {},
   "source": [
    "### Moderation\n",
    "\n",
    "#### Now, need to loop through OLS regressions using activity * metabolite interaction term, looking for a significant interaction term after fdr correction"
   ]
  },
  {
   "cell_type": "code",
   "execution_count": 68,
   "id": "3234a1d4-c670-43ff-a3a8-f91b59d8c044",
   "metadata": {
    "tags": []
   },
   "outputs": [
    {
     "ename": "SyntaxError",
     "evalue": "invalid syntax (1570778631.py, line 15)",
     "output_type": "error",
     "traceback": [
      "\u001b[0;36m  Cell \u001b[0;32mIn[68], line 15\u001b[0;36m\u001b[0m\n\u001b[0;31m    \"beta\": fitted.params[feature':activities_distance'],\u001b[0m\n\u001b[0m                                 ^\u001b[0m\n\u001b[0;31mSyntaxError\u001b[0m\u001b[0;31m:\u001b[0m invalid syntax\n"
     ]
    }
   ],
   "source": [
    "## note, to do an interaction term, add in the two terms plus :, so activity:metabolite\n",
    "## testing\n",
    "## hdl first\n",
    "def get_results(feature):\n",
    "    \n",
    "    \"\"\"Get a single association.\n",
    "    \n",
    "    As long as `args` and `df` are assigned this can be used on\n",
    "    any data set.\n",
    "    \"\"\"\n",
    "    formula = f\"HDL_CHOL_DIRECT ~ {feature} + activities_distance + {feature}:activities_distance + C(sex) + age + BMI_CALC + PC1 + PC2 + PC3 + PC4 + PC5\"\n",
    "    fitted = ols(formula, data=df).fit()\n",
    "    return pd.DataFrame({\n",
    "        \"feature\": feature,\n",
    "        \"beta\": fitted.params[feature':activities_distance'],\n",
    "        \"t_statistic\": fitted.tvalues[feature:'activities_distance'],\n",
    "        \"p\": fitted.pvalues['feature:activities_distance'],\n",
    "        \"n\": fitted.nobs\n",
    "        }, index=[feature])\n",
    "\n",
    "args = hdl_features\n",
    "df = mac_str\n",
    "results = map(get_results, track(args))\n",
    "results = list(results)\n",
    "tests = pd.concat(results)\n",
    "tests[\"q\"] = multipletests(tests.p, method=\"fdr_bh\")[1]\n",
    "hdl_mod = tests[tests.q <= 0.05]\n",
    "hdl_mod\n"
   ]
  },
  {
   "cell_type": "code",
   "execution_count": 66,
   "id": "68c3fa16-6525-420f-a09c-4efdfccb1ce5",
   "metadata": {
    "collapsed": true,
    "jupyter": {
     "outputs_hidden": true
    },
    "tags": []
   },
   "outputs": [
    {
     "data": {
      "text/html": [
       "<table class=\"simpletable\">\n",
       "<caption>OLS Regression Results</caption>\n",
       "<tr>\n",
       "  <th>Dep. Variable:</th>     <td>HDL_CHOL_DIRECT</td> <th>  R-squared:         </th> <td>   0.345</td> \n",
       "</tr>\n",
       "<tr>\n",
       "  <th>Model:</th>                   <td>OLS</td>       <th>  Adj. R-squared:    </th> <td>   0.340</td> \n",
       "</tr>\n",
       "<tr>\n",
       "  <th>Method:</th>             <td>Least Squares</td>  <th>  F-statistic:       </th> <td>   77.89</td> \n",
       "</tr>\n",
       "<tr>\n",
       "  <th>Date:</th>             <td>Wed, 13 Sep 2023</td> <th>  Prob (F-statistic):</th> <td>6.68e-141</td>\n",
       "</tr>\n",
       "<tr>\n",
       "  <th>Time:</th>                 <td>12:50:55</td>     <th>  Log-Likelihood:    </th> <td> -1983.3</td> \n",
       "</tr>\n",
       "<tr>\n",
       "  <th>No. Observations:</th>      <td>  1640</td>      <th>  AIC:               </th> <td>   3991.</td> \n",
       "</tr>\n",
       "<tr>\n",
       "  <th>Df Residuals:</th>          <td>  1628</td>      <th>  BIC:               </th> <td>   4055.</td> \n",
       "</tr>\n",
       "<tr>\n",
       "  <th>Df Model:</th>              <td>    11</td>      <th>                     </th>     <td> </td>    \n",
       "</tr>\n",
       "<tr>\n",
       "  <th>Covariance Type:</th>      <td>nonrobust</td>    <th>                     </th>     <td> </td>    \n",
       "</tr>\n",
       "</table>\n",
       "<table class=\"simpletable\">\n",
       "<tr>\n",
       "                      <td></td>                        <th>coef</th>     <th>std err</th>      <th>t</th>      <th>P>|t|</th>  <th>[0.025</th>    <th>0.975]</th>  \n",
       "</tr>\n",
       "<tr>\n",
       "  <th>Intercept</th>                                <td>    0.8525</td> <td>    0.156</td> <td>    5.458</td> <td> 0.000</td> <td>    0.546</td> <td>    1.159</td>\n",
       "</tr>\n",
       "<tr>\n",
       "  <th>sex[T.M]</th>                                 <td>   -0.7089</td> <td>    0.045</td> <td>  -15.735</td> <td> 0.000</td> <td>   -0.797</td> <td>   -0.621</td>\n",
       "</tr>\n",
       "<tr>\n",
       "  <th>metabolite_100000265</th>                     <td>   -0.1700</td> <td>    0.055</td> <td>   -3.115</td> <td> 0.002</td> <td>   -0.277</td> <td>   -0.063</td>\n",
       "</tr>\n",
       "<tr>\n",
       "  <th>activities_distance</th>                      <td>    0.0599</td> <td>    0.014</td> <td>    4.252</td> <td> 0.000</td> <td>    0.032</td> <td>    0.088</td>\n",
       "</tr>\n",
       "<tr>\n",
       "  <th>metabolite_100000265:activities_distance</th> <td>    0.0133</td> <td>    0.014</td> <td>    0.986</td> <td> 0.324</td> <td>   -0.013</td> <td>    0.040</td>\n",
       "</tr>\n",
       "<tr>\n",
       "  <th>age</th>                                      <td>    0.0158</td> <td>    0.002</td> <td>    8.762</td> <td> 0.000</td> <td>    0.012</td> <td>    0.019</td>\n",
       "</tr>\n",
       "<tr>\n",
       "  <th>BMI_CALC</th>                                 <td>   -0.0563</td> <td>    0.003</td> <td>  -17.035</td> <td> 0.000</td> <td>   -0.063</td> <td>   -0.050</td>\n",
       "</tr>\n",
       "<tr>\n",
       "  <th>PC1</th>                                      <td>    3.7771</td> <td>    1.543</td> <td>    2.448</td> <td> 0.014</td> <td>    0.750</td> <td>    6.804</td>\n",
       "</tr>\n",
       "<tr>\n",
       "  <th>PC2</th>                                      <td>    0.4642</td> <td>    1.307</td> <td>    0.355</td> <td> 0.722</td> <td>   -2.098</td> <td>    3.027</td>\n",
       "</tr>\n",
       "<tr>\n",
       "  <th>PC3</th>                                      <td>   -5.7222</td> <td>    1.607</td> <td>   -3.560</td> <td> 0.000</td> <td>   -8.875</td> <td>   -2.569</td>\n",
       "</tr>\n",
       "<tr>\n",
       "  <th>PC4</th>                                      <td>   -1.4853</td> <td>    1.544</td> <td>   -0.962</td> <td> 0.336</td> <td>   -4.513</td> <td>    1.542</td>\n",
       "</tr>\n",
       "<tr>\n",
       "  <th>PC5</th>                                      <td>   -0.9509</td> <td>    1.248</td> <td>   -0.762</td> <td> 0.446</td> <td>   -3.398</td> <td>    1.497</td>\n",
       "</tr>\n",
       "</table>\n",
       "<table class=\"simpletable\">\n",
       "<tr>\n",
       "  <th>Omnibus:</th>       <td>10.550</td> <th>  Durbin-Watson:     </th> <td>   2.008</td>\n",
       "</tr>\n",
       "<tr>\n",
       "  <th>Prob(Omnibus):</th> <td> 0.005</td> <th>  Jarque-Bera (JB):  </th> <td>  10.817</td>\n",
       "</tr>\n",
       "<tr>\n",
       "  <th>Skew:</th>          <td> 0.168</td> <th>  Prob(JB):          </th> <td> 0.00448</td>\n",
       "</tr>\n",
       "<tr>\n",
       "  <th>Kurtosis:</th>      <td> 3.214</td> <th>  Cond. No.          </th> <td>4.67e+03</td>\n",
       "</tr>\n",
       "</table><br/><br/>Notes:<br/>[1] Standard Errors assume that the covariance matrix of the errors is correctly specified.<br/>[2] The condition number is large, 4.67e+03. This might indicate that there are<br/>strong multicollinearity or other numerical problems."
      ],
      "text/plain": [
       "<class 'statsmodels.iolib.summary.Summary'>\n",
       "\"\"\"\n",
       "                            OLS Regression Results                            \n",
       "==============================================================================\n",
       "Dep. Variable:        HDL_CHOL_DIRECT   R-squared:                       0.345\n",
       "Model:                            OLS   Adj. R-squared:                  0.340\n",
       "Method:                 Least Squares   F-statistic:                     77.89\n",
       "Date:                Wed, 13 Sep 2023   Prob (F-statistic):          6.68e-141\n",
       "Time:                        12:50:55   Log-Likelihood:                -1983.3\n",
       "No. Observations:                1640   AIC:                             3991.\n",
       "Df Residuals:                    1628   BIC:                             4055.\n",
       "Df Model:                          11                                         \n",
       "Covariance Type:            nonrobust                                         \n",
       "============================================================================================================\n",
       "                                               coef    std err          t      P>|t|      [0.025      0.975]\n",
       "------------------------------------------------------------------------------------------------------------\n",
       "Intercept                                    0.8525      0.156      5.458      0.000       0.546       1.159\n",
       "sex[T.M]                                    -0.7089      0.045    -15.735      0.000      -0.797      -0.621\n",
       "metabolite_100000265                        -0.1700      0.055     -3.115      0.002      -0.277      -0.063\n",
       "activities_distance                          0.0599      0.014      4.252      0.000       0.032       0.088\n",
       "metabolite_100000265:activities_distance     0.0133      0.014      0.986      0.324      -0.013       0.040\n",
       "age                                          0.0158      0.002      8.762      0.000       0.012       0.019\n",
       "BMI_CALC                                    -0.0563      0.003    -17.035      0.000      -0.063      -0.050\n",
       "PC1                                          3.7771      1.543      2.448      0.014       0.750       6.804\n",
       "PC2                                          0.4642      1.307      0.355      0.722      -2.098       3.027\n",
       "PC3                                         -5.7222      1.607     -3.560      0.000      -8.875      -2.569\n",
       "PC4                                         -1.4853      1.544     -0.962      0.336      -4.513       1.542\n",
       "PC5                                         -0.9509      1.248     -0.762      0.446      -3.398       1.497\n",
       "==============================================================================\n",
       "Omnibus:                       10.550   Durbin-Watson:                   2.008\n",
       "Prob(Omnibus):                  0.005   Jarque-Bera (JB):               10.817\n",
       "Skew:                           0.168   Prob(JB):                      0.00448\n",
       "Kurtosis:                       3.214   Cond. No.                     4.67e+03\n",
       "==============================================================================\n",
       "\n",
       "Notes:\n",
       "[1] Standard Errors assume that the covariance matrix of the errors is correctly specified.\n",
       "[2] The condition number is large, 4.67e+03. This might indicate that there are\n",
       "strong multicollinearity or other numerical problems.\n",
       "\"\"\""
      ]
     },
     "execution_count": 66,
     "metadata": {},
     "output_type": "execute_result"
    }
   ],
   "source": [
    "## note, to do an interaction term, add in the two terms plus :, so activity:metabolite\n",
    "## testing\n",
    "## hdl first\n",
    "import statsmodels.formula.api as smf\n",
    "hdl_mod =  smf.ols('HDL_CHOL_DIRECT ~ metabolite_100000265 + activities_distance + metabolite_100000265:activities_distance + sex + age + BMI_CALC + PC1 +PC2 + PC3 + PC4 + PC5', data=mac_str)\n",
    "hdl_res = hdl_mod.fit()\n",
    "hdl_res.summary()"
   ]
  },
  {
   "cell_type": "code",
   "execution_count": 91,
   "id": "291e76d0-5e2c-4d6d-b78d-07eb65e62beb",
   "metadata": {
    "tags": []
   },
   "outputs": [
    {
     "data": {
      "text/html": [
       "<div>\n",
       "<style scoped>\n",
       "    .dataframe tbody tr th:only-of-type {\n",
       "        vertical-align: middle;\n",
       "    }\n",
       "\n",
       "    .dataframe tbody tr th {\n",
       "        vertical-align: top;\n",
       "    }\n",
       "\n",
       "    .dataframe thead th {\n",
       "        text-align: right;\n",
       "    }\n",
       "</style>\n",
       "<table border=\"1\" class=\"dataframe\">\n",
       "  <thead>\n",
       "    <tr style=\"text-align: right;\">\n",
       "      <th></th>\n",
       "      <th>coef</th>\n",
       "      <th>std err</th>\n",
       "      <th>t</th>\n",
       "      <th>P&gt;|t|</th>\n",
       "      <th>[0.025</th>\n",
       "      <th>0.975]</th>\n",
       "    </tr>\n",
       "  </thead>\n",
       "  <tbody>\n",
       "    <tr>\n",
       "      <th>Intercept</th>\n",
       "      <td>0.852</td>\n",
       "      <td>0.156</td>\n",
       "      <td>5.458</td>\n",
       "      <td>0.000</td>\n",
       "      <td>0.546</td>\n",
       "      <td>1.159</td>\n",
       "    </tr>\n",
       "    <tr>\n",
       "      <th>metabolite_100000265</th>\n",
       "      <td>-0.170</td>\n",
       "      <td>0.055</td>\n",
       "      <td>-3.115</td>\n",
       "      <td>0.002</td>\n",
       "      <td>-0.277</td>\n",
       "      <td>-0.063</td>\n",
       "    </tr>\n",
       "    <tr>\n",
       "      <th>activities_distance</th>\n",
       "      <td>0.060</td>\n",
       "      <td>0.014</td>\n",
       "      <td>4.252</td>\n",
       "      <td>0.000</td>\n",
       "      <td>0.032</td>\n",
       "      <td>0.088</td>\n",
       "    </tr>\n",
       "    <tr>\n",
       "      <th>metabolite_100000265:activities_distance</th>\n",
       "      <td>0.013</td>\n",
       "      <td>0.014</td>\n",
       "      <td>0.986</td>\n",
       "      <td>0.324</td>\n",
       "      <td>-0.013</td>\n",
       "      <td>0.040</td>\n",
       "    </tr>\n",
       "  </tbody>\n",
       "</table>\n",
       "</div>"
      ],
      "text/plain": [
       "                                           coef  std err      t  P>|t|  \\\n",
       "Intercept                                 0.852    0.156  5.458  0.000   \n",
       "metabolite_100000265                     -0.170    0.055 -3.115  0.002   \n",
       "activities_distance                       0.060    0.014  4.252  0.000   \n",
       "metabolite_100000265:activities_distance  0.013    0.014  0.986  0.324   \n",
       "\n",
       "                                          [0.025  0.975]  \n",
       "Intercept                                  0.546   1.159  \n",
       "metabolite_100000265                      -0.277  -0.063  \n",
       "activities_distance                        0.032   0.088  \n",
       "metabolite_100000265:activities_distance  -0.013   0.040  "
      ]
     },
     "execution_count": 91,
     "metadata": {},
     "output_type": "execute_result"
    }
   ],
   "source": [
    "data = {'coef': hdl_res.params,\n",
    "        'std err': hdl_res.bse,\n",
    "        't': hdl_res.tvalues,\n",
    "        'P>|t|': hdl_res.pvalues,\n",
    "        '[0.025': hdl_res.conf_int()[0],\n",
    "        '0.975]': hdl_res.conf_int()[1]}\n",
    "hdl_data = pd.DataFrame(data).round(3)\n",
    "hdl_data = hdl_data.drop(labels=['sex[T.M]','age','PC1','PC2','PC3','PC4','PC5','BMI_CALC'])\n",
    "hdl_data"
   ]
  },
  {
   "cell_type": "markdown",
   "id": "0f5965c1-8ae2-4663-81dd-8339ec577016",
   "metadata": {
    "tags": []
   },
   "source": [
    "#### Unused Regressions"
   ]
  },
  {
   "cell_type": "markdown",
   "id": "101f0e20-3893-46c5-a5e7-158f1f4be506",
   "metadata": {
    "jp-MarkdownHeadingCollapsed": true,
    "tags": []
   },
   "source": [
    "##### Metabolites ~ Distance + [covar] "
   ]
  },
  {
   "cell_type": "code",
   "execution_count": 9,
   "id": "674d214b-d0be-4434-aff6-4be4a3f6a10b",
   "metadata": {
    "collapsed": true,
    "jupyter": {
     "outputs_hidden": true
    },
    "tags": []
   },
   "outputs": [
    {
     "data": {
      "text/html": [
       "<pre style=\"white-space:pre;overflow-x:auto;line-height:normal;font-family:Menlo,'DejaVu Sans Mono',consolas,'Courier New',monospace\"></pre>\n"
      ],
      "text/plain": [
       "\u001b[?25l"
      ]
     },
     "metadata": {},
     "output_type": "display_data"
    },
    {
     "data": {
      "text/html": [
       "<pre style=\"white-space:pre;overflow-x:auto;line-height:normal;font-family:Menlo,'DejaVu Sans Mono',consolas,'Courier New',monospace\">\n",
       "</pre>\n"
      ],
      "text/plain": [
       "\n",
       "\u001b[?25h"
      ]
     },
     "metadata": {},
     "output_type": "display_data"
    },
    {
     "data": {
      "text/html": [
       "<div>\n",
       "<style scoped>\n",
       "    .dataframe tbody tr th:only-of-type {\n",
       "        vertical-align: middle;\n",
       "    }\n",
       "\n",
       "    .dataframe tbody tr th {\n",
       "        vertical-align: top;\n",
       "    }\n",
       "\n",
       "    .dataframe thead th {\n",
       "        text-align: right;\n",
       "    }\n",
       "</style>\n",
       "<table border=\"1\" class=\"dataframe\">\n",
       "  <thead>\n",
       "    <tr style=\"text-align: right;\">\n",
       "      <th></th>\n",
       "      <th>feature</th>\n",
       "      <th>beta</th>\n",
       "      <th>t_statistic</th>\n",
       "      <th>p</th>\n",
       "      <th>n</th>\n",
       "      <th>q</th>\n",
       "    </tr>\n",
       "  </thead>\n",
       "  <tbody>\n",
       "    <tr>\n",
       "      <th>metabolite_55</th>\n",
       "      <td>metabolite_55</td>\n",
       "      <td>0.061625</td>\n",
       "      <td>3.664017</td>\n",
       "      <td>2.561816e-04</td>\n",
       "      <td>1651.0</td>\n",
       "      <td>0.010028</td>\n",
       "    </tr>\n",
       "    <tr>\n",
       "      <th>metabolite_1242</th>\n",
       "      <td>metabolite_1242</td>\n",
       "      <td>-0.052163</td>\n",
       "      <td>-3.139676</td>\n",
       "      <td>1.721643e-03</td>\n",
       "      <td>1642.0</td>\n",
       "      <td>0.028392</td>\n",
       "    </tr>\n",
       "    <tr>\n",
       "      <th>metabolite_1538</th>\n",
       "      <td>metabolite_1538</td>\n",
       "      <td>-0.088196</td>\n",
       "      <td>-5.289383</td>\n",
       "      <td>1.392653e-07</td>\n",
       "      <td>1649.0</td>\n",
       "      <td>0.000038</td>\n",
       "    </tr>\n",
       "    <tr>\n",
       "      <th>metabolite_100000054</th>\n",
       "      <td>metabolite_100000054</td>\n",
       "      <td>-0.052076</td>\n",
       "      <td>-3.283774</td>\n",
       "      <td>1.047693e-03</td>\n",
       "      <td>1521.0</td>\n",
       "      <td>0.022833</td>\n",
       "    </tr>\n",
       "    <tr>\n",
       "      <th>metabolite_100000263</th>\n",
       "      <td>metabolite_100000263</td>\n",
       "      <td>0.083847</td>\n",
       "      <td>5.025297</td>\n",
       "      <td>5.579951e-07</td>\n",
       "      <td>1639.0</td>\n",
       "      <td>0.000076</td>\n",
       "    </tr>\n",
       "    <tr>\n",
       "      <th>metabolite_100000282</th>\n",
       "      <td>metabolite_100000282</td>\n",
       "      <td>-0.061054</td>\n",
       "      <td>-3.591109</td>\n",
       "      <td>3.399290e-04</td>\n",
       "      <td>1505.0</td>\n",
       "      <td>0.011643</td>\n",
       "    </tr>\n",
       "    <tr>\n",
       "      <th>metabolite_100001197</th>\n",
       "      <td>metabolite_100001197</td>\n",
       "      <td>0.077654</td>\n",
       "      <td>4.544300</td>\n",
       "      <td>5.914836e-06</td>\n",
       "      <td>1651.0</td>\n",
       "      <td>0.000540</td>\n",
       "    </tr>\n",
       "    <tr>\n",
       "      <th>metabolite_100001253</th>\n",
       "      <td>metabolite_100001253</td>\n",
       "      <td>-0.054117</td>\n",
       "      <td>-3.174542</td>\n",
       "      <td>1.529736e-03</td>\n",
       "      <td>1586.0</td>\n",
       "      <td>0.027943</td>\n",
       "    </tr>\n",
       "    <tr>\n",
       "      <th>metabolite_100001395</th>\n",
       "      <td>metabolite_100001395</td>\n",
       "      <td>0.067098</td>\n",
       "      <td>4.362821</td>\n",
       "      <td>1.364144e-05</td>\n",
       "      <td>1647.0</td>\n",
       "      <td>0.000934</td>\n",
       "    </tr>\n",
       "    <tr>\n",
       "      <th>metabolite_100001426</th>\n",
       "      <td>metabolite_100001426</td>\n",
       "      <td>-0.050164</td>\n",
       "      <td>-3.065432</td>\n",
       "      <td>2.210548e-03</td>\n",
       "      <td>1583.0</td>\n",
       "      <td>0.030285</td>\n",
       "    </tr>\n",
       "    <tr>\n",
       "      <th>metabolite_100001485</th>\n",
       "      <td>metabolite_100001485</td>\n",
       "      <td>-0.044766</td>\n",
       "      <td>-2.989636</td>\n",
       "      <td>2.834775e-03</td>\n",
       "      <td>1646.0</td>\n",
       "      <td>0.033771</td>\n",
       "    </tr>\n",
       "    <tr>\n",
       "      <th>metabolite_100001569</th>\n",
       "      <td>metabolite_100001569</td>\n",
       "      <td>0.050769</td>\n",
       "      <td>3.017943</td>\n",
       "      <td>2.584492e-03</td>\n",
       "      <td>1637.0</td>\n",
       "      <td>0.033200</td>\n",
       "    </tr>\n",
       "    <tr>\n",
       "      <th>metabolite_100001577</th>\n",
       "      <td>metabolite_100001577</td>\n",
       "      <td>-0.055876</td>\n",
       "      <td>-3.116843</td>\n",
       "      <td>1.865149e-03</td>\n",
       "      <td>1411.0</td>\n",
       "      <td>0.028392</td>\n",
       "    </tr>\n",
       "    <tr>\n",
       "      <th>metabolite_100001597</th>\n",
       "      <td>metabolite_100001597</td>\n",
       "      <td>0.054730</td>\n",
       "      <td>3.342402</td>\n",
       "      <td>8.493215e-04</td>\n",
       "      <td>1644.0</td>\n",
       "      <td>0.022833</td>\n",
       "    </tr>\n",
       "    <tr>\n",
       "      <th>metabolite_100001755</th>\n",
       "      <td>metabolite_100001755</td>\n",
       "      <td>0.060939</td>\n",
       "      <td>3.558301</td>\n",
       "      <td>3.839192e-04</td>\n",
       "      <td>1645.0</td>\n",
       "      <td>0.011688</td>\n",
       "    </tr>\n",
       "    <tr>\n",
       "      <th>metabolite_100001950</th>\n",
       "      <td>metabolite_100001950</td>\n",
       "      <td>0.054908</td>\n",
       "      <td>3.283973</td>\n",
       "      <td>1.044987e-03</td>\n",
       "      <td>1659.0</td>\n",
       "      <td>0.022833</td>\n",
       "    </tr>\n",
       "    <tr>\n",
       "      <th>metabolite_100002875</th>\n",
       "      <td>metabolite_100002875</td>\n",
       "      <td>0.061199</td>\n",
       "      <td>3.751166</td>\n",
       "      <td>1.821057e-04</td>\n",
       "      <td>1658.0</td>\n",
       "      <td>0.008316</td>\n",
       "    </tr>\n",
       "    <tr>\n",
       "      <th>metabolite_100002876</th>\n",
       "      <td>metabolite_100002876</td>\n",
       "      <td>0.066903</td>\n",
       "      <td>3.775093</td>\n",
       "      <td>1.665992e-04</td>\n",
       "      <td>1418.0</td>\n",
       "      <td>0.008316</td>\n",
       "    </tr>\n",
       "    <tr>\n",
       "      <th>metabolite_100003271</th>\n",
       "      <td>metabolite_100003271</td>\n",
       "      <td>-0.054260</td>\n",
       "      <td>-3.121304</td>\n",
       "      <td>1.831983e-03</td>\n",
       "      <td>1647.0</td>\n",
       "      <td>0.028392</td>\n",
       "    </tr>\n",
       "    <tr>\n",
       "      <th>metabolite_100003686</th>\n",
       "      <td>metabolite_100003686</td>\n",
       "      <td>-0.050236</td>\n",
       "      <td>-2.933124</td>\n",
       "      <td>3.402936e-03</td>\n",
       "      <td>1627.0</td>\n",
       "      <td>0.037296</td>\n",
       "    </tr>\n",
       "    <tr>\n",
       "      <th>metabolite_100006292</th>\n",
       "      <td>metabolite_100006292</td>\n",
       "      <td>-0.046535</td>\n",
       "      <td>-2.846545</td>\n",
       "      <td>4.474282e-03</td>\n",
       "      <td>1661.0</td>\n",
       "      <td>0.047152</td>\n",
       "    </tr>\n",
       "    <tr>\n",
       "      <th>metabolite_100006367</th>\n",
       "      <td>metabolite_100006367</td>\n",
       "      <td>0.056499</td>\n",
       "      <td>3.273759</td>\n",
       "      <td>1.083340e-03</td>\n",
       "      <td>1652.0</td>\n",
       "      <td>0.022833</td>\n",
       "    </tr>\n",
       "    <tr>\n",
       "      <th>metabolite_100008994</th>\n",
       "      <td>metabolite_100008994</td>\n",
       "      <td>0.053987</td>\n",
       "      <td>3.198733</td>\n",
       "      <td>1.406613e-03</td>\n",
       "      <td>1655.0</td>\n",
       "      <td>0.027529</td>\n",
       "    </tr>\n",
       "    <tr>\n",
       "      <th>metabolite_100010896</th>\n",
       "      <td>metabolite_100010896</td>\n",
       "      <td>0.052493</td>\n",
       "      <td>2.941314</td>\n",
       "      <td>3.317525e-03</td>\n",
       "      <td>1535.0</td>\n",
       "      <td>0.037296</td>\n",
       "    </tr>\n",
       "    <tr>\n",
       "      <th>metabolite_100015834</th>\n",
       "      <td>metabolite_100015834</td>\n",
       "      <td>0.052141</td>\n",
       "      <td>3.068313</td>\n",
       "      <td>2.188573e-03</td>\n",
       "      <td>1622.0</td>\n",
       "      <td>0.030285</td>\n",
       "    </tr>\n",
       "    <tr>\n",
       "      <th>metabolite_100020204</th>\n",
       "      <td>metabolite_100020204</td>\n",
       "      <td>0.048009</td>\n",
       "      <td>3.008499</td>\n",
       "      <td>2.665703e-03</td>\n",
       "      <td>1638.0</td>\n",
       "      <td>0.033200</td>\n",
       "    </tr>\n",
       "  </tbody>\n",
       "</table>\n",
       "</div>"
      ],
      "text/plain": [
       "                                   feature      beta  t_statistic  \\\n",
       "metabolite_55                metabolite_55  0.061625     3.664017   \n",
       "metabolite_1242            metabolite_1242 -0.052163    -3.139676   \n",
       "metabolite_1538            metabolite_1538 -0.088196    -5.289383   \n",
       "metabolite_100000054  metabolite_100000054 -0.052076    -3.283774   \n",
       "metabolite_100000263  metabolite_100000263  0.083847     5.025297   \n",
       "metabolite_100000282  metabolite_100000282 -0.061054    -3.591109   \n",
       "metabolite_100001197  metabolite_100001197  0.077654     4.544300   \n",
       "metabolite_100001253  metabolite_100001253 -0.054117    -3.174542   \n",
       "metabolite_100001395  metabolite_100001395  0.067098     4.362821   \n",
       "metabolite_100001426  metabolite_100001426 -0.050164    -3.065432   \n",
       "metabolite_100001485  metabolite_100001485 -0.044766    -2.989636   \n",
       "metabolite_100001569  metabolite_100001569  0.050769     3.017943   \n",
       "metabolite_100001577  metabolite_100001577 -0.055876    -3.116843   \n",
       "metabolite_100001597  metabolite_100001597  0.054730     3.342402   \n",
       "metabolite_100001755  metabolite_100001755  0.060939     3.558301   \n",
       "metabolite_100001950  metabolite_100001950  0.054908     3.283973   \n",
       "metabolite_100002875  metabolite_100002875  0.061199     3.751166   \n",
       "metabolite_100002876  metabolite_100002876  0.066903     3.775093   \n",
       "metabolite_100003271  metabolite_100003271 -0.054260    -3.121304   \n",
       "metabolite_100003686  metabolite_100003686 -0.050236    -2.933124   \n",
       "metabolite_100006292  metabolite_100006292 -0.046535    -2.846545   \n",
       "metabolite_100006367  metabolite_100006367  0.056499     3.273759   \n",
       "metabolite_100008994  metabolite_100008994  0.053987     3.198733   \n",
       "metabolite_100010896  metabolite_100010896  0.052493     2.941314   \n",
       "metabolite_100015834  metabolite_100015834  0.052141     3.068313   \n",
       "metabolite_100020204  metabolite_100020204  0.048009     3.008499   \n",
       "\n",
       "                                 p       n         q  \n",
       "metabolite_55         2.561816e-04  1651.0  0.010028  \n",
       "metabolite_1242       1.721643e-03  1642.0  0.028392  \n",
       "metabolite_1538       1.392653e-07  1649.0  0.000038  \n",
       "metabolite_100000054  1.047693e-03  1521.0  0.022833  \n",
       "metabolite_100000263  5.579951e-07  1639.0  0.000076  \n",
       "metabolite_100000282  3.399290e-04  1505.0  0.011643  \n",
       "metabolite_100001197  5.914836e-06  1651.0  0.000540  \n",
       "metabolite_100001253  1.529736e-03  1586.0  0.027943  \n",
       "metabolite_100001395  1.364144e-05  1647.0  0.000934  \n",
       "metabolite_100001426  2.210548e-03  1583.0  0.030285  \n",
       "metabolite_100001485  2.834775e-03  1646.0  0.033771  \n",
       "metabolite_100001569  2.584492e-03  1637.0  0.033200  \n",
       "metabolite_100001577  1.865149e-03  1411.0  0.028392  \n",
       "metabolite_100001597  8.493215e-04  1644.0  0.022833  \n",
       "metabolite_100001755  3.839192e-04  1645.0  0.011688  \n",
       "metabolite_100001950  1.044987e-03  1659.0  0.022833  \n",
       "metabolite_100002875  1.821057e-04  1658.0  0.008316  \n",
       "metabolite_100002876  1.665992e-04  1418.0  0.008316  \n",
       "metabolite_100003271  1.831983e-03  1647.0  0.028392  \n",
       "metabolite_100003686  3.402936e-03  1627.0  0.037296  \n",
       "metabolite_100006292  4.474282e-03  1661.0  0.047152  \n",
       "metabolite_100006367  1.083340e-03  1652.0  0.022833  \n",
       "metabolite_100008994  1.406613e-03  1655.0  0.027529  \n",
       "metabolite_100010896  3.317525e-03  1535.0  0.037296  \n",
       "metabolite_100015834  2.188573e-03  1622.0  0.030285  \n",
       "metabolite_100020204  2.665703e-03  1638.0  0.033200  "
      ]
     },
     "execution_count": 9,
     "metadata": {},
     "output_type": "execute_result"
    }
   ],
   "source": [
    "# GENETIC\n",
    "def get_results(feature):\n",
    "    \n",
    "    \"\"\"Get a single association.\n",
    "    \n",
    "    As long as `args` and `df` are assigned this can be used on\n",
    "    any data set.\n",
    "    \"\"\"\n",
    "    formula = f\"{feature} ~ activities_distance + C(sex) + age + BMI_CALC + PC1 + PC2 + PC3 + PC4 + PC5\"\n",
    "    fitted = ols(formula, data=df).fit()\n",
    "    return pd.DataFrame({\n",
    "        \"feature\": feature,\n",
    "        \"beta\": fitted.params[\"activities_distance\"],\n",
    "        \"t_statistic\": fitted.tvalues[\"activities_distance\"],\n",
    "        \"p\": fitted.pvalues[\"activities_distance\"],\n",
    "        \"n\": fitted.nobs\n",
    "        }, index=[feature])\n",
    "\n",
    "args = gen_only_features\n",
    "df = mac_str\n",
    "results = map(get_results, track(args))\n",
    "results = list(results)\n",
    "tests = pd.concat(results)\n",
    "tests[\"q\"] = multipletests(tests.p, method=\"fdr_bh\")[1]\n",
    "gene_dist_signifs = tests[tests.q <= 0.05]\n",
    "gene_dist_signifs"
   ]
  },
  {
   "cell_type": "code",
   "execution_count": 10,
   "id": "cff691a6-dfd2-4927-8b38-9f09920aa6a5",
   "metadata": {
    "tags": []
   },
   "outputs": [
    {
     "data": {
      "text/plain": [
       "26"
      ]
     },
     "execution_count": 10,
     "metadata": {},
     "output_type": "execute_result"
    }
   ],
   "source": [
    "len(gene_dist_signifs)"
   ]
  },
  {
   "cell_type": "code",
   "execution_count": 11,
   "id": "a41fe2f1-5f92-4b4d-86c3-a45e0935a095",
   "metadata": {
    "collapsed": true,
    "jupyter": {
     "outputs_hidden": true
    },
    "tags": []
   },
   "outputs": [
    {
     "data": {
      "text/html": [
       "<pre style=\"white-space:pre;overflow-x:auto;line-height:normal;font-family:Menlo,'DejaVu Sans Mono',consolas,'Courier New',monospace\"></pre>\n"
      ],
      "text/plain": [
       "\u001b[?25l"
      ]
     },
     "metadata": {},
     "output_type": "display_data"
    },
    {
     "data": {
      "text/html": [
       "<pre style=\"white-space:pre;overflow-x:auto;line-height:normal;font-family:Menlo,'DejaVu Sans Mono',consolas,'Courier New',monospace\">\n",
       "</pre>\n"
      ],
      "text/plain": [
       "\n",
       "\u001b[?25h"
      ]
     },
     "metadata": {},
     "output_type": "display_data"
    },
    {
     "data": {
      "text/html": [
       "<div>\n",
       "<style scoped>\n",
       "    .dataframe tbody tr th:only-of-type {\n",
       "        vertical-align: middle;\n",
       "    }\n",
       "\n",
       "    .dataframe tbody tr th {\n",
       "        vertical-align: top;\n",
       "    }\n",
       "\n",
       "    .dataframe thead th {\n",
       "        text-align: right;\n",
       "    }\n",
       "</style>\n",
       "<table border=\"1\" class=\"dataframe\">\n",
       "  <thead>\n",
       "    <tr style=\"text-align: right;\">\n",
       "      <th></th>\n",
       "      <th>feature</th>\n",
       "      <th>beta</th>\n",
       "      <th>t_statistic</th>\n",
       "      <th>p</th>\n",
       "      <th>n</th>\n",
       "      <th>q</th>\n",
       "    </tr>\n",
       "  </thead>\n",
       "  <tbody>\n",
       "    <tr>\n",
       "      <th>metabolite_62</th>\n",
       "      <td>metabolite_62</td>\n",
       "      <td>0.044474</td>\n",
       "      <td>2.531619</td>\n",
       "      <td>1.145655e-02</td>\n",
       "      <td>1489.0</td>\n",
       "      <td>4.439415e-02</td>\n",
       "    </tr>\n",
       "    <tr>\n",
       "      <th>metabolite_181</th>\n",
       "      <td>metabolite_181</td>\n",
       "      <td>0.043987</td>\n",
       "      <td>2.663517</td>\n",
       "      <td>7.808743e-03</td>\n",
       "      <td>1646.0</td>\n",
       "      <td>3.271230e-02</td>\n",
       "    </tr>\n",
       "    <tr>\n",
       "      <th>metabolite_922</th>\n",
       "      <td>metabolite_922</td>\n",
       "      <td>-0.079317</td>\n",
       "      <td>-4.929866</td>\n",
       "      <td>9.129863e-07</td>\n",
       "      <td>1530.0</td>\n",
       "      <td>2.830257e-05</td>\n",
       "    </tr>\n",
       "    <tr>\n",
       "      <th>metabolite_1001</th>\n",
       "      <td>metabolite_1001</td>\n",
       "      <td>-0.064381</td>\n",
       "      <td>-3.809932</td>\n",
       "      <td>1.441223e-04</td>\n",
       "      <td>1654.0</td>\n",
       "      <td>1.661116e-03</td>\n",
       "    </tr>\n",
       "    <tr>\n",
       "      <th>metabolite_1135</th>\n",
       "      <td>metabolite_1135</td>\n",
       "      <td>-0.066476</td>\n",
       "      <td>-3.546977</td>\n",
       "      <td>4.024070e-04</td>\n",
       "      <td>1424.0</td>\n",
       "      <td>3.465171e-03</td>\n",
       "    </tr>\n",
       "    <tr>\n",
       "      <th>metabolite_1668</th>\n",
       "      <td>metabolite_1668</td>\n",
       "      <td>-0.048804</td>\n",
       "      <td>-2.709987</td>\n",
       "      <td>6.805796e-03</td>\n",
       "      <td>1499.0</td>\n",
       "      <td>3.013995e-02</td>\n",
       "    </tr>\n",
       "    <tr>\n",
       "      <th>metabolite_100000014</th>\n",
       "      <td>metabolite_100000014</td>\n",
       "      <td>0.063503</td>\n",
       "      <td>3.800753</td>\n",
       "      <td>1.495716e-04</td>\n",
       "      <td>1638.0</td>\n",
       "      <td>1.661116e-03</td>\n",
       "    </tr>\n",
       "    <tr>\n",
       "      <th>metabolite_100000436</th>\n",
       "      <td>metabolite_100000436</td>\n",
       "      <td>-0.051888</td>\n",
       "      <td>-2.850818</td>\n",
       "      <td>4.423077e-03</td>\n",
       "      <td>1445.0</td>\n",
       "      <td>2.142428e-02</td>\n",
       "    </tr>\n",
       "    <tr>\n",
       "      <th>metabolite_100000447</th>\n",
       "      <td>metabolite_100000447</td>\n",
       "      <td>0.047208</td>\n",
       "      <td>2.567077</td>\n",
       "      <td>1.036308e-02</td>\n",
       "      <td>1358.0</td>\n",
       "      <td>4.118659e-02</td>\n",
       "    </tr>\n",
       "    <tr>\n",
       "      <th>metabolite_100000467</th>\n",
       "      <td>metabolite_100000467</td>\n",
       "      <td>-0.060036</td>\n",
       "      <td>-3.510827</td>\n",
       "      <td>4.589220e-04</td>\n",
       "      <td>1634.0</td>\n",
       "      <td>3.743838e-03</td>\n",
       "    </tr>\n",
       "    <tr>\n",
       "      <th>metabolite_100001263</th>\n",
       "      <td>metabolite_100001263</td>\n",
       "      <td>0.044626</td>\n",
       "      <td>2.728155</td>\n",
       "      <td>6.436550e-03</td>\n",
       "      <td>1659.0</td>\n",
       "      <td>2.934310e-02</td>\n",
       "    </tr>\n",
       "    <tr>\n",
       "      <th>metabolite_100001271</th>\n",
       "      <td>metabolite_100001271</td>\n",
       "      <td>0.047575</td>\n",
       "      <td>2.865258</td>\n",
       "      <td>4.219599e-03</td>\n",
       "      <td>1656.0</td>\n",
       "      <td>2.109799e-02</td>\n",
       "    </tr>\n",
       "    <tr>\n",
       "      <th>metabolite_100001384</th>\n",
       "      <td>metabolite_100001384</td>\n",
       "      <td>0.092682</td>\n",
       "      <td>5.935593</td>\n",
       "      <td>3.654031e-09</td>\n",
       "      <td>1466.0</td>\n",
       "      <td>5.663748e-07</td>\n",
       "    </tr>\n",
       "    <tr>\n",
       "      <th>metabolite_100001651</th>\n",
       "      <td>metabolite_100001651</td>\n",
       "      <td>0.052183</td>\n",
       "      <td>2.959542</td>\n",
       "      <td>3.127374e-03</td>\n",
       "      <td>1572.0</td>\n",
       "      <td>1.615810e-02</td>\n",
       "    </tr>\n",
       "    <tr>\n",
       "      <th>metabolite_100001977</th>\n",
       "      <td>metabolite_100001977</td>\n",
       "      <td>0.049026</td>\n",
       "      <td>3.178693</td>\n",
       "      <td>1.507797e-03</td>\n",
       "      <td>1605.0</td>\n",
       "      <td>8.988790e-03</td>\n",
       "    </tr>\n",
       "    <tr>\n",
       "      <th>metabolite_100002122</th>\n",
       "      <td>metabolite_100002122</td>\n",
       "      <td>0.054276</td>\n",
       "      <td>3.181849</td>\n",
       "      <td>1.490972e-03</td>\n",
       "      <td>1639.0</td>\n",
       "      <td>8.988790e-03</td>\n",
       "    </tr>\n",
       "    <tr>\n",
       "      <th>metabolite_100002488</th>\n",
       "      <td>metabolite_100002488</td>\n",
       "      <td>-0.052239</td>\n",
       "      <td>-3.080794</td>\n",
       "      <td>2.099259e-03</td>\n",
       "      <td>1629.0</td>\n",
       "      <td>1.205130e-02</td>\n",
       "    </tr>\n",
       "    <tr>\n",
       "      <th>metabolite_100002911</th>\n",
       "      <td>metabolite_100002911</td>\n",
       "      <td>-0.059586</td>\n",
       "      <td>-3.458630</td>\n",
       "      <td>5.570146e-04</td>\n",
       "      <td>1627.0</td>\n",
       "      <td>4.144891e-03</td>\n",
       "    </tr>\n",
       "    <tr>\n",
       "      <th>metabolite_100004089</th>\n",
       "      <td>metabolite_100004089</td>\n",
       "      <td>0.043649</td>\n",
       "      <td>2.646755</td>\n",
       "      <td>8.204458e-03</td>\n",
       "      <td>1653.0</td>\n",
       "      <td>3.346555e-02</td>\n",
       "    </tr>\n",
       "    <tr>\n",
       "      <th>metabolite_100004208</th>\n",
       "      <td>metabolite_100004208</td>\n",
       "      <td>0.063266</td>\n",
       "      <td>3.851580</td>\n",
       "      <td>1.218870e-04</td>\n",
       "      <td>1645.0</td>\n",
       "      <td>1.661116e-03</td>\n",
       "    </tr>\n",
       "    <tr>\n",
       "      <th>metabolite_100005352</th>\n",
       "      <td>metabolite_100005352</td>\n",
       "      <td>0.082994</td>\n",
       "      <td>5.459560</td>\n",
       "      <td>5.506238e-08</td>\n",
       "      <td>1648.0</td>\n",
       "      <td>2.844890e-06</td>\n",
       "    </tr>\n",
       "    <tr>\n",
       "      <th>metabolite_100006098</th>\n",
       "      <td>metabolite_100006098</td>\n",
       "      <td>0.049085</td>\n",
       "      <td>2.978852</td>\n",
       "      <td>2.936702e-03</td>\n",
       "      <td>1616.0</td>\n",
       "      <td>1.569617e-02</td>\n",
       "    </tr>\n",
       "    <tr>\n",
       "      <th>metabolite_100006108</th>\n",
       "      <td>metabolite_100006108</td>\n",
       "      <td>-0.055867</td>\n",
       "      <td>-3.059771</td>\n",
       "      <td>2.258523e-03</td>\n",
       "      <td>1366.0</td>\n",
       "      <td>1.250254e-02</td>\n",
       "    </tr>\n",
       "    <tr>\n",
       "      <th>metabolite_100015737</th>\n",
       "      <td>metabolite_100015737</td>\n",
       "      <td>-0.096914</td>\n",
       "      <td>-5.643299</td>\n",
       "      <td>1.981240e-08</td>\n",
       "      <td>1555.0</td>\n",
       "      <td>1.535461e-06</td>\n",
       "    </tr>\n",
       "    <tr>\n",
       "      <th>metabolite_100015788</th>\n",
       "      <td>metabolite_100015788</td>\n",
       "      <td>-0.058264</td>\n",
       "      <td>-3.572428</td>\n",
       "      <td>3.639316e-04</td>\n",
       "      <td>1646.0</td>\n",
       "      <td>3.376624e-03</td>\n",
       "    </tr>\n",
       "    <tr>\n",
       "      <th>metabolite_100015789</th>\n",
       "      <td>metabolite_100015789</td>\n",
       "      <td>-0.053101</td>\n",
       "      <td>-3.198573</td>\n",
       "      <td>1.407309e-03</td>\n",
       "      <td>1660.0</td>\n",
       "      <td>8.988790e-03</td>\n",
       "    </tr>\n",
       "    <tr>\n",
       "      <th>metabolite_100021374</th>\n",
       "      <td>metabolite_100021374</td>\n",
       "      <td>0.069310</td>\n",
       "      <td>4.316411</td>\n",
       "      <td>1.684477e-05</td>\n",
       "      <td>1588.0</td>\n",
       "      <td>2.901044e-04</td>\n",
       "    </tr>\n",
       "    <tr>\n",
       "      <th>metabolite_100021760</th>\n",
       "      <td>metabolite_100021760</td>\n",
       "      <td>-0.060071</td>\n",
       "      <td>-3.572897</td>\n",
       "      <td>3.640445e-04</td>\n",
       "      <td>1534.0</td>\n",
       "      <td>3.376624e-03</td>\n",
       "    </tr>\n",
       "    <tr>\n",
       "      <th>metabolite_999946488</th>\n",
       "      <td>metabolite_999946488</td>\n",
       "      <td>0.059624</td>\n",
       "      <td>3.456547</td>\n",
       "      <td>5.615658e-04</td>\n",
       "      <td>1598.0</td>\n",
       "      <td>4.144891e-03</td>\n",
       "    </tr>\n",
       "    <tr>\n",
       "      <th>metabolite_999946639</th>\n",
       "      <td>metabolite_999946639</td>\n",
       "      <td>-0.049909</td>\n",
       "      <td>-2.678099</td>\n",
       "      <td>7.494498e-03</td>\n",
       "      <td>1352.0</td>\n",
       "      <td>3.226798e-02</td>\n",
       "    </tr>\n",
       "    <tr>\n",
       "      <th>metabolite_999946666</th>\n",
       "      <td>metabolite_999946666</td>\n",
       "      <td>0.076399</td>\n",
       "      <td>4.138622</td>\n",
       "      <td>3.711882e-05</td>\n",
       "      <td>1350.0</td>\n",
       "      <td>5.753417e-04</td>\n",
       "    </tr>\n",
       "    <tr>\n",
       "      <th>metabolite_999946674</th>\n",
       "      <td>metabolite_999946674</td>\n",
       "      <td>0.056981</td>\n",
       "      <td>3.322275</td>\n",
       "      <td>9.131400e-04</td>\n",
       "      <td>1599.0</td>\n",
       "      <td>6.153769e-03</td>\n",
       "    </tr>\n",
       "    <tr>\n",
       "      <th>metabolite_999946998</th>\n",
       "      <td>metabolite_999946998</td>\n",
       "      <td>0.064516</td>\n",
       "      <td>3.569356</td>\n",
       "      <td>3.703394e-04</td>\n",
       "      <td>1367.0</td>\n",
       "      <td>3.376624e-03</td>\n",
       "    </tr>\n",
       "    <tr>\n",
       "      <th>metabolite_999947011</th>\n",
       "      <td>metabolite_999947011</td>\n",
       "      <td>0.051132</td>\n",
       "      <td>2.821804</td>\n",
       "      <td>4.844702e-03</td>\n",
       "      <td>1374.0</td>\n",
       "      <td>2.275542e-02</td>\n",
       "    </tr>\n",
       "    <tr>\n",
       "      <th>metabolite_999947708</th>\n",
       "      <td>metabolite_999947708</td>\n",
       "      <td>0.070436</td>\n",
       "      <td>3.802220</td>\n",
       "      <td>1.500363e-04</td>\n",
       "      <td>1313.0</td>\n",
       "      <td>1.661116e-03</td>\n",
       "    </tr>\n",
       "    <tr>\n",
       "      <th>metabolite_999947993</th>\n",
       "      <td>metabolite_999947993</td>\n",
       "      <td>-0.059836</td>\n",
       "      <td>-3.432504</td>\n",
       "      <td>6.135380e-04</td>\n",
       "      <td>1583.0</td>\n",
       "      <td>4.322654e-03</td>\n",
       "    </tr>\n",
       "    <tr>\n",
       "      <th>metabolite_999948001</th>\n",
       "      <td>metabolite_999948001</td>\n",
       "      <td>0.076993</td>\n",
       "      <td>4.536867</td>\n",
       "      <td>6.153885e-06</td>\n",
       "      <td>1545.0</td>\n",
       "      <td>1.589754e-04</td>\n",
       "    </tr>\n",
       "    <tr>\n",
       "      <th>metabolite_999948094</th>\n",
       "      <td>metabolite_999948094</td>\n",
       "      <td>0.081938</td>\n",
       "      <td>4.416807</td>\n",
       "      <td>1.078658e-05</td>\n",
       "      <td>1412.0</td>\n",
       "      <td>2.089900e-04</td>\n",
       "    </tr>\n",
       "    <tr>\n",
       "      <th>metabolite_999949555</th>\n",
       "      <td>metabolite_999949555</td>\n",
       "      <td>0.090586</td>\n",
       "      <td>4.964241</td>\n",
       "      <td>7.674973e-07</td>\n",
       "      <td>1528.0</td>\n",
       "      <td>2.830257e-05</td>\n",
       "    </tr>\n",
       "    <tr>\n",
       "      <th>metabolite_999949681</th>\n",
       "      <td>metabolite_999949681</td>\n",
       "      <td>0.073443</td>\n",
       "      <td>4.424791</td>\n",
       "      <td>1.028873e-05</td>\n",
       "      <td>1652.0</td>\n",
       "      <td>2.089900e-04</td>\n",
       "    </tr>\n",
       "  </tbody>\n",
       "</table>\n",
       "</div>"
      ],
      "text/plain": [
       "                                   feature      beta  t_statistic  \\\n",
       "metabolite_62                metabolite_62  0.044474     2.531619   \n",
       "metabolite_181              metabolite_181  0.043987     2.663517   \n",
       "metabolite_922              metabolite_922 -0.079317    -4.929866   \n",
       "metabolite_1001            metabolite_1001 -0.064381    -3.809932   \n",
       "metabolite_1135            metabolite_1135 -0.066476    -3.546977   \n",
       "metabolite_1668            metabolite_1668 -0.048804    -2.709987   \n",
       "metabolite_100000014  metabolite_100000014  0.063503     3.800753   \n",
       "metabolite_100000436  metabolite_100000436 -0.051888    -2.850818   \n",
       "metabolite_100000447  metabolite_100000447  0.047208     2.567077   \n",
       "metabolite_100000467  metabolite_100000467 -0.060036    -3.510827   \n",
       "metabolite_100001263  metabolite_100001263  0.044626     2.728155   \n",
       "metabolite_100001271  metabolite_100001271  0.047575     2.865258   \n",
       "metabolite_100001384  metabolite_100001384  0.092682     5.935593   \n",
       "metabolite_100001651  metabolite_100001651  0.052183     2.959542   \n",
       "metabolite_100001977  metabolite_100001977  0.049026     3.178693   \n",
       "metabolite_100002122  metabolite_100002122  0.054276     3.181849   \n",
       "metabolite_100002488  metabolite_100002488 -0.052239    -3.080794   \n",
       "metabolite_100002911  metabolite_100002911 -0.059586    -3.458630   \n",
       "metabolite_100004089  metabolite_100004089  0.043649     2.646755   \n",
       "metabolite_100004208  metabolite_100004208  0.063266     3.851580   \n",
       "metabolite_100005352  metabolite_100005352  0.082994     5.459560   \n",
       "metabolite_100006098  metabolite_100006098  0.049085     2.978852   \n",
       "metabolite_100006108  metabolite_100006108 -0.055867    -3.059771   \n",
       "metabolite_100015737  metabolite_100015737 -0.096914    -5.643299   \n",
       "metabolite_100015788  metabolite_100015788 -0.058264    -3.572428   \n",
       "metabolite_100015789  metabolite_100015789 -0.053101    -3.198573   \n",
       "metabolite_100021374  metabolite_100021374  0.069310     4.316411   \n",
       "metabolite_100021760  metabolite_100021760 -0.060071    -3.572897   \n",
       "metabolite_999946488  metabolite_999946488  0.059624     3.456547   \n",
       "metabolite_999946639  metabolite_999946639 -0.049909    -2.678099   \n",
       "metabolite_999946666  metabolite_999946666  0.076399     4.138622   \n",
       "metabolite_999946674  metabolite_999946674  0.056981     3.322275   \n",
       "metabolite_999946998  metabolite_999946998  0.064516     3.569356   \n",
       "metabolite_999947011  metabolite_999947011  0.051132     2.821804   \n",
       "metabolite_999947708  metabolite_999947708  0.070436     3.802220   \n",
       "metabolite_999947993  metabolite_999947993 -0.059836    -3.432504   \n",
       "metabolite_999948001  metabolite_999948001  0.076993     4.536867   \n",
       "metabolite_999948094  metabolite_999948094  0.081938     4.416807   \n",
       "metabolite_999949555  metabolite_999949555  0.090586     4.964241   \n",
       "metabolite_999949681  metabolite_999949681  0.073443     4.424791   \n",
       "\n",
       "                                 p       n             q  \n",
       "metabolite_62         1.145655e-02  1489.0  4.439415e-02  \n",
       "metabolite_181        7.808743e-03  1646.0  3.271230e-02  \n",
       "metabolite_922        9.129863e-07  1530.0  2.830257e-05  \n",
       "metabolite_1001       1.441223e-04  1654.0  1.661116e-03  \n",
       "metabolite_1135       4.024070e-04  1424.0  3.465171e-03  \n",
       "metabolite_1668       6.805796e-03  1499.0  3.013995e-02  \n",
       "metabolite_100000014  1.495716e-04  1638.0  1.661116e-03  \n",
       "metabolite_100000436  4.423077e-03  1445.0  2.142428e-02  \n",
       "metabolite_100000447  1.036308e-02  1358.0  4.118659e-02  \n",
       "metabolite_100000467  4.589220e-04  1634.0  3.743838e-03  \n",
       "metabolite_100001263  6.436550e-03  1659.0  2.934310e-02  \n",
       "metabolite_100001271  4.219599e-03  1656.0  2.109799e-02  \n",
       "metabolite_100001384  3.654031e-09  1466.0  5.663748e-07  \n",
       "metabolite_100001651  3.127374e-03  1572.0  1.615810e-02  \n",
       "metabolite_100001977  1.507797e-03  1605.0  8.988790e-03  \n",
       "metabolite_100002122  1.490972e-03  1639.0  8.988790e-03  \n",
       "metabolite_100002488  2.099259e-03  1629.0  1.205130e-02  \n",
       "metabolite_100002911  5.570146e-04  1627.0  4.144891e-03  \n",
       "metabolite_100004089  8.204458e-03  1653.0  3.346555e-02  \n",
       "metabolite_100004208  1.218870e-04  1645.0  1.661116e-03  \n",
       "metabolite_100005352  5.506238e-08  1648.0  2.844890e-06  \n",
       "metabolite_100006098  2.936702e-03  1616.0  1.569617e-02  \n",
       "metabolite_100006108  2.258523e-03  1366.0  1.250254e-02  \n",
       "metabolite_100015737  1.981240e-08  1555.0  1.535461e-06  \n",
       "metabolite_100015788  3.639316e-04  1646.0  3.376624e-03  \n",
       "metabolite_100015789  1.407309e-03  1660.0  8.988790e-03  \n",
       "metabolite_100021374  1.684477e-05  1588.0  2.901044e-04  \n",
       "metabolite_100021760  3.640445e-04  1534.0  3.376624e-03  \n",
       "metabolite_999946488  5.615658e-04  1598.0  4.144891e-03  \n",
       "metabolite_999946639  7.494498e-03  1352.0  3.226798e-02  \n",
       "metabolite_999946666  3.711882e-05  1350.0  5.753417e-04  \n",
       "metabolite_999946674  9.131400e-04  1599.0  6.153769e-03  \n",
       "metabolite_999946998  3.703394e-04  1367.0  3.376624e-03  \n",
       "metabolite_999947011  4.844702e-03  1374.0  2.275542e-02  \n",
       "metabolite_999947708  1.500363e-04  1313.0  1.661116e-03  \n",
       "metabolite_999947993  6.135380e-04  1583.0  4.322654e-03  \n",
       "metabolite_999948001  6.153885e-06  1545.0  1.589754e-04  \n",
       "metabolite_999948094  1.078658e-05  1412.0  2.089900e-04  \n",
       "metabolite_999949555  7.674973e-07  1528.0  2.830257e-05  \n",
       "metabolite_999949681  1.028873e-05  1652.0  2.089900e-04  "
      ]
     },
     "execution_count": 11,
     "metadata": {},
     "output_type": "execute_result"
    }
   ],
   "source": [
    "# MICROBE\n",
    "def get_results(feature):\n",
    "    \n",
    "    \"\"\"Get a single association.\n",
    "    \n",
    "    As long as `args` and `df` are assigned this can be used on\n",
    "    any data set.\n",
    "    \"\"\"\n",
    "    formula = f\"{feature} ~ activities_distance + C(sex) + age + BMI_CALC + PC1 + PC2 + PC3 + PC4 + PC5\"\n",
    "    fitted = ols(formula, data=df).fit()\n",
    "    return pd.DataFrame({\n",
    "        \"feature\": feature,\n",
    "        \"beta\": fitted.params[\"activities_distance\"],\n",
    "        \"t_statistic\": fitted.tvalues[\"activities_distance\"],\n",
    "        \"p\": fitted.pvalues[\"activities_distance\"],\n",
    "        \"n\": fitted.nobs\n",
    "        }, index=[feature])\n",
    "\n",
    "args = microbe_only_features\n",
    "df = mac_str\n",
    "results = map(get_results, track(args))\n",
    "results = list(results)\n",
    "tests = pd.concat(results)\n",
    "tests[\"q\"] = multipletests(tests.p, method=\"fdr_bh\")[1]\n",
    "microbe_dist_signifs = tests[tests.q <= 0.05]\n",
    "microbe_dist_signifs"
   ]
  },
  {
   "cell_type": "code",
   "execution_count": 12,
   "id": "43696222-2df0-411b-a368-afcb574c2ad3",
   "metadata": {
    "tags": []
   },
   "outputs": [
    {
     "data": {
      "text/plain": [
       "40"
      ]
     },
     "execution_count": 12,
     "metadata": {},
     "output_type": "execute_result"
    }
   ],
   "source": [
    "len(microbe_dist_signifs)"
   ]
  },
  {
   "cell_type": "code",
   "execution_count": 13,
   "id": "48545f20-23ae-4822-a128-30961ad4ec90",
   "metadata": {
    "collapsed": true,
    "jupyter": {
     "outputs_hidden": true
    },
    "tags": []
   },
   "outputs": [
    {
     "data": {
      "text/html": [
       "<pre style=\"white-space:pre;overflow-x:auto;line-height:normal;font-family:Menlo,'DejaVu Sans Mono',consolas,'Courier New',monospace\"></pre>\n"
      ],
      "text/plain": [
       "\u001b[?25l"
      ]
     },
     "metadata": {},
     "output_type": "display_data"
    },
    {
     "data": {
      "text/html": [
       "<pre style=\"white-space:pre;overflow-x:auto;line-height:normal;font-family:Menlo,'DejaVu Sans Mono',consolas,'Courier New',monospace\">\n",
       "</pre>\n"
      ],
      "text/plain": [
       "\n",
       "\u001b[?25h"
      ]
     },
     "metadata": {},
     "output_type": "display_data"
    },
    {
     "data": {
      "text/html": [
       "<div>\n",
       "<style scoped>\n",
       "    .dataframe tbody tr th:only-of-type {\n",
       "        vertical-align: middle;\n",
       "    }\n",
       "\n",
       "    .dataframe tbody tr th {\n",
       "        vertical-align: top;\n",
       "    }\n",
       "\n",
       "    .dataframe thead th {\n",
       "        text-align: right;\n",
       "    }\n",
       "</style>\n",
       "<table border=\"1\" class=\"dataframe\">\n",
       "  <thead>\n",
       "    <tr style=\"text-align: right;\">\n",
       "      <th></th>\n",
       "      <th>feature</th>\n",
       "      <th>beta</th>\n",
       "      <th>t_statistic</th>\n",
       "      <th>p</th>\n",
       "      <th>n</th>\n",
       "      <th>q</th>\n",
       "    </tr>\n",
       "  </thead>\n",
       "  <tbody>\n",
       "    <tr>\n",
       "      <th>metabolite_240</th>\n",
       "      <td>metabolite_240</td>\n",
       "      <td>0.059287</td>\n",
       "      <td>3.850025</td>\n",
       "      <td>1.226092e-04</td>\n",
       "      <td>1662.0</td>\n",
       "      <td>0.001313</td>\n",
       "    </tr>\n",
       "    <tr>\n",
       "      <th>metabolite_250</th>\n",
       "      <td>metabolite_250</td>\n",
       "      <td>0.040474</td>\n",
       "      <td>2.461910</td>\n",
       "      <td>1.392143e-02</td>\n",
       "      <td>1662.0</td>\n",
       "      <td>0.048793</td>\n",
       "    </tr>\n",
       "    <tr>\n",
       "      <th>metabolite_302</th>\n",
       "      <td>metabolite_302</td>\n",
       "      <td>-0.047559</td>\n",
       "      <td>-2.670878</td>\n",
       "      <td>7.646839e-03</td>\n",
       "      <td>1515.0</td>\n",
       "      <td>0.029868</td>\n",
       "    </tr>\n",
       "    <tr>\n",
       "      <th>metabolite_391</th>\n",
       "      <td>metabolite_391</td>\n",
       "      <td>0.044794</td>\n",
       "      <td>2.762376</td>\n",
       "      <td>5.802438e-03</td>\n",
       "      <td>1646.0</td>\n",
       "      <td>0.025018</td>\n",
       "    </tr>\n",
       "    <tr>\n",
       "      <th>metabolite_480</th>\n",
       "      <td>metabolite_480</td>\n",
       "      <td>-0.078410</td>\n",
       "      <td>-4.821319</td>\n",
       "      <td>1.558035e-06</td>\n",
       "      <td>1651.0</td>\n",
       "      <td>0.000043</td>\n",
       "    </tr>\n",
       "    <tr>\n",
       "      <th>...</th>\n",
       "      <td>...</td>\n",
       "      <td>...</td>\n",
       "      <td>...</td>\n",
       "      <td>...</td>\n",
       "      <td>...</td>\n",
       "      <td>...</td>\n",
       "    </tr>\n",
       "    <tr>\n",
       "      <th>metabolite_999947670</th>\n",
       "      <td>metabolite_999947670</td>\n",
       "      <td>0.058621</td>\n",
       "      <td>3.263538</td>\n",
       "      <td>1.127685e-03</td>\n",
       "      <td>1368.0</td>\n",
       "      <td>0.007641</td>\n",
       "    </tr>\n",
       "    <tr>\n",
       "      <th>metabolite_999949515</th>\n",
       "      <td>metabolite_999949515</td>\n",
       "      <td>0.062541</td>\n",
       "      <td>3.904017</td>\n",
       "      <td>9.849561e-05</td>\n",
       "      <td>1628.0</td>\n",
       "      <td>0.001168</td>\n",
       "    </tr>\n",
       "    <tr>\n",
       "      <th>metabolite_999949592</th>\n",
       "      <td>metabolite_999949592</td>\n",
       "      <td>0.081916</td>\n",
       "      <td>5.203601</td>\n",
       "      <td>2.200966e-07</td>\n",
       "      <td>1649.0</td>\n",
       "      <td>0.000009</td>\n",
       "    </tr>\n",
       "    <tr>\n",
       "      <th>metabolite_999952502</th>\n",
       "      <td>metabolite_999952502</td>\n",
       "      <td>-0.076613</td>\n",
       "      <td>-4.469971</td>\n",
       "      <td>8.357701e-06</td>\n",
       "      <td>1655.0</td>\n",
       "      <td>0.000146</td>\n",
       "    </tr>\n",
       "    <tr>\n",
       "      <th>metabolite_999953267</th>\n",
       "      <td>metabolite_999953267</td>\n",
       "      <td>0.057639</td>\n",
       "      <td>3.167580</td>\n",
       "      <td>1.572219e-03</td>\n",
       "      <td>1335.0</td>\n",
       "      <td>0.009849</td>\n",
       "    </tr>\n",
       "  </tbody>\n",
       "</table>\n",
       "<p>99 rows × 6 columns</p>\n",
       "</div>"
      ],
      "text/plain": [
       "                                   feature      beta  t_statistic  \\\n",
       "metabolite_240              metabolite_240  0.059287     3.850025   \n",
       "metabolite_250              metabolite_250  0.040474     2.461910   \n",
       "metabolite_302              metabolite_302 -0.047559    -2.670878   \n",
       "metabolite_391              metabolite_391  0.044794     2.762376   \n",
       "metabolite_480              metabolite_480 -0.078410    -4.821319   \n",
       "...                                    ...       ...          ...   \n",
       "metabolite_999947670  metabolite_999947670  0.058621     3.263538   \n",
       "metabolite_999949515  metabolite_999949515  0.062541     3.904017   \n",
       "metabolite_999949592  metabolite_999949592  0.081916     5.203601   \n",
       "metabolite_999952502  metabolite_999952502 -0.076613    -4.469971   \n",
       "metabolite_999953267  metabolite_999953267  0.057639     3.167580   \n",
       "\n",
       "                                 p       n         q  \n",
       "metabolite_240        1.226092e-04  1662.0  0.001313  \n",
       "metabolite_250        1.392143e-02  1662.0  0.048793  \n",
       "metabolite_302        7.646839e-03  1515.0  0.029868  \n",
       "metabolite_391        5.802438e-03  1646.0  0.025018  \n",
       "metabolite_480        1.558035e-06  1651.0  0.000043  \n",
       "...                            ...     ...       ...  \n",
       "metabolite_999947670  1.127685e-03  1368.0  0.007641  \n",
       "metabolite_999949515  9.849561e-05  1628.0  0.001168  \n",
       "metabolite_999949592  2.200966e-07  1649.0  0.000009  \n",
       "metabolite_999952502  8.357701e-06  1655.0  0.000146  \n",
       "metabolite_999953267  1.572219e-03  1335.0  0.009849  \n",
       "\n",
       "[99 rows x 6 columns]"
      ]
     },
     "execution_count": 13,
     "metadata": {},
     "output_type": "execute_result"
    }
   ],
   "source": [
    "# HYBRID\n",
    "def get_results(feature):\n",
    "    \n",
    "    \"\"\"Get a single association.\n",
    "    \n",
    "    As long as `args` and `df` are assigned this can be used on\n",
    "    any data set.\n",
    "    \"\"\"\n",
    "    formula = f\"{feature} ~ activities_distance + C(sex) + age + BMI_CALC + PC1 + PC2 + PC3 + PC4 + PC5\"\n",
    "    fitted = ols(formula, data=df).fit()\n",
    "    return pd.DataFrame({\n",
    "        \"feature\": feature,\n",
    "        \"beta\": fitted.params[\"activities_distance\"],\n",
    "        \"t_statistic\": fitted.tvalues[\"activities_distance\"],\n",
    "        \"p\": fitted.pvalues[\"activities_distance\"],\n",
    "        \"n\": fitted.nobs\n",
    "        }, index=[feature])\n",
    "\n",
    "args = hybrid_features\n",
    "df = mac_str\n",
    "results = map(get_results, track(args))\n",
    "results = list(results)\n",
    "tests = pd.concat(results)\n",
    "tests[\"q\"] = multipletests(tests.p, method=\"fdr_bh\")[1]\n",
    "hybrid_dist_signifs = tests[tests.q <= 0.05]\n",
    "hybrid_dist_signifs"
   ]
  },
  {
   "cell_type": "code",
   "execution_count": 14,
   "id": "fac34d68-c2ed-4d87-a724-847017d71446",
   "metadata": {
    "tags": []
   },
   "outputs": [
    {
     "data": {
      "text/plain": [
       "99"
      ]
     },
     "execution_count": 14,
     "metadata": {},
     "output_type": "execute_result"
    }
   ],
   "source": [
    "len(hybrid_dist_signifs)"
   ]
  },
  {
   "cell_type": "markdown",
   "id": "1d43a5b0-ea14-4c5b-8e47-87a8c0257248",
   "metadata": {
    "jp-MarkdownHeadingCollapsed": true,
    "tags": []
   },
   "source": [
    "##### Metabolites ~ Resting Heart Rate + [covar]"
   ]
  },
  {
   "cell_type": "code",
   "execution_count": 20,
   "id": "7c6424a2-f44f-4cd6-a7ce-1bc285ebb389",
   "metadata": {
    "collapsed": true,
    "jupyter": {
     "outputs_hidden": true
    },
    "tags": []
   },
   "outputs": [
    {
     "data": {
      "text/html": [
       "<pre style=\"white-space:pre;overflow-x:auto;line-height:normal;font-family:Menlo,'DejaVu Sans Mono',consolas,'Courier New',monospace\">\n",
       "</pre>\n"
      ],
      "text/plain": [
       "\n",
       "\u001b[?25h"
      ]
     },
     "metadata": {},
     "output_type": "display_data"
    },
    {
     "data": {
      "text/html": [
       "<pre style=\"white-space:pre;overflow-x:auto;line-height:normal;font-family:Menlo,'DejaVu Sans Mono',consolas,'Courier New',monospace\"></pre>\n"
      ],
      "text/plain": [
       "\u001b[?25l"
      ]
     },
     "metadata": {},
     "output_type": "display_data"
    },
    {
     "data": {
      "text/html": [
       "<pre style=\"white-space:pre;overflow-x:auto;line-height:normal;font-family:Menlo,'DejaVu Sans Mono',consolas,'Courier New',monospace\">\n",
       "</pre>\n"
      ],
      "text/plain": [
       "\n",
       "\u001b[?25h"
      ]
     },
     "metadata": {},
     "output_type": "display_data"
    },
    {
     "data": {
      "text/html": [
       "<div>\n",
       "<style scoped>\n",
       "    .dataframe tbody tr th:only-of-type {\n",
       "        vertical-align: middle;\n",
       "    }\n",
       "\n",
       "    .dataframe tbody tr th {\n",
       "        vertical-align: top;\n",
       "    }\n",
       "\n",
       "    .dataframe thead th {\n",
       "        text-align: right;\n",
       "    }\n",
       "</style>\n",
       "<table border=\"1\" class=\"dataframe\">\n",
       "  <thead>\n",
       "    <tr style=\"text-align: right;\">\n",
       "      <th></th>\n",
       "      <th>feature</th>\n",
       "      <th>beta</th>\n",
       "      <th>t_statistic</th>\n",
       "      <th>p</th>\n",
       "      <th>n</th>\n",
       "      <th>q</th>\n",
       "    </tr>\n",
       "  </thead>\n",
       "  <tbody>\n",
       "    <tr>\n",
       "      <th>metabolite_35</th>\n",
       "      <td>metabolite_35</td>\n",
       "      <td>-0.010017</td>\n",
       "      <td>-2.611695</td>\n",
       "      <td>9.120033e-03</td>\n",
       "      <td>1230.0</td>\n",
       "      <td>4.164815e-02</td>\n",
       "    </tr>\n",
       "    <tr>\n",
       "      <th>metabolite_179</th>\n",
       "      <td>metabolite_179</td>\n",
       "      <td>-0.009582</td>\n",
       "      <td>-2.564127</td>\n",
       "      <td>1.047356e-02</td>\n",
       "      <td>1126.0</td>\n",
       "      <td>4.628636e-02</td>\n",
       "    </tr>\n",
       "    <tr>\n",
       "      <th>metabolite_234</th>\n",
       "      <td>metabolite_234</td>\n",
       "      <td>0.027326</td>\n",
       "      <td>8.098629</td>\n",
       "      <td>1.258188e-15</td>\n",
       "      <td>1323.0</td>\n",
       "      <td>3.447436e-13</td>\n",
       "    </tr>\n",
       "    <tr>\n",
       "      <th>metabolite_278</th>\n",
       "      <td>metabolite_278</td>\n",
       "      <td>0.012809</td>\n",
       "      <td>3.666698</td>\n",
       "      <td>2.561612e-04</td>\n",
       "      <td>1243.0</td>\n",
       "      <td>2.807527e-03</td>\n",
       "    </tr>\n",
       "    <tr>\n",
       "      <th>metabolite_279</th>\n",
       "      <td>metabolite_279</td>\n",
       "      <td>0.009594</td>\n",
       "      <td>2.816278</td>\n",
       "      <td>4.931841e-03</td>\n",
       "      <td>1309.0</td>\n",
       "      <td>2.702649e-02</td>\n",
       "    </tr>\n",
       "    <tr>\n",
       "      <th>...</th>\n",
       "      <td>...</td>\n",
       "      <td>...</td>\n",
       "      <td>...</td>\n",
       "      <td>...</td>\n",
       "      <td>...</td>\n",
       "      <td>...</td>\n",
       "    </tr>\n",
       "    <tr>\n",
       "      <th>metabolite_100020204</th>\n",
       "      <td>metabolite_100020204</td>\n",
       "      <td>-0.009836</td>\n",
       "      <td>-2.966780</td>\n",
       "      <td>3.065310e-03</td>\n",
       "      <td>1288.0</td>\n",
       "      <td>1.755789e-02</td>\n",
       "    </tr>\n",
       "    <tr>\n",
       "      <th>metabolite_100020241</th>\n",
       "      <td>metabolite_100020241</td>\n",
       "      <td>-0.021674</td>\n",
       "      <td>-5.911384</td>\n",
       "      <td>4.366437e-09</td>\n",
       "      <td>1265.0</td>\n",
       "      <td>1.495505e-07</td>\n",
       "    </tr>\n",
       "    <tr>\n",
       "      <th>metabolite_100021123</th>\n",
       "      <td>metabolite_100021123</td>\n",
       "      <td>-0.013384</td>\n",
       "      <td>-3.652579</td>\n",
       "      <td>2.704023e-04</td>\n",
       "      <td>1255.0</td>\n",
       "      <td>2.849624e-03</td>\n",
       "    </tr>\n",
       "    <tr>\n",
       "      <th>metabolite_999946970</th>\n",
       "      <td>metabolite_999946970</td>\n",
       "      <td>-0.008996</td>\n",
       "      <td>-2.557442</td>\n",
       "      <td>1.066113e-02</td>\n",
       "      <td>1266.0</td>\n",
       "      <td>4.636747e-02</td>\n",
       "    </tr>\n",
       "    <tr>\n",
       "      <th>metabolite_999952286</th>\n",
       "      <td>metabolite_999952286</td>\n",
       "      <td>0.011257</td>\n",
       "      <td>2.649033</td>\n",
       "      <td>8.187059e-03</td>\n",
       "      <td>1118.0</td>\n",
       "      <td>3.902251e-02</td>\n",
       "    </tr>\n",
       "  </tbody>\n",
       "</table>\n",
       "<p>66 rows × 6 columns</p>\n",
       "</div>"
      ],
      "text/plain": [
       "                                   feature      beta  t_statistic  \\\n",
       "metabolite_35                metabolite_35 -0.010017    -2.611695   \n",
       "metabolite_179              metabolite_179 -0.009582    -2.564127   \n",
       "metabolite_234              metabolite_234  0.027326     8.098629   \n",
       "metabolite_278              metabolite_278  0.012809     3.666698   \n",
       "metabolite_279              metabolite_279  0.009594     2.816278   \n",
       "...                                    ...       ...          ...   \n",
       "metabolite_100020204  metabolite_100020204 -0.009836    -2.966780   \n",
       "metabolite_100020241  metabolite_100020241 -0.021674    -5.911384   \n",
       "metabolite_100021123  metabolite_100021123 -0.013384    -3.652579   \n",
       "metabolite_999946970  metabolite_999946970 -0.008996    -2.557442   \n",
       "metabolite_999952286  metabolite_999952286  0.011257     2.649033   \n",
       "\n",
       "                                 p       n             q  \n",
       "metabolite_35         9.120033e-03  1230.0  4.164815e-02  \n",
       "metabolite_179        1.047356e-02  1126.0  4.628636e-02  \n",
       "metabolite_234        1.258188e-15  1323.0  3.447436e-13  \n",
       "metabolite_278        2.561612e-04  1243.0  2.807527e-03  \n",
       "metabolite_279        4.931841e-03  1309.0  2.702649e-02  \n",
       "...                            ...     ...           ...  \n",
       "metabolite_100020204  3.065310e-03  1288.0  1.755789e-02  \n",
       "metabolite_100020241  4.366437e-09  1265.0  1.495505e-07  \n",
       "metabolite_100021123  2.704023e-04  1255.0  2.849624e-03  \n",
       "metabolite_999946970  1.066113e-02  1266.0  4.636747e-02  \n",
       "metabolite_999952286  8.187059e-03  1118.0  3.902251e-02  \n",
       "\n",
       "[66 rows x 6 columns]"
      ]
     },
     "execution_count": 20,
     "metadata": {},
     "output_type": "execute_result"
    }
   ],
   "source": [
    "# GENETIC\n",
    "def get_results(feature):\n",
    "    \n",
    "    \"\"\"Get a single association.\n",
    "    \n",
    "    As long as `args` and `df` are assigned this can be used on\n",
    "    any data set.\n",
    "    \"\"\"\n",
    "    formula = f\"{feature} ~ heartrate_resting + C(sex) + age + BMI_CALC + PC1 + PC2 + PC3 + PC4 + PC5\"\n",
    "    fitted = ols(formula, data=df).fit()\n",
    "    return pd.DataFrame({\n",
    "        \"feature\": feature,\n",
    "        \"beta\": fitted.params[\"heartrate_resting\"],\n",
    "        \"t_statistic\": fitted.tvalues[\"heartrate_resting\"],\n",
    "        \"p\": fitted.pvalues[\"heartrate_resting\"],\n",
    "        \"n\": fitted.nobs\n",
    "        }, index=[feature])\n",
    "\n",
    "args = gen_only_features\n",
    "df = mac_str\n",
    "results = map(get_results, track(args))\n",
    "results = list(results)\n",
    "tests = pd.concat(results)\n",
    "tests[\"q\"] = multipletests(tests.p, method=\"fdr_bh\")[1]\n",
    "gene_hr_signifs = tests[tests.q <= 0.05]\n",
    "gene_hr_signifs"
   ]
  },
  {
   "cell_type": "code",
   "execution_count": 21,
   "id": "4969acd9-53ff-49ca-a532-0494118bb357",
   "metadata": {
    "tags": []
   },
   "outputs": [
    {
     "data": {
      "text/plain": [
       "66"
      ]
     },
     "execution_count": 21,
     "metadata": {},
     "output_type": "execute_result"
    }
   ],
   "source": [
    "len(gene_hr_signifs)"
   ]
  },
  {
   "cell_type": "code",
   "execution_count": 22,
   "id": "8370293d-ac35-4e36-aa45-8af638bfcc7a",
   "metadata": {
    "collapsed": true,
    "jupyter": {
     "outputs_hidden": true
    },
    "tags": []
   },
   "outputs": [
    {
     "data": {
      "text/html": [
       "<div>\n",
       "<style scoped>\n",
       "    .dataframe tbody tr th:only-of-type {\n",
       "        vertical-align: middle;\n",
       "    }\n",
       "\n",
       "    .dataframe tbody tr th {\n",
       "        vertical-align: top;\n",
       "    }\n",
       "\n",
       "    .dataframe thead th {\n",
       "        text-align: right;\n",
       "    }\n",
       "</style>\n",
       "<table border=\"1\" class=\"dataframe\">\n",
       "  <thead>\n",
       "    <tr style=\"text-align: right;\">\n",
       "      <th></th>\n",
       "      <th>feature</th>\n",
       "      <th>beta</th>\n",
       "      <th>t_statistic</th>\n",
       "      <th>p</th>\n",
       "      <th>n</th>\n",
       "      <th>q</th>\n",
       "    </tr>\n",
       "  </thead>\n",
       "  <tbody>\n",
       "    <tr>\n",
       "      <th>metabolite_100000787</th>\n",
       "      <td>metabolite_100000787</td>\n",
       "      <td>-0.024991</td>\n",
       "      <td>-7.371307</td>\n",
       "      <td>3.001062e-13</td>\n",
       "      <td>1306.0</td>\n",
       "      <td>4.111454e-11</td>\n",
       "    </tr>\n",
       "    <tr>\n",
       "      <th>metabolite_1140</th>\n",
       "      <td>metabolite_1140</td>\n",
       "      <td>-0.024005</td>\n",
       "      <td>-6.450451</td>\n",
       "      <td>1.574563e-10</td>\n",
       "      <td>1297.0</td>\n",
       "      <td>8.628604e-09</td>\n",
       "    </tr>\n",
       "    <tr>\n",
       "      <th>metabolite_100020241</th>\n",
       "      <td>metabolite_100020241</td>\n",
       "      <td>-0.021674</td>\n",
       "      <td>-5.911384</td>\n",
       "      <td>4.366437e-09</td>\n",
       "      <td>1265.0</td>\n",
       "      <td>1.495505e-07</td>\n",
       "    </tr>\n",
       "    <tr>\n",
       "      <th>metabolite_100001294</th>\n",
       "      <td>metabolite_100001294</td>\n",
       "      <td>-0.021486</td>\n",
       "      <td>-6.210764</td>\n",
       "      <td>7.099935e-10</td>\n",
       "      <td>1299.0</td>\n",
       "      <td>3.242304e-08</td>\n",
       "    </tr>\n",
       "    <tr>\n",
       "      <th>metabolite_100001662</th>\n",
       "      <td>metabolite_100001662</td>\n",
       "      <td>-0.020792</td>\n",
       "      <td>-6.135072</td>\n",
       "      <td>1.131238e-09</td>\n",
       "      <td>1296.0</td>\n",
       "      <td>4.427987e-08</td>\n",
       "    </tr>\n",
       "    <tr>\n",
       "      <th>...</th>\n",
       "      <td>...</td>\n",
       "      <td>...</td>\n",
       "      <td>...</td>\n",
       "      <td>...</td>\n",
       "      <td>...</td>\n",
       "      <td>...</td>\n",
       "    </tr>\n",
       "    <tr>\n",
       "      <th>metabolite_100001856</th>\n",
       "      <td>metabolite_100001856</td>\n",
       "      <td>0.018887</td>\n",
       "      <td>5.268388</td>\n",
       "      <td>1.612702e-07</td>\n",
       "      <td>1293.0</td>\n",
       "      <td>4.418803e-06</td>\n",
       "    </tr>\n",
       "    <tr>\n",
       "      <th>metabolite_482</th>\n",
       "      <td>metabolite_482</td>\n",
       "      <td>0.019663</td>\n",
       "      <td>5.678763</td>\n",
       "      <td>1.676385e-08</td>\n",
       "      <td>1293.0</td>\n",
       "      <td>5.103662e-07</td>\n",
       "    </tr>\n",
       "    <tr>\n",
       "      <th>metabolite_100009028</th>\n",
       "      <td>metabolite_100009028</td>\n",
       "      <td>0.023353</td>\n",
       "      <td>6.563809</td>\n",
       "      <td>7.585937e-11</td>\n",
       "      <td>1297.0</td>\n",
       "      <td>5.196367e-09</td>\n",
       "    </tr>\n",
       "    <tr>\n",
       "      <th>metabolite_313</th>\n",
       "      <td>metabolite_313</td>\n",
       "      <td>0.024166</td>\n",
       "      <td>6.714689</td>\n",
       "      <td>2.833906e-11</td>\n",
       "      <td>1281.0</td>\n",
       "      <td>2.588301e-09</td>\n",
       "    </tr>\n",
       "    <tr>\n",
       "      <th>metabolite_234</th>\n",
       "      <td>metabolite_234</td>\n",
       "      <td>0.027326</td>\n",
       "      <td>8.098629</td>\n",
       "      <td>1.258188e-15</td>\n",
       "      <td>1323.0</td>\n",
       "      <td>3.447436e-13</td>\n",
       "    </tr>\n",
       "  </tbody>\n",
       "</table>\n",
       "<p>66 rows × 6 columns</p>\n",
       "</div>"
      ],
      "text/plain": [
       "                                   feature      beta  t_statistic  \\\n",
       "metabolite_100000787  metabolite_100000787 -0.024991    -7.371307   \n",
       "metabolite_1140            metabolite_1140 -0.024005    -6.450451   \n",
       "metabolite_100020241  metabolite_100020241 -0.021674    -5.911384   \n",
       "metabolite_100001294  metabolite_100001294 -0.021486    -6.210764   \n",
       "metabolite_100001662  metabolite_100001662 -0.020792    -6.135072   \n",
       "...                                    ...       ...          ...   \n",
       "metabolite_100001856  metabolite_100001856  0.018887     5.268388   \n",
       "metabolite_482              metabolite_482  0.019663     5.678763   \n",
       "metabolite_100009028  metabolite_100009028  0.023353     6.563809   \n",
       "metabolite_313              metabolite_313  0.024166     6.714689   \n",
       "metabolite_234              metabolite_234  0.027326     8.098629   \n",
       "\n",
       "                                 p       n             q  \n",
       "metabolite_100000787  3.001062e-13  1306.0  4.111454e-11  \n",
       "metabolite_1140       1.574563e-10  1297.0  8.628604e-09  \n",
       "metabolite_100020241  4.366437e-09  1265.0  1.495505e-07  \n",
       "metabolite_100001294  7.099935e-10  1299.0  3.242304e-08  \n",
       "metabolite_100001662  1.131238e-09  1296.0  4.427987e-08  \n",
       "...                            ...     ...           ...  \n",
       "metabolite_100001856  1.612702e-07  1293.0  4.418803e-06  \n",
       "metabolite_482        1.676385e-08  1293.0  5.103662e-07  \n",
       "metabolite_100009028  7.585937e-11  1297.0  5.196367e-09  \n",
       "metabolite_313        2.833906e-11  1281.0  2.588301e-09  \n",
       "metabolite_234        1.258188e-15  1323.0  3.447436e-13  \n",
       "\n",
       "[66 rows x 6 columns]"
      ]
     },
     "execution_count": 22,
     "metadata": {},
     "output_type": "execute_result"
    }
   ],
   "source": [
    "gene_hr_signifs.sort_values(by=\"beta\", ascending=True)"
   ]
  },
  {
   "cell_type": "code",
   "execution_count": 23,
   "id": "be8ccdbb-dd14-4dcc-b0b3-baa393abe51a",
   "metadata": {
    "collapsed": true,
    "jupyter": {
     "outputs_hidden": true
    },
    "tags": []
   },
   "outputs": [
    {
     "data": {
      "text/html": [
       "<pre style=\"white-space:pre;overflow-x:auto;line-height:normal;font-family:Menlo,'DejaVu Sans Mono',consolas,'Courier New',monospace\"></pre>\n"
      ],
      "text/plain": [
       "\u001b[?25l"
      ]
     },
     "metadata": {},
     "output_type": "display_data"
    },
    {
     "data": {
      "text/html": [
       "<pre style=\"white-space:pre;overflow-x:auto;line-height:normal;font-family:Menlo,'DejaVu Sans Mono',consolas,'Courier New',monospace\">\n",
       "</pre>\n"
      ],
      "text/plain": [
       "\n",
       "\u001b[?25h"
      ]
     },
     "metadata": {},
     "output_type": "display_data"
    },
    {
     "data": {
      "text/html": [
       "<div>\n",
       "<style scoped>\n",
       "    .dataframe tbody tr th:only-of-type {\n",
       "        vertical-align: middle;\n",
       "    }\n",
       "\n",
       "    .dataframe tbody tr th {\n",
       "        vertical-align: top;\n",
       "    }\n",
       "\n",
       "    .dataframe thead th {\n",
       "        text-align: right;\n",
       "    }\n",
       "</style>\n",
       "<table border=\"1\" class=\"dataframe\">\n",
       "  <thead>\n",
       "    <tr style=\"text-align: right;\">\n",
       "      <th></th>\n",
       "      <th>feature</th>\n",
       "      <th>beta</th>\n",
       "      <th>t_statistic</th>\n",
       "      <th>p</th>\n",
       "      <th>n</th>\n",
       "      <th>q</th>\n",
       "    </tr>\n",
       "  </thead>\n",
       "  <tbody>\n",
       "    <tr>\n",
       "      <th>metabolite_62</th>\n",
       "      <td>metabolite_62</td>\n",
       "      <td>-0.016372</td>\n",
       "      <td>-4.516791</td>\n",
       "      <td>6.926421e-06</td>\n",
       "      <td>1158.0</td>\n",
       "      <td>1.064549e-04</td>\n",
       "    </tr>\n",
       "    <tr>\n",
       "      <th>metabolite_424</th>\n",
       "      <td>metabolite_424</td>\n",
       "      <td>0.013792</td>\n",
       "      <td>3.849186</td>\n",
       "      <td>1.242330e-04</td>\n",
       "      <td>1318.0</td>\n",
       "      <td>1.013480e-03</td>\n",
       "    </tr>\n",
       "    <tr>\n",
       "      <th>metabolite_439</th>\n",
       "      <td>metabolite_439</td>\n",
       "      <td>0.010598</td>\n",
       "      <td>2.923452</td>\n",
       "      <td>3.521398e-03</td>\n",
       "      <td>1316.0</td>\n",
       "      <td>1.559476e-02</td>\n",
       "    </tr>\n",
       "    <tr>\n",
       "      <th>metabolite_561</th>\n",
       "      <td>metabolite_561</td>\n",
       "      <td>0.022687</td>\n",
       "      <td>7.141582</td>\n",
       "      <td>1.535328e-12</td>\n",
       "      <td>1303.0</td>\n",
       "      <td>7.932529e-11</td>\n",
       "    </tr>\n",
       "    <tr>\n",
       "      <th>metabolite_891</th>\n",
       "      <td>metabolite_891</td>\n",
       "      <td>0.011027</td>\n",
       "      <td>3.084442</td>\n",
       "      <td>2.082611e-03</td>\n",
       "      <td>1302.0</td>\n",
       "      <td>1.041306e-02</td>\n",
       "    </tr>\n",
       "    <tr>\n",
       "      <th>metabolite_922</th>\n",
       "      <td>metabolite_922</td>\n",
       "      <td>0.025897</td>\n",
       "      <td>7.841544</td>\n",
       "      <td>9.797522e-15</td>\n",
       "      <td>1206.0</td>\n",
       "      <td>1.518616e-12</td>\n",
       "    </tr>\n",
       "    <tr>\n",
       "      <th>metabolite_1135</th>\n",
       "      <td>metabolite_1135</td>\n",
       "      <td>0.011889</td>\n",
       "      <td>3.172043</td>\n",
       "      <td>1.553348e-03</td>\n",
       "      <td>1172.0</td>\n",
       "      <td>8.598893e-03</td>\n",
       "    </tr>\n",
       "    <tr>\n",
       "      <th>metabolite_1231</th>\n",
       "      <td>metabolite_1231</td>\n",
       "      <td>0.009533</td>\n",
       "      <td>2.682730</td>\n",
       "      <td>7.394831e-03</td>\n",
       "      <td>1312.0</td>\n",
       "      <td>2.729045e-02</td>\n",
       "    </tr>\n",
       "    <tr>\n",
       "      <th>metabolite_1539</th>\n",
       "      <td>metabolite_1539</td>\n",
       "      <td>0.014575</td>\n",
       "      <td>4.149323</td>\n",
       "      <td>3.551960e-05</td>\n",
       "      <td>1306.0</td>\n",
       "      <td>3.932527e-04</td>\n",
       "    </tr>\n",
       "    <tr>\n",
       "      <th>metabolite_100000014</th>\n",
       "      <td>metabolite_100000014</td>\n",
       "      <td>-0.012832</td>\n",
       "      <td>-3.554651</td>\n",
       "      <td>3.922993e-04</td>\n",
       "      <td>1287.0</td>\n",
       "      <td>2.643756e-03</td>\n",
       "    </tr>\n",
       "    <tr>\n",
       "      <th>metabolite_100000672</th>\n",
       "      <td>metabolite_100000672</td>\n",
       "      <td>0.014473</td>\n",
       "      <td>4.031261</td>\n",
       "      <td>5.873363e-05</td>\n",
       "      <td>1297.0</td>\n",
       "      <td>6.069141e-04</td>\n",
       "    </tr>\n",
       "    <tr>\n",
       "      <th>metabolite_100001121</th>\n",
       "      <td>metabolite_100001121</td>\n",
       "      <td>-0.008388</td>\n",
       "      <td>-2.635830</td>\n",
       "      <td>8.494230e-03</td>\n",
       "      <td>1295.0</td>\n",
       "      <td>2.925790e-02</td>\n",
       "    </tr>\n",
       "    <tr>\n",
       "      <th>metabolite_100001182</th>\n",
       "      <td>metabolite_100001182</td>\n",
       "      <td>0.016225</td>\n",
       "      <td>4.495515</td>\n",
       "      <td>7.554862e-06</td>\n",
       "      <td>1317.0</td>\n",
       "      <td>1.064549e-04</td>\n",
       "    </tr>\n",
       "    <tr>\n",
       "      <th>metabolite_100001277</th>\n",
       "      <td>metabolite_100001277</td>\n",
       "      <td>0.013960</td>\n",
       "      <td>3.946733</td>\n",
       "      <td>8.349699e-05</td>\n",
       "      <td>1300.0</td>\n",
       "      <td>7.190018e-04</td>\n",
       "    </tr>\n",
       "    <tr>\n",
       "      <th>metabolite_100001384</th>\n",
       "      <td>metabolite_100001384</td>\n",
       "      <td>-0.011845</td>\n",
       "      <td>-3.406382</td>\n",
       "      <td>6.814107e-04</td>\n",
       "      <td>1142.0</td>\n",
       "      <td>4.224746e-03</td>\n",
       "    </tr>\n",
       "    <tr>\n",
       "      <th>metabolite_100001977</th>\n",
       "      <td>metabolite_100001977</td>\n",
       "      <td>-0.014597</td>\n",
       "      <td>-4.445798</td>\n",
       "      <td>9.523537e-06</td>\n",
       "      <td>1276.0</td>\n",
       "      <td>1.135499e-04</td>\n",
       "    </tr>\n",
       "    <tr>\n",
       "      <th>metabolite_100002356</th>\n",
       "      <td>metabolite_100002356</td>\n",
       "      <td>0.014392</td>\n",
       "      <td>4.005278</td>\n",
       "      <td>6.549769e-05</td>\n",
       "      <td>1294.0</td>\n",
       "      <td>6.345089e-04</td>\n",
       "    </tr>\n",
       "    <tr>\n",
       "      <th>metabolite_100002488</th>\n",
       "      <td>metabolite_100002488</td>\n",
       "      <td>0.014257</td>\n",
       "      <td>3.952964</td>\n",
       "      <td>8.143071e-05</td>\n",
       "      <td>1284.0</td>\n",
       "      <td>7.190018e-04</td>\n",
       "    </tr>\n",
       "    <tr>\n",
       "      <th>metabolite_100002911</th>\n",
       "      <td>metabolite_100002911</td>\n",
       "      <td>0.008845</td>\n",
       "      <td>2.507347</td>\n",
       "      <td>1.228825e-02</td>\n",
       "      <td>1279.0</td>\n",
       "      <td>3.967391e-02</td>\n",
       "    </tr>\n",
       "    <tr>\n",
       "      <th>metabolite_100004208</th>\n",
       "      <td>metabolite_100004208</td>\n",
       "      <td>-0.008532</td>\n",
       "      <td>-2.459708</td>\n",
       "      <td>1.403616e-02</td>\n",
       "      <td>1293.0</td>\n",
       "      <td>4.351209e-02</td>\n",
       "    </tr>\n",
       "    <tr>\n",
       "      <th>metabolite_100005352</th>\n",
       "      <td>metabolite_100005352</td>\n",
       "      <td>-0.011894</td>\n",
       "      <td>-3.648112</td>\n",
       "      <td>2.747175e-04</td>\n",
       "      <td>1299.0</td>\n",
       "      <td>2.027677e-03</td>\n",
       "    </tr>\n",
       "    <tr>\n",
       "      <th>metabolite_100009015</th>\n",
       "      <td>metabolite_100009015</td>\n",
       "      <td>-0.010298</td>\n",
       "      <td>-3.130008</td>\n",
       "      <td>1.787261e-03</td>\n",
       "      <td>1299.0</td>\n",
       "      <td>9.552605e-03</td>\n",
       "    </tr>\n",
       "    <tr>\n",
       "      <th>metabolite_100009125</th>\n",
       "      <td>metabolite_100009125</td>\n",
       "      <td>-0.008891</td>\n",
       "      <td>-2.655379</td>\n",
       "      <td>8.022076e-03</td>\n",
       "      <td>1267.0</td>\n",
       "      <td>2.891679e-02</td>\n",
       "    </tr>\n",
       "    <tr>\n",
       "      <th>metabolite_100009143</th>\n",
       "      <td>metabolite_100009143</td>\n",
       "      <td>0.020472</td>\n",
       "      <td>5.856528</td>\n",
       "      <td>5.975438e-09</td>\n",
       "      <td>1314.0</td>\n",
       "      <td>1.852386e-07</td>\n",
       "    </tr>\n",
       "    <tr>\n",
       "      <th>metabolite_100009215</th>\n",
       "      <td>metabolite_100009215</td>\n",
       "      <td>0.021546</td>\n",
       "      <td>6.254931</td>\n",
       "      <td>5.377195e-10</td>\n",
       "      <td>1317.0</td>\n",
       "      <td>2.083663e-08</td>\n",
       "    </tr>\n",
       "    <tr>\n",
       "      <th>metabolite_100009347</th>\n",
       "      <td>metabolite_100009347</td>\n",
       "      <td>0.017367</td>\n",
       "      <td>4.863747</td>\n",
       "      <td>1.293048e-06</td>\n",
       "      <td>1305.0</td>\n",
       "      <td>2.863177e-05</td>\n",
       "    </tr>\n",
       "    <tr>\n",
       "      <th>metabolite_100009376</th>\n",
       "      <td>metabolite_100009376</td>\n",
       "      <td>-0.009796</td>\n",
       "      <td>-2.899501</td>\n",
       "      <td>3.801214e-03</td>\n",
       "      <td>1293.0</td>\n",
       "      <td>1.592400e-02</td>\n",
       "    </tr>\n",
       "    <tr>\n",
       "      <th>metabolite_100009378</th>\n",
       "      <td>metabolite_100009378</td>\n",
       "      <td>0.016208</td>\n",
       "      <td>4.472954</td>\n",
       "      <td>8.387616e-06</td>\n",
       "      <td>1311.0</td>\n",
       "      <td>1.083400e-04</td>\n",
       "    </tr>\n",
       "    <tr>\n",
       "      <th>metabolite_100010869</th>\n",
       "      <td>metabolite_100010869</td>\n",
       "      <td>-0.010752</td>\n",
       "      <td>-2.913903</td>\n",
       "      <td>3.641438e-03</td>\n",
       "      <td>1113.0</td>\n",
       "      <td>1.567841e-02</td>\n",
       "    </tr>\n",
       "    <tr>\n",
       "      <th>metabolite_100010916</th>\n",
       "      <td>metabolite_100010916</td>\n",
       "      <td>0.026151</td>\n",
       "      <td>7.518370</td>\n",
       "      <td>1.095215e-13</td>\n",
       "      <td>1188.0</td>\n",
       "      <td>8.487916e-12</td>\n",
       "    </tr>\n",
       "    <tr>\n",
       "      <th>metabolite_100010950</th>\n",
       "      <td>metabolite_100010950</td>\n",
       "      <td>0.012833</td>\n",
       "      <td>3.097954</td>\n",
       "      <td>2.001148e-03</td>\n",
       "      <td>1045.0</td>\n",
       "      <td>1.033926e-02</td>\n",
       "    </tr>\n",
       "    <tr>\n",
       "      <th>metabolite_100015587</th>\n",
       "      <td>metabolite_100015587</td>\n",
       "      <td>-0.009311</td>\n",
       "      <td>-2.639717</td>\n",
       "      <td>8.397040e-03</td>\n",
       "      <td>1307.0</td>\n",
       "      <td>2.925790e-02</td>\n",
       "    </tr>\n",
       "    <tr>\n",
       "      <th>metabolite_100015593</th>\n",
       "      <td>metabolite_100015593</td>\n",
       "      <td>0.019011</td>\n",
       "      <td>5.469470</td>\n",
       "      <td>5.513050e-08</td>\n",
       "      <td>1183.0</td>\n",
       "      <td>1.424205e-06</td>\n",
       "    </tr>\n",
       "    <tr>\n",
       "      <th>metabolite_100015596</th>\n",
       "      <td>metabolite_100015596</td>\n",
       "      <td>0.010909</td>\n",
       "      <td>3.046661</td>\n",
       "      <td>2.360462e-03</td>\n",
       "      <td>1314.0</td>\n",
       "      <td>1.108702e-02</td>\n",
       "    </tr>\n",
       "    <tr>\n",
       "      <th>metabolite_100015618</th>\n",
       "      <td>metabolite_100015618</td>\n",
       "      <td>0.016736</td>\n",
       "      <td>4.537028</td>\n",
       "      <td>6.310779e-06</td>\n",
       "      <td>1147.0</td>\n",
       "      <td>1.064549e-04</td>\n",
       "    </tr>\n",
       "    <tr>\n",
       "      <th>metabolite_100015737</th>\n",
       "      <td>metabolite_100015737</td>\n",
       "      <td>0.017142</td>\n",
       "      <td>4.714770</td>\n",
       "      <td>2.701182e-06</td>\n",
       "      <td>1218.0</td>\n",
       "      <td>5.233540e-05</td>\n",
       "    </tr>\n",
       "    <tr>\n",
       "      <th>metabolite_100021374</th>\n",
       "      <td>metabolite_100021374</td>\n",
       "      <td>-0.009388</td>\n",
       "      <td>-2.720986</td>\n",
       "      <td>6.600398e-03</td>\n",
       "      <td>1242.0</td>\n",
       "      <td>2.495272e-02</td>\n",
       "    </tr>\n",
       "    <tr>\n",
       "      <th>metabolite_999946666</th>\n",
       "      <td>metabolite_999946666</td>\n",
       "      <td>-0.011091</td>\n",
       "      <td>-2.797907</td>\n",
       "      <td>5.239955e-03</td>\n",
       "      <td>1034.0</td>\n",
       "      <td>2.082546e-02</td>\n",
       "    </tr>\n",
       "    <tr>\n",
       "      <th>metabolite_999946674</th>\n",
       "      <td>metabolite_999946674</td>\n",
       "      <td>-0.011412</td>\n",
       "      <td>-3.188580</td>\n",
       "      <td>1.465318e-03</td>\n",
       "      <td>1256.0</td>\n",
       "      <td>8.412012e-03</td>\n",
       "    </tr>\n",
       "    <tr>\n",
       "      <th>metabolite_999946690</th>\n",
       "      <td>metabolite_999946690</td>\n",
       "      <td>-0.008733</td>\n",
       "      <td>-2.543938</td>\n",
       "      <td>1.107798e-02</td>\n",
       "      <td>1288.0</td>\n",
       "      <td>3.732798e-02</td>\n",
       "    </tr>\n",
       "    <tr>\n",
       "      <th>metabolite_999946977</th>\n",
       "      <td>metabolite_999946977</td>\n",
       "      <td>-0.008988</td>\n",
       "      <td>-2.723143</td>\n",
       "      <td>6.553545e-03</td>\n",
       "      <td>1301.0</td>\n",
       "      <td>2.495272e-02</td>\n",
       "    </tr>\n",
       "    <tr>\n",
       "      <th>metabolite_999946998</th>\n",
       "      <td>metabolite_999946998</td>\n",
       "      <td>-0.011053</td>\n",
       "      <td>-2.805112</td>\n",
       "      <td>5.121617e-03</td>\n",
       "      <td>1073.0</td>\n",
       "      <td>2.082546e-02</td>\n",
       "    </tr>\n",
       "    <tr>\n",
       "      <th>metabolite_999947708</th>\n",
       "      <td>metabolite_999947708</td>\n",
       "      <td>-0.012451</td>\n",
       "      <td>-3.033814</td>\n",
       "      <td>2.478426e-03</td>\n",
       "      <td>991.0</td>\n",
       "      <td>1.129871e-02</td>\n",
       "    </tr>\n",
       "    <tr>\n",
       "      <th>metabolite_999947905</th>\n",
       "      <td>metabolite_999947905</td>\n",
       "      <td>-0.011726</td>\n",
       "      <td>-3.574013</td>\n",
       "      <td>3.644282e-04</td>\n",
       "      <td>1309.0</td>\n",
       "      <td>2.567563e-03</td>\n",
       "    </tr>\n",
       "    <tr>\n",
       "      <th>metabolite_999947971</th>\n",
       "      <td>metabolite_999947971</td>\n",
       "      <td>-0.011047</td>\n",
       "      <td>-3.051458</td>\n",
       "      <td>2.326241e-03</td>\n",
       "      <td>1237.0</td>\n",
       "      <td>1.108702e-02</td>\n",
       "    </tr>\n",
       "    <tr>\n",
       "      <th>metabolite_999948001</th>\n",
       "      <td>metabolite_999948001</td>\n",
       "      <td>-0.012043</td>\n",
       "      <td>-3.307125</td>\n",
       "      <td>9.706729e-04</td>\n",
       "      <td>1203.0</td>\n",
       "      <td>5.786704e-03</td>\n",
       "    </tr>\n",
       "    <tr>\n",
       "      <th>metabolite_999948094</th>\n",
       "      <td>metabolite_999948094</td>\n",
       "      <td>-0.009294</td>\n",
       "      <td>-2.500554</td>\n",
       "      <td>1.254208e-02</td>\n",
       "      <td>1129.0</td>\n",
       "      <td>3.967391e-02</td>\n",
       "    </tr>\n",
       "    <tr>\n",
       "      <th>metabolite_999949555</th>\n",
       "      <td>metabolite_999949555</td>\n",
       "      <td>-0.009744</td>\n",
       "      <td>-2.527369</td>\n",
       "      <td>1.162248e-02</td>\n",
       "      <td>1184.0</td>\n",
       "      <td>3.832947e-02</td>\n",
       "    </tr>\n",
       "    <tr>\n",
       "      <th>metabolite_999952877</th>\n",
       "      <td>metabolite_999952877</td>\n",
       "      <td>-0.012546</td>\n",
       "      <td>-3.531914</td>\n",
       "      <td>4.277325e-04</td>\n",
       "      <td>1248.0</td>\n",
       "      <td>2.762439e-03</td>\n",
       "    </tr>\n",
       "    <tr>\n",
       "      <th>metabolite_999952909</th>\n",
       "      <td>metabolite_999952909</td>\n",
       "      <td>0.012217</td>\n",
       "      <td>3.669188</td>\n",
       "      <td>2.533511e-04</td>\n",
       "      <td>1286.0</td>\n",
       "      <td>1.963471e-03</td>\n",
       "    </tr>\n",
       "  </tbody>\n",
       "</table>\n",
       "</div>"
      ],
      "text/plain": [
       "                                   feature      beta  t_statistic  \\\n",
       "metabolite_62                metabolite_62 -0.016372    -4.516791   \n",
       "metabolite_424              metabolite_424  0.013792     3.849186   \n",
       "metabolite_439              metabolite_439  0.010598     2.923452   \n",
       "metabolite_561              metabolite_561  0.022687     7.141582   \n",
       "metabolite_891              metabolite_891  0.011027     3.084442   \n",
       "metabolite_922              metabolite_922  0.025897     7.841544   \n",
       "metabolite_1135            metabolite_1135  0.011889     3.172043   \n",
       "metabolite_1231            metabolite_1231  0.009533     2.682730   \n",
       "metabolite_1539            metabolite_1539  0.014575     4.149323   \n",
       "metabolite_100000014  metabolite_100000014 -0.012832    -3.554651   \n",
       "metabolite_100000672  metabolite_100000672  0.014473     4.031261   \n",
       "metabolite_100001121  metabolite_100001121 -0.008388    -2.635830   \n",
       "metabolite_100001182  metabolite_100001182  0.016225     4.495515   \n",
       "metabolite_100001277  metabolite_100001277  0.013960     3.946733   \n",
       "metabolite_100001384  metabolite_100001384 -0.011845    -3.406382   \n",
       "metabolite_100001977  metabolite_100001977 -0.014597    -4.445798   \n",
       "metabolite_100002356  metabolite_100002356  0.014392     4.005278   \n",
       "metabolite_100002488  metabolite_100002488  0.014257     3.952964   \n",
       "metabolite_100002911  metabolite_100002911  0.008845     2.507347   \n",
       "metabolite_100004208  metabolite_100004208 -0.008532    -2.459708   \n",
       "metabolite_100005352  metabolite_100005352 -0.011894    -3.648112   \n",
       "metabolite_100009015  metabolite_100009015 -0.010298    -3.130008   \n",
       "metabolite_100009125  metabolite_100009125 -0.008891    -2.655379   \n",
       "metabolite_100009143  metabolite_100009143  0.020472     5.856528   \n",
       "metabolite_100009215  metabolite_100009215  0.021546     6.254931   \n",
       "metabolite_100009347  metabolite_100009347  0.017367     4.863747   \n",
       "metabolite_100009376  metabolite_100009376 -0.009796    -2.899501   \n",
       "metabolite_100009378  metabolite_100009378  0.016208     4.472954   \n",
       "metabolite_100010869  metabolite_100010869 -0.010752    -2.913903   \n",
       "metabolite_100010916  metabolite_100010916  0.026151     7.518370   \n",
       "metabolite_100010950  metabolite_100010950  0.012833     3.097954   \n",
       "metabolite_100015587  metabolite_100015587 -0.009311    -2.639717   \n",
       "metabolite_100015593  metabolite_100015593  0.019011     5.469470   \n",
       "metabolite_100015596  metabolite_100015596  0.010909     3.046661   \n",
       "metabolite_100015618  metabolite_100015618  0.016736     4.537028   \n",
       "metabolite_100015737  metabolite_100015737  0.017142     4.714770   \n",
       "metabolite_100021374  metabolite_100021374 -0.009388    -2.720986   \n",
       "metabolite_999946666  metabolite_999946666 -0.011091    -2.797907   \n",
       "metabolite_999946674  metabolite_999946674 -0.011412    -3.188580   \n",
       "metabolite_999946690  metabolite_999946690 -0.008733    -2.543938   \n",
       "metabolite_999946977  metabolite_999946977 -0.008988    -2.723143   \n",
       "metabolite_999946998  metabolite_999946998 -0.011053    -2.805112   \n",
       "metabolite_999947708  metabolite_999947708 -0.012451    -3.033814   \n",
       "metabolite_999947905  metabolite_999947905 -0.011726    -3.574013   \n",
       "metabolite_999947971  metabolite_999947971 -0.011047    -3.051458   \n",
       "metabolite_999948001  metabolite_999948001 -0.012043    -3.307125   \n",
       "metabolite_999948094  metabolite_999948094 -0.009294    -2.500554   \n",
       "metabolite_999949555  metabolite_999949555 -0.009744    -2.527369   \n",
       "metabolite_999952877  metabolite_999952877 -0.012546    -3.531914   \n",
       "metabolite_999952909  metabolite_999952909  0.012217     3.669188   \n",
       "\n",
       "                                 p       n             q  \n",
       "metabolite_62         6.926421e-06  1158.0  1.064549e-04  \n",
       "metabolite_424        1.242330e-04  1318.0  1.013480e-03  \n",
       "metabolite_439        3.521398e-03  1316.0  1.559476e-02  \n",
       "metabolite_561        1.535328e-12  1303.0  7.932529e-11  \n",
       "metabolite_891        2.082611e-03  1302.0  1.041306e-02  \n",
       "metabolite_922        9.797522e-15  1206.0  1.518616e-12  \n",
       "metabolite_1135       1.553348e-03  1172.0  8.598893e-03  \n",
       "metabolite_1231       7.394831e-03  1312.0  2.729045e-02  \n",
       "metabolite_1539       3.551960e-05  1306.0  3.932527e-04  \n",
       "metabolite_100000014  3.922993e-04  1287.0  2.643756e-03  \n",
       "metabolite_100000672  5.873363e-05  1297.0  6.069141e-04  \n",
       "metabolite_100001121  8.494230e-03  1295.0  2.925790e-02  \n",
       "metabolite_100001182  7.554862e-06  1317.0  1.064549e-04  \n",
       "metabolite_100001277  8.349699e-05  1300.0  7.190018e-04  \n",
       "metabolite_100001384  6.814107e-04  1142.0  4.224746e-03  \n",
       "metabolite_100001977  9.523537e-06  1276.0  1.135499e-04  \n",
       "metabolite_100002356  6.549769e-05  1294.0  6.345089e-04  \n",
       "metabolite_100002488  8.143071e-05  1284.0  7.190018e-04  \n",
       "metabolite_100002911  1.228825e-02  1279.0  3.967391e-02  \n",
       "metabolite_100004208  1.403616e-02  1293.0  4.351209e-02  \n",
       "metabolite_100005352  2.747175e-04  1299.0  2.027677e-03  \n",
       "metabolite_100009015  1.787261e-03  1299.0  9.552605e-03  \n",
       "metabolite_100009125  8.022076e-03  1267.0  2.891679e-02  \n",
       "metabolite_100009143  5.975438e-09  1314.0  1.852386e-07  \n",
       "metabolite_100009215  5.377195e-10  1317.0  2.083663e-08  \n",
       "metabolite_100009347  1.293048e-06  1305.0  2.863177e-05  \n",
       "metabolite_100009376  3.801214e-03  1293.0  1.592400e-02  \n",
       "metabolite_100009378  8.387616e-06  1311.0  1.083400e-04  \n",
       "metabolite_100010869  3.641438e-03  1113.0  1.567841e-02  \n",
       "metabolite_100010916  1.095215e-13  1188.0  8.487916e-12  \n",
       "metabolite_100010950  2.001148e-03  1045.0  1.033926e-02  \n",
       "metabolite_100015587  8.397040e-03  1307.0  2.925790e-02  \n",
       "metabolite_100015593  5.513050e-08  1183.0  1.424205e-06  \n",
       "metabolite_100015596  2.360462e-03  1314.0  1.108702e-02  \n",
       "metabolite_100015618  6.310779e-06  1147.0  1.064549e-04  \n",
       "metabolite_100015737  2.701182e-06  1218.0  5.233540e-05  \n",
       "metabolite_100021374  6.600398e-03  1242.0  2.495272e-02  \n",
       "metabolite_999946666  5.239955e-03  1034.0  2.082546e-02  \n",
       "metabolite_999946674  1.465318e-03  1256.0  8.412012e-03  \n",
       "metabolite_999946690  1.107798e-02  1288.0  3.732798e-02  \n",
       "metabolite_999946977  6.553545e-03  1301.0  2.495272e-02  \n",
       "metabolite_999946998  5.121617e-03  1073.0  2.082546e-02  \n",
       "metabolite_999947708  2.478426e-03   991.0  1.129871e-02  \n",
       "metabolite_999947905  3.644282e-04  1309.0  2.567563e-03  \n",
       "metabolite_999947971  2.326241e-03  1237.0  1.108702e-02  \n",
       "metabolite_999948001  9.706729e-04  1203.0  5.786704e-03  \n",
       "metabolite_999948094  1.254208e-02  1129.0  3.967391e-02  \n",
       "metabolite_999949555  1.162248e-02  1184.0  3.832947e-02  \n",
       "metabolite_999952877  4.277325e-04  1248.0  2.762439e-03  \n",
       "metabolite_999952909  2.533511e-04  1286.0  1.963471e-03  "
      ]
     },
     "execution_count": 23,
     "metadata": {},
     "output_type": "execute_result"
    }
   ],
   "source": [
    "# MICROBE\n",
    "def get_results(feature):\n",
    "    \n",
    "    \"\"\"Get a single association.\n",
    "    \n",
    "    As long as `args` and `df` are assigned this can be used on\n",
    "    any data set.\n",
    "    \"\"\"\n",
    "    formula = f\"{feature} ~ heartrate_resting + C(sex) + age + BMI_CALC + PC1 + PC2 + PC3 + PC4 + PC5\"\n",
    "    fitted = ols(formula, data=df).fit()\n",
    "    return pd.DataFrame({\n",
    "        \"feature\": feature,\n",
    "        \"beta\": fitted.params[\"heartrate_resting\"],\n",
    "        \"t_statistic\": fitted.tvalues[\"heartrate_resting\"],\n",
    "        \"p\": fitted.pvalues[\"heartrate_resting\"],\n",
    "        \"n\": fitted.nobs\n",
    "        }, index=[feature])\n",
    "\n",
    "args = microbe_only_features\n",
    "df = mac_str\n",
    "results = map(get_results, track(args))\n",
    "results = list(results)\n",
    "tests = pd.concat(results)\n",
    "tests[\"q\"] = multipletests(tests.p, method=\"fdr_bh\")[1]\n",
    "microbe_hr_signifs = tests[tests.q <= 0.05]\n",
    "microbe_hr_signifs"
   ]
  },
  {
   "cell_type": "code",
   "execution_count": 24,
   "id": "57b95bab-b639-4b69-8f27-e92a04f0fbf0",
   "metadata": {
    "tags": []
   },
   "outputs": [
    {
     "data": {
      "text/plain": [
       "50"
      ]
     },
     "execution_count": 24,
     "metadata": {},
     "output_type": "execute_result"
    }
   ],
   "source": [
    "len(microbe_hr_signifs)"
   ]
  },
  {
   "cell_type": "code",
   "execution_count": 25,
   "id": "1e1273c1-c106-4fdb-b90c-1d498bafb673",
   "metadata": {
    "collapsed": true,
    "jupyter": {
     "outputs_hidden": true
    },
    "tags": []
   },
   "outputs": [
    {
     "data": {
      "text/html": [
       "<div>\n",
       "<style scoped>\n",
       "    .dataframe tbody tr th:only-of-type {\n",
       "        vertical-align: middle;\n",
       "    }\n",
       "\n",
       "    .dataframe tbody tr th {\n",
       "        vertical-align: top;\n",
       "    }\n",
       "\n",
       "    .dataframe thead th {\n",
       "        text-align: right;\n",
       "    }\n",
       "</style>\n",
       "<table border=\"1\" class=\"dataframe\">\n",
       "  <thead>\n",
       "    <tr style=\"text-align: right;\">\n",
       "      <th></th>\n",
       "      <th>feature</th>\n",
       "      <th>beta</th>\n",
       "      <th>t_statistic</th>\n",
       "      <th>p</th>\n",
       "      <th>n</th>\n",
       "      <th>q</th>\n",
       "    </tr>\n",
       "  </thead>\n",
       "  <tbody>\n",
       "    <tr>\n",
       "      <th>metabolite_62</th>\n",
       "      <td>metabolite_62</td>\n",
       "      <td>-0.016372</td>\n",
       "      <td>-4.516791</td>\n",
       "      <td>6.926421e-06</td>\n",
       "      <td>1158.0</td>\n",
       "      <td>1.064549e-04</td>\n",
       "    </tr>\n",
       "    <tr>\n",
       "      <th>metabolite_100001977</th>\n",
       "      <td>metabolite_100001977</td>\n",
       "      <td>-0.014597</td>\n",
       "      <td>-4.445798</td>\n",
       "      <td>9.523537e-06</td>\n",
       "      <td>1276.0</td>\n",
       "      <td>1.135499e-04</td>\n",
       "    </tr>\n",
       "    <tr>\n",
       "      <th>metabolite_100000014</th>\n",
       "      <td>metabolite_100000014</td>\n",
       "      <td>-0.012832</td>\n",
       "      <td>-3.554651</td>\n",
       "      <td>3.922993e-04</td>\n",
       "      <td>1287.0</td>\n",
       "      <td>2.643756e-03</td>\n",
       "    </tr>\n",
       "    <tr>\n",
       "      <th>metabolite_999952877</th>\n",
       "      <td>metabolite_999952877</td>\n",
       "      <td>-0.012546</td>\n",
       "      <td>-3.531914</td>\n",
       "      <td>4.277325e-04</td>\n",
       "      <td>1248.0</td>\n",
       "      <td>2.762439e-03</td>\n",
       "    </tr>\n",
       "    <tr>\n",
       "      <th>metabolite_999947708</th>\n",
       "      <td>metabolite_999947708</td>\n",
       "      <td>-0.012451</td>\n",
       "      <td>-3.033814</td>\n",
       "      <td>2.478426e-03</td>\n",
       "      <td>991.0</td>\n",
       "      <td>1.129871e-02</td>\n",
       "    </tr>\n",
       "    <tr>\n",
       "      <th>metabolite_999948001</th>\n",
       "      <td>metabolite_999948001</td>\n",
       "      <td>-0.012043</td>\n",
       "      <td>-3.307125</td>\n",
       "      <td>9.706729e-04</td>\n",
       "      <td>1203.0</td>\n",
       "      <td>5.786704e-03</td>\n",
       "    </tr>\n",
       "    <tr>\n",
       "      <th>metabolite_100005352</th>\n",
       "      <td>metabolite_100005352</td>\n",
       "      <td>-0.011894</td>\n",
       "      <td>-3.648112</td>\n",
       "      <td>2.747175e-04</td>\n",
       "      <td>1299.0</td>\n",
       "      <td>2.027677e-03</td>\n",
       "    </tr>\n",
       "    <tr>\n",
       "      <th>metabolite_100001384</th>\n",
       "      <td>metabolite_100001384</td>\n",
       "      <td>-0.011845</td>\n",
       "      <td>-3.406382</td>\n",
       "      <td>6.814107e-04</td>\n",
       "      <td>1142.0</td>\n",
       "      <td>4.224746e-03</td>\n",
       "    </tr>\n",
       "    <tr>\n",
       "      <th>metabolite_999947905</th>\n",
       "      <td>metabolite_999947905</td>\n",
       "      <td>-0.011726</td>\n",
       "      <td>-3.574013</td>\n",
       "      <td>3.644282e-04</td>\n",
       "      <td>1309.0</td>\n",
       "      <td>2.567563e-03</td>\n",
       "    </tr>\n",
       "    <tr>\n",
       "      <th>metabolite_999946674</th>\n",
       "      <td>metabolite_999946674</td>\n",
       "      <td>-0.011412</td>\n",
       "      <td>-3.188580</td>\n",
       "      <td>1.465318e-03</td>\n",
       "      <td>1256.0</td>\n",
       "      <td>8.412012e-03</td>\n",
       "    </tr>\n",
       "    <tr>\n",
       "      <th>metabolite_999946666</th>\n",
       "      <td>metabolite_999946666</td>\n",
       "      <td>-0.011091</td>\n",
       "      <td>-2.797907</td>\n",
       "      <td>5.239955e-03</td>\n",
       "      <td>1034.0</td>\n",
       "      <td>2.082546e-02</td>\n",
       "    </tr>\n",
       "    <tr>\n",
       "      <th>metabolite_999946998</th>\n",
       "      <td>metabolite_999946998</td>\n",
       "      <td>-0.011053</td>\n",
       "      <td>-2.805112</td>\n",
       "      <td>5.121617e-03</td>\n",
       "      <td>1073.0</td>\n",
       "      <td>2.082546e-02</td>\n",
       "    </tr>\n",
       "    <tr>\n",
       "      <th>metabolite_999947971</th>\n",
       "      <td>metabolite_999947971</td>\n",
       "      <td>-0.011047</td>\n",
       "      <td>-3.051458</td>\n",
       "      <td>2.326241e-03</td>\n",
       "      <td>1237.0</td>\n",
       "      <td>1.108702e-02</td>\n",
       "    </tr>\n",
       "    <tr>\n",
       "      <th>metabolite_100010869</th>\n",
       "      <td>metabolite_100010869</td>\n",
       "      <td>-0.010752</td>\n",
       "      <td>-2.913903</td>\n",
       "      <td>3.641438e-03</td>\n",
       "      <td>1113.0</td>\n",
       "      <td>1.567841e-02</td>\n",
       "    </tr>\n",
       "    <tr>\n",
       "      <th>metabolite_100009015</th>\n",
       "      <td>metabolite_100009015</td>\n",
       "      <td>-0.010298</td>\n",
       "      <td>-3.130008</td>\n",
       "      <td>1.787261e-03</td>\n",
       "      <td>1299.0</td>\n",
       "      <td>9.552605e-03</td>\n",
       "    </tr>\n",
       "    <tr>\n",
       "      <th>metabolite_100009376</th>\n",
       "      <td>metabolite_100009376</td>\n",
       "      <td>-0.009796</td>\n",
       "      <td>-2.899501</td>\n",
       "      <td>3.801214e-03</td>\n",
       "      <td>1293.0</td>\n",
       "      <td>1.592400e-02</td>\n",
       "    </tr>\n",
       "    <tr>\n",
       "      <th>metabolite_999949555</th>\n",
       "      <td>metabolite_999949555</td>\n",
       "      <td>-0.009744</td>\n",
       "      <td>-2.527369</td>\n",
       "      <td>1.162248e-02</td>\n",
       "      <td>1184.0</td>\n",
       "      <td>3.832947e-02</td>\n",
       "    </tr>\n",
       "    <tr>\n",
       "      <th>metabolite_100021374</th>\n",
       "      <td>metabolite_100021374</td>\n",
       "      <td>-0.009388</td>\n",
       "      <td>-2.720986</td>\n",
       "      <td>6.600398e-03</td>\n",
       "      <td>1242.0</td>\n",
       "      <td>2.495272e-02</td>\n",
       "    </tr>\n",
       "    <tr>\n",
       "      <th>metabolite_100015587</th>\n",
       "      <td>metabolite_100015587</td>\n",
       "      <td>-0.009311</td>\n",
       "      <td>-2.639717</td>\n",
       "      <td>8.397040e-03</td>\n",
       "      <td>1307.0</td>\n",
       "      <td>2.925790e-02</td>\n",
       "    </tr>\n",
       "    <tr>\n",
       "      <th>metabolite_999948094</th>\n",
       "      <td>metabolite_999948094</td>\n",
       "      <td>-0.009294</td>\n",
       "      <td>-2.500554</td>\n",
       "      <td>1.254208e-02</td>\n",
       "      <td>1129.0</td>\n",
       "      <td>3.967391e-02</td>\n",
       "    </tr>\n",
       "    <tr>\n",
       "      <th>metabolite_999946977</th>\n",
       "      <td>metabolite_999946977</td>\n",
       "      <td>-0.008988</td>\n",
       "      <td>-2.723143</td>\n",
       "      <td>6.553545e-03</td>\n",
       "      <td>1301.0</td>\n",
       "      <td>2.495272e-02</td>\n",
       "    </tr>\n",
       "    <tr>\n",
       "      <th>metabolite_100009125</th>\n",
       "      <td>metabolite_100009125</td>\n",
       "      <td>-0.008891</td>\n",
       "      <td>-2.655379</td>\n",
       "      <td>8.022076e-03</td>\n",
       "      <td>1267.0</td>\n",
       "      <td>2.891679e-02</td>\n",
       "    </tr>\n",
       "    <tr>\n",
       "      <th>metabolite_999946690</th>\n",
       "      <td>metabolite_999946690</td>\n",
       "      <td>-0.008733</td>\n",
       "      <td>-2.543938</td>\n",
       "      <td>1.107798e-02</td>\n",
       "      <td>1288.0</td>\n",
       "      <td>3.732798e-02</td>\n",
       "    </tr>\n",
       "    <tr>\n",
       "      <th>metabolite_100004208</th>\n",
       "      <td>metabolite_100004208</td>\n",
       "      <td>-0.008532</td>\n",
       "      <td>-2.459708</td>\n",
       "      <td>1.403616e-02</td>\n",
       "      <td>1293.0</td>\n",
       "      <td>4.351209e-02</td>\n",
       "    </tr>\n",
       "    <tr>\n",
       "      <th>metabolite_100001121</th>\n",
       "      <td>metabolite_100001121</td>\n",
       "      <td>-0.008388</td>\n",
       "      <td>-2.635830</td>\n",
       "      <td>8.494230e-03</td>\n",
       "      <td>1295.0</td>\n",
       "      <td>2.925790e-02</td>\n",
       "    </tr>\n",
       "    <tr>\n",
       "      <th>metabolite_100002911</th>\n",
       "      <td>metabolite_100002911</td>\n",
       "      <td>0.008845</td>\n",
       "      <td>2.507347</td>\n",
       "      <td>1.228825e-02</td>\n",
       "      <td>1279.0</td>\n",
       "      <td>3.967391e-02</td>\n",
       "    </tr>\n",
       "    <tr>\n",
       "      <th>metabolite_1231</th>\n",
       "      <td>metabolite_1231</td>\n",
       "      <td>0.009533</td>\n",
       "      <td>2.682730</td>\n",
       "      <td>7.394831e-03</td>\n",
       "      <td>1312.0</td>\n",
       "      <td>2.729045e-02</td>\n",
       "    </tr>\n",
       "    <tr>\n",
       "      <th>metabolite_439</th>\n",
       "      <td>metabolite_439</td>\n",
       "      <td>0.010598</td>\n",
       "      <td>2.923452</td>\n",
       "      <td>3.521398e-03</td>\n",
       "      <td>1316.0</td>\n",
       "      <td>1.559476e-02</td>\n",
       "    </tr>\n",
       "    <tr>\n",
       "      <th>metabolite_100015596</th>\n",
       "      <td>metabolite_100015596</td>\n",
       "      <td>0.010909</td>\n",
       "      <td>3.046661</td>\n",
       "      <td>2.360462e-03</td>\n",
       "      <td>1314.0</td>\n",
       "      <td>1.108702e-02</td>\n",
       "    </tr>\n",
       "    <tr>\n",
       "      <th>metabolite_891</th>\n",
       "      <td>metabolite_891</td>\n",
       "      <td>0.011027</td>\n",
       "      <td>3.084442</td>\n",
       "      <td>2.082611e-03</td>\n",
       "      <td>1302.0</td>\n",
       "      <td>1.041306e-02</td>\n",
       "    </tr>\n",
       "    <tr>\n",
       "      <th>metabolite_1135</th>\n",
       "      <td>metabolite_1135</td>\n",
       "      <td>0.011889</td>\n",
       "      <td>3.172043</td>\n",
       "      <td>1.553348e-03</td>\n",
       "      <td>1172.0</td>\n",
       "      <td>8.598893e-03</td>\n",
       "    </tr>\n",
       "    <tr>\n",
       "      <th>metabolite_999952909</th>\n",
       "      <td>metabolite_999952909</td>\n",
       "      <td>0.012217</td>\n",
       "      <td>3.669188</td>\n",
       "      <td>2.533511e-04</td>\n",
       "      <td>1286.0</td>\n",
       "      <td>1.963471e-03</td>\n",
       "    </tr>\n",
       "    <tr>\n",
       "      <th>metabolite_100010950</th>\n",
       "      <td>metabolite_100010950</td>\n",
       "      <td>0.012833</td>\n",
       "      <td>3.097954</td>\n",
       "      <td>2.001148e-03</td>\n",
       "      <td>1045.0</td>\n",
       "      <td>1.033926e-02</td>\n",
       "    </tr>\n",
       "    <tr>\n",
       "      <th>metabolite_424</th>\n",
       "      <td>metabolite_424</td>\n",
       "      <td>0.013792</td>\n",
       "      <td>3.849186</td>\n",
       "      <td>1.242330e-04</td>\n",
       "      <td>1318.0</td>\n",
       "      <td>1.013480e-03</td>\n",
       "    </tr>\n",
       "    <tr>\n",
       "      <th>metabolite_100001277</th>\n",
       "      <td>metabolite_100001277</td>\n",
       "      <td>0.013960</td>\n",
       "      <td>3.946733</td>\n",
       "      <td>8.349699e-05</td>\n",
       "      <td>1300.0</td>\n",
       "      <td>7.190018e-04</td>\n",
       "    </tr>\n",
       "    <tr>\n",
       "      <th>metabolite_100002488</th>\n",
       "      <td>metabolite_100002488</td>\n",
       "      <td>0.014257</td>\n",
       "      <td>3.952964</td>\n",
       "      <td>8.143071e-05</td>\n",
       "      <td>1284.0</td>\n",
       "      <td>7.190018e-04</td>\n",
       "    </tr>\n",
       "    <tr>\n",
       "      <th>metabolite_100002356</th>\n",
       "      <td>metabolite_100002356</td>\n",
       "      <td>0.014392</td>\n",
       "      <td>4.005278</td>\n",
       "      <td>6.549769e-05</td>\n",
       "      <td>1294.0</td>\n",
       "      <td>6.345089e-04</td>\n",
       "    </tr>\n",
       "    <tr>\n",
       "      <th>metabolite_100000672</th>\n",
       "      <td>metabolite_100000672</td>\n",
       "      <td>0.014473</td>\n",
       "      <td>4.031261</td>\n",
       "      <td>5.873363e-05</td>\n",
       "      <td>1297.0</td>\n",
       "      <td>6.069141e-04</td>\n",
       "    </tr>\n",
       "    <tr>\n",
       "      <th>metabolite_1539</th>\n",
       "      <td>metabolite_1539</td>\n",
       "      <td>0.014575</td>\n",
       "      <td>4.149323</td>\n",
       "      <td>3.551960e-05</td>\n",
       "      <td>1306.0</td>\n",
       "      <td>3.932527e-04</td>\n",
       "    </tr>\n",
       "    <tr>\n",
       "      <th>metabolite_100009378</th>\n",
       "      <td>metabolite_100009378</td>\n",
       "      <td>0.016208</td>\n",
       "      <td>4.472954</td>\n",
       "      <td>8.387616e-06</td>\n",
       "      <td>1311.0</td>\n",
       "      <td>1.083400e-04</td>\n",
       "    </tr>\n",
       "    <tr>\n",
       "      <th>metabolite_100001182</th>\n",
       "      <td>metabolite_100001182</td>\n",
       "      <td>0.016225</td>\n",
       "      <td>4.495515</td>\n",
       "      <td>7.554862e-06</td>\n",
       "      <td>1317.0</td>\n",
       "      <td>1.064549e-04</td>\n",
       "    </tr>\n",
       "    <tr>\n",
       "      <th>metabolite_100015618</th>\n",
       "      <td>metabolite_100015618</td>\n",
       "      <td>0.016736</td>\n",
       "      <td>4.537028</td>\n",
       "      <td>6.310779e-06</td>\n",
       "      <td>1147.0</td>\n",
       "      <td>1.064549e-04</td>\n",
       "    </tr>\n",
       "    <tr>\n",
       "      <th>metabolite_100015737</th>\n",
       "      <td>metabolite_100015737</td>\n",
       "      <td>0.017142</td>\n",
       "      <td>4.714770</td>\n",
       "      <td>2.701182e-06</td>\n",
       "      <td>1218.0</td>\n",
       "      <td>5.233540e-05</td>\n",
       "    </tr>\n",
       "    <tr>\n",
       "      <th>metabolite_100009347</th>\n",
       "      <td>metabolite_100009347</td>\n",
       "      <td>0.017367</td>\n",
       "      <td>4.863747</td>\n",
       "      <td>1.293048e-06</td>\n",
       "      <td>1305.0</td>\n",
       "      <td>2.863177e-05</td>\n",
       "    </tr>\n",
       "    <tr>\n",
       "      <th>metabolite_100015593</th>\n",
       "      <td>metabolite_100015593</td>\n",
       "      <td>0.019011</td>\n",
       "      <td>5.469470</td>\n",
       "      <td>5.513050e-08</td>\n",
       "      <td>1183.0</td>\n",
       "      <td>1.424205e-06</td>\n",
       "    </tr>\n",
       "    <tr>\n",
       "      <th>metabolite_100009143</th>\n",
       "      <td>metabolite_100009143</td>\n",
       "      <td>0.020472</td>\n",
       "      <td>5.856528</td>\n",
       "      <td>5.975438e-09</td>\n",
       "      <td>1314.0</td>\n",
       "      <td>1.852386e-07</td>\n",
       "    </tr>\n",
       "    <tr>\n",
       "      <th>metabolite_100009215</th>\n",
       "      <td>metabolite_100009215</td>\n",
       "      <td>0.021546</td>\n",
       "      <td>6.254931</td>\n",
       "      <td>5.377195e-10</td>\n",
       "      <td>1317.0</td>\n",
       "      <td>2.083663e-08</td>\n",
       "    </tr>\n",
       "    <tr>\n",
       "      <th>metabolite_561</th>\n",
       "      <td>metabolite_561</td>\n",
       "      <td>0.022687</td>\n",
       "      <td>7.141582</td>\n",
       "      <td>1.535328e-12</td>\n",
       "      <td>1303.0</td>\n",
       "      <td>7.932529e-11</td>\n",
       "    </tr>\n",
       "    <tr>\n",
       "      <th>metabolite_922</th>\n",
       "      <td>metabolite_922</td>\n",
       "      <td>0.025897</td>\n",
       "      <td>7.841544</td>\n",
       "      <td>9.797522e-15</td>\n",
       "      <td>1206.0</td>\n",
       "      <td>1.518616e-12</td>\n",
       "    </tr>\n",
       "    <tr>\n",
       "      <th>metabolite_100010916</th>\n",
       "      <td>metabolite_100010916</td>\n",
       "      <td>0.026151</td>\n",
       "      <td>7.518370</td>\n",
       "      <td>1.095215e-13</td>\n",
       "      <td>1188.0</td>\n",
       "      <td>8.487916e-12</td>\n",
       "    </tr>\n",
       "  </tbody>\n",
       "</table>\n",
       "</div>"
      ],
      "text/plain": [
       "                                   feature      beta  t_statistic  \\\n",
       "metabolite_62                metabolite_62 -0.016372    -4.516791   \n",
       "metabolite_100001977  metabolite_100001977 -0.014597    -4.445798   \n",
       "metabolite_100000014  metabolite_100000014 -0.012832    -3.554651   \n",
       "metabolite_999952877  metabolite_999952877 -0.012546    -3.531914   \n",
       "metabolite_999947708  metabolite_999947708 -0.012451    -3.033814   \n",
       "metabolite_999948001  metabolite_999948001 -0.012043    -3.307125   \n",
       "metabolite_100005352  metabolite_100005352 -0.011894    -3.648112   \n",
       "metabolite_100001384  metabolite_100001384 -0.011845    -3.406382   \n",
       "metabolite_999947905  metabolite_999947905 -0.011726    -3.574013   \n",
       "metabolite_999946674  metabolite_999946674 -0.011412    -3.188580   \n",
       "metabolite_999946666  metabolite_999946666 -0.011091    -2.797907   \n",
       "metabolite_999946998  metabolite_999946998 -0.011053    -2.805112   \n",
       "metabolite_999947971  metabolite_999947971 -0.011047    -3.051458   \n",
       "metabolite_100010869  metabolite_100010869 -0.010752    -2.913903   \n",
       "metabolite_100009015  metabolite_100009015 -0.010298    -3.130008   \n",
       "metabolite_100009376  metabolite_100009376 -0.009796    -2.899501   \n",
       "metabolite_999949555  metabolite_999949555 -0.009744    -2.527369   \n",
       "metabolite_100021374  metabolite_100021374 -0.009388    -2.720986   \n",
       "metabolite_100015587  metabolite_100015587 -0.009311    -2.639717   \n",
       "metabolite_999948094  metabolite_999948094 -0.009294    -2.500554   \n",
       "metabolite_999946977  metabolite_999946977 -0.008988    -2.723143   \n",
       "metabolite_100009125  metabolite_100009125 -0.008891    -2.655379   \n",
       "metabolite_999946690  metabolite_999946690 -0.008733    -2.543938   \n",
       "metabolite_100004208  metabolite_100004208 -0.008532    -2.459708   \n",
       "metabolite_100001121  metabolite_100001121 -0.008388    -2.635830   \n",
       "metabolite_100002911  metabolite_100002911  0.008845     2.507347   \n",
       "metabolite_1231            metabolite_1231  0.009533     2.682730   \n",
       "metabolite_439              metabolite_439  0.010598     2.923452   \n",
       "metabolite_100015596  metabolite_100015596  0.010909     3.046661   \n",
       "metabolite_891              metabolite_891  0.011027     3.084442   \n",
       "metabolite_1135            metabolite_1135  0.011889     3.172043   \n",
       "metabolite_999952909  metabolite_999952909  0.012217     3.669188   \n",
       "metabolite_100010950  metabolite_100010950  0.012833     3.097954   \n",
       "metabolite_424              metabolite_424  0.013792     3.849186   \n",
       "metabolite_100001277  metabolite_100001277  0.013960     3.946733   \n",
       "metabolite_100002488  metabolite_100002488  0.014257     3.952964   \n",
       "metabolite_100002356  metabolite_100002356  0.014392     4.005278   \n",
       "metabolite_100000672  metabolite_100000672  0.014473     4.031261   \n",
       "metabolite_1539            metabolite_1539  0.014575     4.149323   \n",
       "metabolite_100009378  metabolite_100009378  0.016208     4.472954   \n",
       "metabolite_100001182  metabolite_100001182  0.016225     4.495515   \n",
       "metabolite_100015618  metabolite_100015618  0.016736     4.537028   \n",
       "metabolite_100015737  metabolite_100015737  0.017142     4.714770   \n",
       "metabolite_100009347  metabolite_100009347  0.017367     4.863747   \n",
       "metabolite_100015593  metabolite_100015593  0.019011     5.469470   \n",
       "metabolite_100009143  metabolite_100009143  0.020472     5.856528   \n",
       "metabolite_100009215  metabolite_100009215  0.021546     6.254931   \n",
       "metabolite_561              metabolite_561  0.022687     7.141582   \n",
       "metabolite_922              metabolite_922  0.025897     7.841544   \n",
       "metabolite_100010916  metabolite_100010916  0.026151     7.518370   \n",
       "\n",
       "                                 p       n             q  \n",
       "metabolite_62         6.926421e-06  1158.0  1.064549e-04  \n",
       "metabolite_100001977  9.523537e-06  1276.0  1.135499e-04  \n",
       "metabolite_100000014  3.922993e-04  1287.0  2.643756e-03  \n",
       "metabolite_999952877  4.277325e-04  1248.0  2.762439e-03  \n",
       "metabolite_999947708  2.478426e-03   991.0  1.129871e-02  \n",
       "metabolite_999948001  9.706729e-04  1203.0  5.786704e-03  \n",
       "metabolite_100005352  2.747175e-04  1299.0  2.027677e-03  \n",
       "metabolite_100001384  6.814107e-04  1142.0  4.224746e-03  \n",
       "metabolite_999947905  3.644282e-04  1309.0  2.567563e-03  \n",
       "metabolite_999946674  1.465318e-03  1256.0  8.412012e-03  \n",
       "metabolite_999946666  5.239955e-03  1034.0  2.082546e-02  \n",
       "metabolite_999946998  5.121617e-03  1073.0  2.082546e-02  \n",
       "metabolite_999947971  2.326241e-03  1237.0  1.108702e-02  \n",
       "metabolite_100010869  3.641438e-03  1113.0  1.567841e-02  \n",
       "metabolite_100009015  1.787261e-03  1299.0  9.552605e-03  \n",
       "metabolite_100009376  3.801214e-03  1293.0  1.592400e-02  \n",
       "metabolite_999949555  1.162248e-02  1184.0  3.832947e-02  \n",
       "metabolite_100021374  6.600398e-03  1242.0  2.495272e-02  \n",
       "metabolite_100015587  8.397040e-03  1307.0  2.925790e-02  \n",
       "metabolite_999948094  1.254208e-02  1129.0  3.967391e-02  \n",
       "metabolite_999946977  6.553545e-03  1301.0  2.495272e-02  \n",
       "metabolite_100009125  8.022076e-03  1267.0  2.891679e-02  \n",
       "metabolite_999946690  1.107798e-02  1288.0  3.732798e-02  \n",
       "metabolite_100004208  1.403616e-02  1293.0  4.351209e-02  \n",
       "metabolite_100001121  8.494230e-03  1295.0  2.925790e-02  \n",
       "metabolite_100002911  1.228825e-02  1279.0  3.967391e-02  \n",
       "metabolite_1231       7.394831e-03  1312.0  2.729045e-02  \n",
       "metabolite_439        3.521398e-03  1316.0  1.559476e-02  \n",
       "metabolite_100015596  2.360462e-03  1314.0  1.108702e-02  \n",
       "metabolite_891        2.082611e-03  1302.0  1.041306e-02  \n",
       "metabolite_1135       1.553348e-03  1172.0  8.598893e-03  \n",
       "metabolite_999952909  2.533511e-04  1286.0  1.963471e-03  \n",
       "metabolite_100010950  2.001148e-03  1045.0  1.033926e-02  \n",
       "metabolite_424        1.242330e-04  1318.0  1.013480e-03  \n",
       "metabolite_100001277  8.349699e-05  1300.0  7.190018e-04  \n",
       "metabolite_100002488  8.143071e-05  1284.0  7.190018e-04  \n",
       "metabolite_100002356  6.549769e-05  1294.0  6.345089e-04  \n",
       "metabolite_100000672  5.873363e-05  1297.0  6.069141e-04  \n",
       "metabolite_1539       3.551960e-05  1306.0  3.932527e-04  \n",
       "metabolite_100009378  8.387616e-06  1311.0  1.083400e-04  \n",
       "metabolite_100001182  7.554862e-06  1317.0  1.064549e-04  \n",
       "metabolite_100015618  6.310779e-06  1147.0  1.064549e-04  \n",
       "metabolite_100015737  2.701182e-06  1218.0  5.233540e-05  \n",
       "metabolite_100009347  1.293048e-06  1305.0  2.863177e-05  \n",
       "metabolite_100015593  5.513050e-08  1183.0  1.424205e-06  \n",
       "metabolite_100009143  5.975438e-09  1314.0  1.852386e-07  \n",
       "metabolite_100009215  5.377195e-10  1317.0  2.083663e-08  \n",
       "metabolite_561        1.535328e-12  1303.0  7.932529e-11  \n",
       "metabolite_922        9.797522e-15  1206.0  1.518616e-12  \n",
       "metabolite_100010916  1.095215e-13  1188.0  8.487916e-12  "
      ]
     },
     "execution_count": 25,
     "metadata": {},
     "output_type": "execute_result"
    }
   ],
   "source": [
    "microbe_hr_signifs.sort_values(by=\"beta\", ascending=True)"
   ]
  },
  {
   "cell_type": "code",
   "execution_count": 26,
   "id": "63dba04c-88d2-4c79-a12c-a5d7d6c29bcb",
   "metadata": {
    "tags": []
   },
   "outputs": [
    {
     "data": {
      "text/html": [
       "<pre style=\"white-space:pre;overflow-x:auto;line-height:normal;font-family:Menlo,'DejaVu Sans Mono',consolas,'Courier New',monospace\"></pre>\n"
      ],
      "text/plain": [
       "\u001b[?25l"
      ]
     },
     "metadata": {},
     "output_type": "display_data"
    },
    {
     "data": {
      "text/html": [
       "<pre style=\"white-space:pre;overflow-x:auto;line-height:normal;font-family:Menlo,'DejaVu Sans Mono',consolas,'Courier New',monospace\">\n",
       "</pre>\n"
      ],
      "text/plain": [
       "\n",
       "\u001b[?25h"
      ]
     },
     "metadata": {},
     "output_type": "display_data"
    },
    {
     "data": {
      "text/html": [
       "<div>\n",
       "<style scoped>\n",
       "    .dataframe tbody tr th:only-of-type {\n",
       "        vertical-align: middle;\n",
       "    }\n",
       "\n",
       "    .dataframe tbody tr th {\n",
       "        vertical-align: top;\n",
       "    }\n",
       "\n",
       "    .dataframe thead th {\n",
       "        text-align: right;\n",
       "    }\n",
       "</style>\n",
       "<table border=\"1\" class=\"dataframe\">\n",
       "  <thead>\n",
       "    <tr style=\"text-align: right;\">\n",
       "      <th></th>\n",
       "      <th>feature</th>\n",
       "      <th>beta</th>\n",
       "      <th>t_statistic</th>\n",
       "      <th>p</th>\n",
       "      <th>n</th>\n",
       "      <th>q</th>\n",
       "    </tr>\n",
       "  </thead>\n",
       "  <tbody>\n",
       "    <tr>\n",
       "      <th>metabolite_93</th>\n",
       "      <td>metabolite_93</td>\n",
       "      <td>0.013660</td>\n",
       "      <td>3.799834</td>\n",
       "      <td>1.515510e-04</td>\n",
       "      <td>1298.0</td>\n",
       "      <td>7.509690e-04</td>\n",
       "    </tr>\n",
       "    <tr>\n",
       "      <th>metabolite_240</th>\n",
       "      <td>metabolite_240</td>\n",
       "      <td>-0.008136</td>\n",
       "      <td>-2.585905</td>\n",
       "      <td>9.819835e-03</td>\n",
       "      <td>1316.0</td>\n",
       "      <td>2.694368e-02</td>\n",
       "    </tr>\n",
       "    <tr>\n",
       "      <th>metabolite_250</th>\n",
       "      <td>metabolite_250</td>\n",
       "      <td>-0.010034</td>\n",
       "      <td>-2.904678</td>\n",
       "      <td>3.738441e-03</td>\n",
       "      <td>1311.0</td>\n",
       "      <td>1.170908e-02</td>\n",
       "    </tr>\n",
       "    <tr>\n",
       "      <th>metabolite_297</th>\n",
       "      <td>metabolite_297</td>\n",
       "      <td>0.022105</td>\n",
       "      <td>6.213295</td>\n",
       "      <td>6.972472e-10</td>\n",
       "      <td>1310.0</td>\n",
       "      <td>1.929051e-08</td>\n",
       "    </tr>\n",
       "    <tr>\n",
       "      <th>metabolite_391</th>\n",
       "      <td>metabolite_391</td>\n",
       "      <td>-0.013563</td>\n",
       "      <td>-3.803073</td>\n",
       "      <td>1.496255e-04</td>\n",
       "      <td>1294.0</td>\n",
       "      <td>7.509690e-04</td>\n",
       "    </tr>\n",
       "    <tr>\n",
       "      <th>...</th>\n",
       "      <td>...</td>\n",
       "      <td>...</td>\n",
       "      <td>...</td>\n",
       "      <td>...</td>\n",
       "      <td>...</td>\n",
       "      <td>...</td>\n",
       "    </tr>\n",
       "    <tr>\n",
       "      <th>metabolite_999946613</th>\n",
       "      <td>metabolite_999946613</td>\n",
       "      <td>-0.010366</td>\n",
       "      <td>-2.989303</td>\n",
       "      <td>2.849844e-03</td>\n",
       "      <td>1282.0</td>\n",
       "      <td>9.370930e-03</td>\n",
       "    </tr>\n",
       "    <tr>\n",
       "      <th>metabolite_999946620</th>\n",
       "      <td>metabolite_999946620</td>\n",
       "      <td>-0.008554</td>\n",
       "      <td>-2.372567</td>\n",
       "      <td>1.781500e-02</td>\n",
       "      <td>1265.0</td>\n",
       "      <td>4.447053e-02</td>\n",
       "    </tr>\n",
       "    <tr>\n",
       "      <th>metabolite_999949515</th>\n",
       "      <td>metabolite_999949515</td>\n",
       "      <td>-0.010483</td>\n",
       "      <td>-3.136742</td>\n",
       "      <td>1.747642e-03</td>\n",
       "      <td>1279.0</td>\n",
       "      <td>6.430393e-03</td>\n",
       "    </tr>\n",
       "    <tr>\n",
       "      <th>metabolite_999949592</th>\n",
       "      <td>metabolite_999949592</td>\n",
       "      <td>-0.018319</td>\n",
       "      <td>-5.492037</td>\n",
       "      <td>4.782783e-08</td>\n",
       "      <td>1297.0</td>\n",
       "      <td>6.616183e-07</td>\n",
       "    </tr>\n",
       "    <tr>\n",
       "      <th>metabolite_999949637</th>\n",
       "      <td>metabolite_999949637</td>\n",
       "      <td>-0.009747</td>\n",
       "      <td>-2.711055</td>\n",
       "      <td>6.797429e-03</td>\n",
       "      <td>1279.0</td>\n",
       "      <td>1.934709e-02</td>\n",
       "    </tr>\n",
       "  </tbody>\n",
       "</table>\n",
       "<p>136 rows × 6 columns</p>\n",
       "</div>"
      ],
      "text/plain": [
       "                                   feature      beta  t_statistic  \\\n",
       "metabolite_93                metabolite_93  0.013660     3.799834   \n",
       "metabolite_240              metabolite_240 -0.008136    -2.585905   \n",
       "metabolite_250              metabolite_250 -0.010034    -2.904678   \n",
       "metabolite_297              metabolite_297  0.022105     6.213295   \n",
       "metabolite_391              metabolite_391 -0.013563    -3.803073   \n",
       "...                                    ...       ...          ...   \n",
       "metabolite_999946613  metabolite_999946613 -0.010366    -2.989303   \n",
       "metabolite_999946620  metabolite_999946620 -0.008554    -2.372567   \n",
       "metabolite_999949515  metabolite_999949515 -0.010483    -3.136742   \n",
       "metabolite_999949592  metabolite_999949592 -0.018319    -5.492037   \n",
       "metabolite_999949637  metabolite_999949637 -0.009747    -2.711055   \n",
       "\n",
       "                                 p       n             q  \n",
       "metabolite_93         1.515510e-04  1298.0  7.509690e-04  \n",
       "metabolite_240        9.819835e-03  1316.0  2.694368e-02  \n",
       "metabolite_250        3.738441e-03  1311.0  1.170908e-02  \n",
       "metabolite_297        6.972472e-10  1310.0  1.929051e-08  \n",
       "metabolite_391        1.496255e-04  1294.0  7.509690e-04  \n",
       "...                            ...     ...           ...  \n",
       "metabolite_999946613  2.849844e-03  1282.0  9.370930e-03  \n",
       "metabolite_999946620  1.781500e-02  1265.0  4.447053e-02  \n",
       "metabolite_999949515  1.747642e-03  1279.0  6.430393e-03  \n",
       "metabolite_999949592  4.782783e-08  1297.0  6.616183e-07  \n",
       "metabolite_999949637  6.797429e-03  1279.0  1.934709e-02  \n",
       "\n",
       "[136 rows x 6 columns]"
      ]
     },
     "execution_count": 26,
     "metadata": {},
     "output_type": "execute_result"
    }
   ],
   "source": [
    "# HYBRID\n",
    "def get_results(feature):\n",
    "    \n",
    "    \"\"\"Get a single association.\n",
    "    \n",
    "    As long as `args` and `df` are assigned this can be used on\n",
    "    any data set.\n",
    "    \"\"\"\n",
    "    formula = f\"{feature} ~ heartrate_resting + C(sex) + age + BMI_CALC + PC1 + PC2 + PC3 + PC4 + PC5\"\n",
    "    fitted = ols(formula, data=df).fit()\n",
    "    return pd.DataFrame({\n",
    "        \"feature\": feature,\n",
    "        \"beta\": fitted.params[\"heartrate_resting\"],\n",
    "        \"t_statistic\": fitted.tvalues[\"heartrate_resting\"],\n",
    "        \"p\": fitted.pvalues[\"heartrate_resting\"],\n",
    "        \"n\": fitted.nobs\n",
    "        }, index=[feature])\n",
    "\n",
    "args = hybrid_features\n",
    "df = mac_str\n",
    "results = map(get_results, track(args))\n",
    "results = list(results)\n",
    "tests = pd.concat(results)\n",
    "tests[\"q\"] = multipletests(tests.p, method=\"fdr_bh\")[1]\n",
    "hybrid_hr_signifs = tests[tests.q <= 0.05]\n",
    "hybrid_hr_signifs"
   ]
  },
  {
   "cell_type": "code",
   "execution_count": 27,
   "id": "1dab1c4c-eb91-4cb2-a3cc-9b4ce46144e4",
   "metadata": {
    "tags": []
   },
   "outputs": [
    {
     "data": {
      "text/plain": [
       "136"
      ]
     },
     "execution_count": 27,
     "metadata": {},
     "output_type": "execute_result"
    }
   ],
   "source": [
    "len(hybrid_hr_signifs)"
   ]
  },
  {
   "cell_type": "code",
   "execution_count": 28,
   "id": "151eca64-9e58-45c9-9706-f608f2958a2e",
   "metadata": {
    "collapsed": true,
    "jupyter": {
     "outputs_hidden": true
    },
    "tags": []
   },
   "outputs": [
    {
     "data": {
      "text/html": [
       "<div>\n",
       "<style scoped>\n",
       "    .dataframe tbody tr th:only-of-type {\n",
       "        vertical-align: middle;\n",
       "    }\n",
       "\n",
       "    .dataframe tbody tr th {\n",
       "        vertical-align: top;\n",
       "    }\n",
       "\n",
       "    .dataframe thead th {\n",
       "        text-align: right;\n",
       "    }\n",
       "</style>\n",
       "<table border=\"1\" class=\"dataframe\">\n",
       "  <thead>\n",
       "    <tr style=\"text-align: right;\">\n",
       "      <th></th>\n",
       "      <th>feature</th>\n",
       "      <th>beta</th>\n",
       "      <th>t_statistic</th>\n",
       "      <th>p</th>\n",
       "      <th>n</th>\n",
       "      <th>q</th>\n",
       "    </tr>\n",
       "  </thead>\n",
       "  <tbody>\n",
       "    <tr>\n",
       "      <th>metabolite_100009007</th>\n",
       "      <td>metabolite_100009007</td>\n",
       "      <td>-0.023871</td>\n",
       "      <td>-7.832992</td>\n",
       "      <td>9.787206e-15</td>\n",
       "      <td>1319.0</td>\n",
       "      <td>1.624676e-12</td>\n",
       "    </tr>\n",
       "    <tr>\n",
       "      <th>metabolite_563</th>\n",
       "      <td>metabolite_563</td>\n",
       "      <td>-0.020061</td>\n",
       "      <td>-5.680185</td>\n",
       "      <td>1.661494e-08</td>\n",
       "      <td>1298.0</td>\n",
       "      <td>2.903242e-07</td>\n",
       "    </tr>\n",
       "    <tr>\n",
       "      <th>metabolite_100009020</th>\n",
       "      <td>metabolite_100009020</td>\n",
       "      <td>-0.019934</td>\n",
       "      <td>-6.263689</td>\n",
       "      <td>5.100057e-10</td>\n",
       "      <td>1310.0</td>\n",
       "      <td>1.539290e-08</td>\n",
       "    </tr>\n",
       "    <tr>\n",
       "      <th>metabolite_100009009</th>\n",
       "      <td>metabolite_100009009</td>\n",
       "      <td>-0.019917</td>\n",
       "      <td>-5.986767</td>\n",
       "      <td>2.763000e-09</td>\n",
       "      <td>1314.0</td>\n",
       "      <td>5.395976e-08</td>\n",
       "    </tr>\n",
       "    <tr>\n",
       "      <th>metabolite_100001083</th>\n",
       "      <td>metabolite_100001083</td>\n",
       "      <td>-0.018990</td>\n",
       "      <td>-5.520755</td>\n",
       "      <td>4.084457e-08</td>\n",
       "      <td>1287.0</td>\n",
       "      <td>5.895826e-07</td>\n",
       "    </tr>\n",
       "    <tr>\n",
       "      <th>...</th>\n",
       "      <td>...</td>\n",
       "      <td>...</td>\n",
       "      <td>...</td>\n",
       "      <td>...</td>\n",
       "      <td>...</td>\n",
       "      <td>...</td>\n",
       "    </tr>\n",
       "    <tr>\n",
       "      <th>metabolite_100010925</th>\n",
       "      <td>metabolite_100010925</td>\n",
       "      <td>0.022389</td>\n",
       "      <td>6.026545</td>\n",
       "      <td>2.290685e-09</td>\n",
       "      <td>1097.0</td>\n",
       "      <td>4.918355e-08</td>\n",
       "    </tr>\n",
       "    <tr>\n",
       "      <th>metabolite_100010940</th>\n",
       "      <td>metabolite_100010940</td>\n",
       "      <td>0.022712</td>\n",
       "      <td>7.028306</td>\n",
       "      <td>3.375265e-12</td>\n",
       "      <td>1302.0</td>\n",
       "      <td>3.735294e-10</td>\n",
       "    </tr>\n",
       "    <tr>\n",
       "      <th>metabolite_100009026</th>\n",
       "      <td>metabolite_100009026</td>\n",
       "      <td>0.022874</td>\n",
       "      <td>6.757444</td>\n",
       "      <td>2.121908e-11</td>\n",
       "      <td>1298.0</td>\n",
       "      <td>1.408947e-09</td>\n",
       "    </tr>\n",
       "    <tr>\n",
       "      <th>metabolite_823</th>\n",
       "      <td>metabolite_823</td>\n",
       "      <td>0.023889</td>\n",
       "      <td>6.855432</td>\n",
       "      <td>1.099508e-11</td>\n",
       "      <td>1299.0</td>\n",
       "      <td>9.125919e-10</td>\n",
       "    </tr>\n",
       "    <tr>\n",
       "      <th>metabolite_100010917</th>\n",
       "      <td>metabolite_100010917</td>\n",
       "      <td>0.028058</td>\n",
       "      <td>8.359562</td>\n",
       "      <td>1.640325e-16</td>\n",
       "      <td>1275.0</td>\n",
       "      <td>5.445880e-14</td>\n",
       "    </tr>\n",
       "  </tbody>\n",
       "</table>\n",
       "<p>136 rows × 6 columns</p>\n",
       "</div>"
      ],
      "text/plain": [
       "                                   feature      beta  t_statistic  \\\n",
       "metabolite_100009007  metabolite_100009007 -0.023871    -7.832992   \n",
       "metabolite_563              metabolite_563 -0.020061    -5.680185   \n",
       "metabolite_100009020  metabolite_100009020 -0.019934    -6.263689   \n",
       "metabolite_100009009  metabolite_100009009 -0.019917    -5.986767   \n",
       "metabolite_100001083  metabolite_100001083 -0.018990    -5.520755   \n",
       "...                                    ...       ...          ...   \n",
       "metabolite_100010925  metabolite_100010925  0.022389     6.026545   \n",
       "metabolite_100010940  metabolite_100010940  0.022712     7.028306   \n",
       "metabolite_100009026  metabolite_100009026  0.022874     6.757444   \n",
       "metabolite_823              metabolite_823  0.023889     6.855432   \n",
       "metabolite_100010917  metabolite_100010917  0.028058     8.359562   \n",
       "\n",
       "                                 p       n             q  \n",
       "metabolite_100009007  9.787206e-15  1319.0  1.624676e-12  \n",
       "metabolite_563        1.661494e-08  1298.0  2.903242e-07  \n",
       "metabolite_100009020  5.100057e-10  1310.0  1.539290e-08  \n",
       "metabolite_100009009  2.763000e-09  1314.0  5.395976e-08  \n",
       "metabolite_100001083  4.084457e-08  1287.0  5.895826e-07  \n",
       "...                            ...     ...           ...  \n",
       "metabolite_100010925  2.290685e-09  1097.0  4.918355e-08  \n",
       "metabolite_100010940  3.375265e-12  1302.0  3.735294e-10  \n",
       "metabolite_100009026  2.121908e-11  1298.0  1.408947e-09  \n",
       "metabolite_823        1.099508e-11  1299.0  9.125919e-10  \n",
       "metabolite_100010917  1.640325e-16  1275.0  5.445880e-14  \n",
       "\n",
       "[136 rows x 6 columns]"
      ]
     },
     "execution_count": 28,
     "metadata": {},
     "output_type": "execute_result"
    }
   ],
   "source": [
    "hybrid_hr_signifs.sort_values(by=\"beta\", ascending=True)"
   ]
  },
  {
   "cell_type": "markdown",
   "id": "f0060411-b7f3-4182-85cc-8d0466ac3fd3",
   "metadata": {
    "jp-MarkdownHeadingCollapsed": true,
    "tags": []
   },
   "source": [
    "##### Metabolites ~ Sleep Efficiency + [covar]"
   ]
  },
  {
   "cell_type": "code",
   "execution_count": 29,
   "id": "d921e846-4d45-46e4-8898-0f36524383f6",
   "metadata": {
    "collapsed": true,
    "jupyter": {
     "outputs_hidden": true
    },
    "tags": []
   },
   "outputs": [
    {
     "data": {
      "text/html": [
       "<pre style=\"white-space:pre;overflow-x:auto;line-height:normal;font-family:Menlo,'DejaVu Sans Mono',consolas,'Courier New',monospace\"></pre>\n"
      ],
      "text/plain": [
       "\u001b[?25l"
      ]
     },
     "metadata": {},
     "output_type": "display_data"
    },
    {
     "data": {
      "text/html": [
       "<pre style=\"white-space:pre;overflow-x:auto;line-height:normal;font-family:Menlo,'DejaVu Sans Mono',consolas,'Courier New',monospace\">\n",
       "</pre>\n"
      ],
      "text/plain": [
       "\n",
       "\u001b[?25h"
      ]
     },
     "metadata": {},
     "output_type": "display_data"
    },
    {
     "data": {
      "text/html": [
       "<div>\n",
       "<style scoped>\n",
       "    .dataframe tbody tr th:only-of-type {\n",
       "        vertical-align: middle;\n",
       "    }\n",
       "\n",
       "    .dataframe tbody tr th {\n",
       "        vertical-align: top;\n",
       "    }\n",
       "\n",
       "    .dataframe thead th {\n",
       "        text-align: right;\n",
       "    }\n",
       "</style>\n",
       "<table border=\"1\" class=\"dataframe\">\n",
       "  <thead>\n",
       "    <tr style=\"text-align: right;\">\n",
       "      <th></th>\n",
       "      <th>feature</th>\n",
       "      <th>beta</th>\n",
       "      <th>t_statistic</th>\n",
       "      <th>p</th>\n",
       "      <th>n</th>\n",
       "      <th>q</th>\n",
       "    </tr>\n",
       "  </thead>\n",
       "  <tbody>\n",
       "  </tbody>\n",
       "</table>\n",
       "</div>"
      ],
      "text/plain": [
       "Empty DataFrame\n",
       "Columns: [feature, beta, t_statistic, p, n, q]\n",
       "Index: []"
      ]
     },
     "execution_count": 29,
     "metadata": {},
     "output_type": "execute_result"
    }
   ],
   "source": [
    "# GENETIC\n",
    "def get_results(feature):\n",
    "    \n",
    "    \"\"\"Get a single association.\n",
    "    \n",
    "    As long as `args` and `df` are assigned this can be used on\n",
    "    any data set.\n",
    "    \"\"\"\n",
    "    formula = f\"{feature} ~ sleep_efficiency + C(sex) + age + BMI_CALC + PC1 + PC2 + PC3 + PC4 + PC5\"\n",
    "    fitted = ols(formula, data=df).fit()\n",
    "    return pd.DataFrame({\n",
    "        \"feature\": feature,\n",
    "        \"beta\": fitted.params[\"sleep_efficiency\"],\n",
    "        \"t_statistic\": fitted.tvalues[\"sleep_efficiency\"],\n",
    "        \"p\": fitted.pvalues[\"sleep_efficiency\"],\n",
    "        \"n\": fitted.nobs\n",
    "        }, index=[feature])\n",
    "\n",
    "args = gen_only_features\n",
    "df = mac_str\n",
    "results = map(get_results, track(args))\n",
    "results = list(results)\n",
    "tests = pd.concat(results)\n",
    "tests[\"q\"] = multipletests(tests.p, method=\"fdr_bh\")[1]\n",
    "gene_sleep_signifs = tests[tests.q <= 0.05]\n",
    "gene_sleep_signifs"
   ]
  },
  {
   "cell_type": "code",
   "execution_count": 30,
   "id": "b890077c-ae79-492b-be8b-6cea9e4203ed",
   "metadata": {
    "collapsed": true,
    "jupyter": {
     "outputs_hidden": true
    },
    "tags": []
   },
   "outputs": [
    {
     "data": {
      "text/html": [
       "<pre style=\"white-space:pre;overflow-x:auto;line-height:normal;font-family:Menlo,'DejaVu Sans Mono',consolas,'Courier New',monospace\"></pre>\n"
      ],
      "text/plain": [
       "\u001b[?25l"
      ]
     },
     "metadata": {},
     "output_type": "display_data"
    },
    {
     "data": {
      "text/html": [
       "<pre style=\"white-space:pre;overflow-x:auto;line-height:normal;font-family:Menlo,'DejaVu Sans Mono',consolas,'Courier New',monospace\">\n",
       "</pre>\n"
      ],
      "text/plain": [
       "\n",
       "\u001b[?25h"
      ]
     },
     "metadata": {},
     "output_type": "display_data"
    },
    {
     "data": {
      "text/html": [
       "<div>\n",
       "<style scoped>\n",
       "    .dataframe tbody tr th:only-of-type {\n",
       "        vertical-align: middle;\n",
       "    }\n",
       "\n",
       "    .dataframe tbody tr th {\n",
       "        vertical-align: top;\n",
       "    }\n",
       "\n",
       "    .dataframe thead th {\n",
       "        text-align: right;\n",
       "    }\n",
       "</style>\n",
       "<table border=\"1\" class=\"dataframe\">\n",
       "  <thead>\n",
       "    <tr style=\"text-align: right;\">\n",
       "      <th></th>\n",
       "      <th>feature</th>\n",
       "      <th>beta</th>\n",
       "      <th>t_statistic</th>\n",
       "      <th>p</th>\n",
       "      <th>n</th>\n",
       "      <th>q</th>\n",
       "    </tr>\n",
       "  </thead>\n",
       "  <tbody>\n",
       "  </tbody>\n",
       "</table>\n",
       "</div>"
      ],
      "text/plain": [
       "Empty DataFrame\n",
       "Columns: [feature, beta, t_statistic, p, n, q]\n",
       "Index: []"
      ]
     },
     "execution_count": 30,
     "metadata": {},
     "output_type": "execute_result"
    }
   ],
   "source": [
    "# MICROBE\n",
    "def get_results(feature):\n",
    "    \n",
    "    \"\"\"Get a single association.\n",
    "    \n",
    "    As long as `args` and `df` are assigned this can be used on\n",
    "    any data set.\n",
    "    \"\"\"\n",
    "    formula = f\"{feature} ~ sleep_efficiency + C(sex) + age + BMI_CALC + PC1 + PC2 + PC3 + PC4 + PC5\"\n",
    "    fitted = ols(formula, data=df).fit()\n",
    "    return pd.DataFrame({\n",
    "        \"feature\": feature,\n",
    "        \"beta\": fitted.params[\"sleep_efficiency\"],\n",
    "        \"t_statistic\": fitted.tvalues[\"sleep_efficiency\"],\n",
    "        \"p\": fitted.pvalues[\"sleep_efficiency\"],\n",
    "        \"n\": fitted.nobs\n",
    "        }, index=[feature])\n",
    "\n",
    "args = microbe_only_features\n",
    "df = mac_str\n",
    "results = map(get_results, track(args))\n",
    "results = list(results)\n",
    "tests = pd.concat(results)\n",
    "tests[\"q\"] = multipletests(tests.p, method=\"fdr_bh\")[1]\n",
    "microbe_sleep_signifs = tests[tests.q <= 0.05]\n",
    "microbe_sleep_signifs"
   ]
  },
  {
   "cell_type": "code",
   "execution_count": 31,
   "id": "73abafc6-d6aa-4801-99d2-3ba3c5a02736",
   "metadata": {
    "collapsed": true,
    "jupyter": {
     "outputs_hidden": true
    },
    "tags": []
   },
   "outputs": [
    {
     "data": {
      "text/html": [
       "<pre style=\"white-space:pre;overflow-x:auto;line-height:normal;font-family:Menlo,'DejaVu Sans Mono',consolas,'Courier New',monospace\"></pre>\n"
      ],
      "text/plain": [
       "\u001b[?25l"
      ]
     },
     "metadata": {},
     "output_type": "display_data"
    },
    {
     "data": {
      "text/html": [
       "<pre style=\"white-space:pre;overflow-x:auto;line-height:normal;font-family:Menlo,'DejaVu Sans Mono',consolas,'Courier New',monospace\">\n",
       "</pre>\n"
      ],
      "text/plain": [
       "\n",
       "\u001b[?25h"
      ]
     },
     "metadata": {},
     "output_type": "display_data"
    },
    {
     "data": {
      "text/html": [
       "<div>\n",
       "<style scoped>\n",
       "    .dataframe tbody tr th:only-of-type {\n",
       "        vertical-align: middle;\n",
       "    }\n",
       "\n",
       "    .dataframe tbody tr th {\n",
       "        vertical-align: top;\n",
       "    }\n",
       "\n",
       "    .dataframe thead th {\n",
       "        text-align: right;\n",
       "    }\n",
       "</style>\n",
       "<table border=\"1\" class=\"dataframe\">\n",
       "  <thead>\n",
       "    <tr style=\"text-align: right;\">\n",
       "      <th></th>\n",
       "      <th>feature</th>\n",
       "      <th>beta</th>\n",
       "      <th>t_statistic</th>\n",
       "      <th>p</th>\n",
       "      <th>n</th>\n",
       "      <th>q</th>\n",
       "    </tr>\n",
       "  </thead>\n",
       "  <tbody>\n",
       "  </tbody>\n",
       "</table>\n",
       "</div>"
      ],
      "text/plain": [
       "Empty DataFrame\n",
       "Columns: [feature, beta, t_statistic, p, n, q]\n",
       "Index: []"
      ]
     },
     "execution_count": 31,
     "metadata": {},
     "output_type": "execute_result"
    }
   ],
   "source": [
    "# HYBRID\n",
    "def get_results(feature):\n",
    "    \n",
    "    \"\"\"Get a single association.\n",
    "    \n",
    "    As long as `args` and `df` are assigned this can be used on\n",
    "    any data set.\n",
    "    \"\"\"\n",
    "    formula = f\"{feature} ~ sleep_efficiency + C(sex) + age + BMI_CALC + PC1 + PC2 + PC3 + PC4 + PC5\"\n",
    "    fitted = ols(formula, data=df).fit()\n",
    "    return pd.DataFrame({\n",
    "        \"feature\": feature,\n",
    "        \"beta\": fitted.params[\"sleep_efficiency\"],\n",
    "        \"t_statistic\": fitted.tvalues[\"sleep_efficiency\"],\n",
    "        \"p\": fitted.pvalues[\"sleep_efficiency\"],\n",
    "        \"n\": fitted.nobs\n",
    "        }, index=[feature])\n",
    "\n",
    "args = hybrid_features\n",
    "df = mac_str\n",
    "results = map(get_results, track(args))\n",
    "results = list(results)\n",
    "tests = pd.concat(results)\n",
    "tests[\"q\"] = multipletests(tests.p, method=\"fdr_bh\")[1]\n",
    "hybrid_sleep_signifs = tests[tests.q <= 0.05]\n",
    "hybrid_sleep_signifs"
   ]
  },
  {
   "cell_type": "markdown",
   "id": "7f979717-9f5d-4157-971c-3bb26fa9c9fb",
   "metadata": {
    "tags": []
   },
   "source": [
    "##### Sedentary Minutes ~ Metabolites + [covar]"
   ]
  },
  {
   "cell_type": "code",
   "execution_count": 36,
   "id": "148674bd-0f5a-4e98-8a10-54f8213dc74d",
   "metadata": {
    "collapsed": true,
    "jupyter": {
     "outputs_hidden": true
    },
    "tags": []
   },
   "outputs": [
    {
     "data": {
      "text/html": [
       "<pre style=\"white-space:pre;overflow-x:auto;line-height:normal;font-family:Menlo,'DejaVu Sans Mono',consolas,'Courier New',monospace\"></pre>\n"
      ],
      "text/plain": [
       "\u001b[?25l"
      ]
     },
     "metadata": {},
     "output_type": "display_data"
    },
    {
     "data": {
      "text/html": [
       "<pre style=\"white-space:pre;overflow-x:auto;line-height:normal;font-family:Menlo,'DejaVu Sans Mono',consolas,'Courier New',monospace\">\n",
       "</pre>\n"
      ],
      "text/plain": [
       "\n",
       "\u001b[?25h"
      ]
     },
     "metadata": {},
     "output_type": "display_data"
    },
    {
     "data": {
      "text/html": [
       "<div>\n",
       "<style scoped>\n",
       "    .dataframe tbody tr th:only-of-type {\n",
       "        vertical-align: middle;\n",
       "    }\n",
       "\n",
       "    .dataframe tbody tr th {\n",
       "        vertical-align: top;\n",
       "    }\n",
       "\n",
       "    .dataframe thead th {\n",
       "        text-align: right;\n",
       "    }\n",
       "</style>\n",
       "<table border=\"1\" class=\"dataframe\">\n",
       "  <thead>\n",
       "    <tr style=\"text-align: right;\">\n",
       "      <th></th>\n",
       "      <th>feature</th>\n",
       "      <th>beta</th>\n",
       "      <th>t_statistic</th>\n",
       "      <th>p</th>\n",
       "      <th>n</th>\n",
       "      <th>q</th>\n",
       "    </tr>\n",
       "  </thead>\n",
       "  <tbody>\n",
       "  </tbody>\n",
       "</table>\n",
       "</div>"
      ],
      "text/plain": [
       "Empty DataFrame\n",
       "Columns: [feature, beta, t_statistic, p, n, q]\n",
       "Index: []"
      ]
     },
     "execution_count": 36,
     "metadata": {},
     "output_type": "execute_result"
    }
   ],
   "source": [
    "# GENETIC\n",
    "def get_results(feature):\n",
    "    \n",
    "    \"\"\"Get a single association.\n",
    "    \n",
    "    As long as `args` and `df` are assigned this can be used on\n",
    "    any data set.\n",
    "    \"\"\"\n",
    "    formula = f\"{feature} ~ activities_minutesSedentary + C(sex) + age + BMI_CALC + PC1 + PC2 + PC3 + PC4 + PC5\"\n",
    "    fitted = ols(formula, data=df).fit()\n",
    "    return pd.DataFrame({\n",
    "        \"feature\": feature,\n",
    "        \"beta\": fitted.params[\"activities_minutesSedentary\"],\n",
    "        \"t_statistic\": fitted.tvalues[\"activities_minutesSedentary\"],\n",
    "        \"p\": fitted.pvalues[\"activities_minutesSedentary\"],\n",
    "        \"n\": fitted.nobs\n",
    "        }, index=[feature])\n",
    "\n",
    "args = gen_only_features\n",
    "df = mac_str\n",
    "results = map(get_results, track(args))\n",
    "results = list(results)\n",
    "tests = pd.concat(results)\n",
    "tests[\"q\"] = multipletests(tests.p, method=\"fdr_bh\")[1]\n",
    "gene_seden_signifs = tests[tests.q <= 0.05]\n",
    "gene_seden_signifs"
   ]
  },
  {
   "cell_type": "code",
   "execution_count": 37,
   "id": "ce56fce8-71ff-4d21-aa95-5d18e2426d81",
   "metadata": {
    "collapsed": true,
    "jupyter": {
     "outputs_hidden": true
    },
    "tags": []
   },
   "outputs": [
    {
     "data": {
      "text/html": [
       "<pre style=\"white-space:pre;overflow-x:auto;line-height:normal;font-family:Menlo,'DejaVu Sans Mono',consolas,'Courier New',monospace\"></pre>\n"
      ],
      "text/plain": [
       "\u001b[?25l"
      ]
     },
     "metadata": {},
     "output_type": "display_data"
    },
    {
     "data": {
      "text/html": [
       "<pre style=\"white-space:pre;overflow-x:auto;line-height:normal;font-family:Menlo,'DejaVu Sans Mono',consolas,'Courier New',monospace\">\n",
       "</pre>\n"
      ],
      "text/plain": [
       "\n",
       "\u001b[?25h"
      ]
     },
     "metadata": {},
     "output_type": "display_data"
    },
    {
     "data": {
      "text/html": [
       "<div>\n",
       "<style scoped>\n",
       "    .dataframe tbody tr th:only-of-type {\n",
       "        vertical-align: middle;\n",
       "    }\n",
       "\n",
       "    .dataframe tbody tr th {\n",
       "        vertical-align: top;\n",
       "    }\n",
       "\n",
       "    .dataframe thead th {\n",
       "        text-align: right;\n",
       "    }\n",
       "</style>\n",
       "<table border=\"1\" class=\"dataframe\">\n",
       "  <thead>\n",
       "    <tr style=\"text-align: right;\">\n",
       "      <th></th>\n",
       "      <th>feature</th>\n",
       "      <th>beta</th>\n",
       "      <th>t_statistic</th>\n",
       "      <th>p</th>\n",
       "      <th>n</th>\n",
       "      <th>q</th>\n",
       "    </tr>\n",
       "  </thead>\n",
       "  <tbody>\n",
       "  </tbody>\n",
       "</table>\n",
       "</div>"
      ],
      "text/plain": [
       "Empty DataFrame\n",
       "Columns: [feature, beta, t_statistic, p, n, q]\n",
       "Index: []"
      ]
     },
     "execution_count": 37,
     "metadata": {},
     "output_type": "execute_result"
    }
   ],
   "source": [
    "# MICROBE\n",
    "def get_results(feature):\n",
    "    \n",
    "    \"\"\"Get a single association.\n",
    "    \n",
    "    As long as `args` and `df` are assigned this can be used on\n",
    "    any data set.\n",
    "    \"\"\"\n",
    "    formula = f\"{feature} ~ activities_minutesSedentary + C(sex) + age + BMI_CALC + PC1 + PC2 + PC3 + PC4 + PC5\"\n",
    "    fitted = ols(formula, data=df).fit()\n",
    "    return pd.DataFrame({\n",
    "        \"feature\": feature,\n",
    "        \"beta\": fitted.params[\"activities_minutesSedentary\"],\n",
    "        \"t_statistic\": fitted.tvalues[\"activities_minutesSedentary\"],\n",
    "        \"p\": fitted.pvalues[\"activities_minutesSedentary\"],\n",
    "        \"n\": fitted.nobs\n",
    "        }, index=[feature])\n",
    "\n",
    "args = microbe_only_features\n",
    "df = mac_str\n",
    "results = map(get_results, track(args))\n",
    "results = list(results)\n",
    "tests = pd.concat(results)\n",
    "tests[\"q\"] = multipletests(tests.p, method=\"fdr_bh\")[1]\n",
    "microbe_seden_signifs = tests[tests.q <= 0.05]\n",
    "microbe_seden_signifs"
   ]
  },
  {
   "cell_type": "code",
   "execution_count": 38,
   "id": "7674ee0e-bb99-499f-93e5-36b623b348c2",
   "metadata": {
    "collapsed": true,
    "jupyter": {
     "outputs_hidden": true
    },
    "tags": []
   },
   "outputs": [
    {
     "data": {
      "text/html": [
       "<pre style=\"white-space:pre;overflow-x:auto;line-height:normal;font-family:Menlo,'DejaVu Sans Mono',consolas,'Courier New',monospace\"></pre>\n"
      ],
      "text/plain": [
       "\u001b[?25l"
      ]
     },
     "metadata": {},
     "output_type": "display_data"
    },
    {
     "data": {
      "text/html": [
       "<pre style=\"white-space:pre;overflow-x:auto;line-height:normal;font-family:Menlo,'DejaVu Sans Mono',consolas,'Courier New',monospace\">\n",
       "</pre>\n"
      ],
      "text/plain": [
       "\n",
       "\u001b[?25h"
      ]
     },
     "metadata": {},
     "output_type": "display_data"
    },
    {
     "data": {
      "text/html": [
       "<div>\n",
       "<style scoped>\n",
       "    .dataframe tbody tr th:only-of-type {\n",
       "        vertical-align: middle;\n",
       "    }\n",
       "\n",
       "    .dataframe tbody tr th {\n",
       "        vertical-align: top;\n",
       "    }\n",
       "\n",
       "    .dataframe thead th {\n",
       "        text-align: right;\n",
       "    }\n",
       "</style>\n",
       "<table border=\"1\" class=\"dataframe\">\n",
       "  <thead>\n",
       "    <tr style=\"text-align: right;\">\n",
       "      <th></th>\n",
       "      <th>feature</th>\n",
       "      <th>beta</th>\n",
       "      <th>t_statistic</th>\n",
       "      <th>p</th>\n",
       "      <th>n</th>\n",
       "      <th>q</th>\n",
       "    </tr>\n",
       "  </thead>\n",
       "  <tbody>\n",
       "    <tr>\n",
       "      <th>metabolite_100002784</th>\n",
       "      <td>metabolite_100002784</td>\n",
       "      <td>0.000445</td>\n",
       "      <td>3.814546</td>\n",
       "      <td>0.000142</td>\n",
       "      <td>1596.0</td>\n",
       "      <td>0.047033</td>\n",
       "    </tr>\n",
       "  </tbody>\n",
       "</table>\n",
       "</div>"
      ],
      "text/plain": [
       "                                   feature      beta  t_statistic         p  \\\n",
       "metabolite_100002784  metabolite_100002784  0.000445     3.814546  0.000142   \n",
       "\n",
       "                           n         q  \n",
       "metabolite_100002784  1596.0  0.047033  "
      ]
     },
     "execution_count": 38,
     "metadata": {},
     "output_type": "execute_result"
    }
   ],
   "source": [
    "# HYBRID\n",
    "def get_results(feature):\n",
    "    \n",
    "    \"\"\"Get a single association.\n",
    "    \n",
    "    As long as `args` and `df` are assigned this can be used on\n",
    "    any data set.\n",
    "    \"\"\"\n",
    "    formula = f\"{feature} ~ activities_minutesSedentary + C(sex) + age + BMI_CALC + PC1 + PC2 + PC3 + PC4 + PC5\"\n",
    "    fitted = ols(formula, data=df).fit()\n",
    "    return pd.DataFrame({\n",
    "        \"feature\": feature,\n",
    "        \"beta\": fitted.params[\"activities_minutesSedentary\"],\n",
    "        \"t_statistic\": fitted.tvalues[\"activities_minutesSedentary\"],\n",
    "        \"p\": fitted.pvalues[\"activities_minutesSedentary\"],\n",
    "        \"n\": fitted.nobs\n",
    "        }, index=[feature])\n",
    "\n",
    "args = hybrid_features\n",
    "df = mac_str\n",
    "results = map(get_results, track(args))\n",
    "results = list(results)\n",
    "tests = pd.concat(results)\n",
    "tests[\"q\"] = multipletests(tests.p, method=\"fdr_bh\")[1]\n",
    "hybrid_seden_signifs = tests[tests.q <= 0.05]\n",
    "hybrid_seden_signifs"
   ]
  }
 ],
 "metadata": {
  "kernelspec": {
   "display_name": "Python 3 (ipykernel)",
   "language": "python",
   "name": "python3"
  },
  "language_info": {
   "codemirror_mode": {
    "name": "ipython",
    "version": 3
   },
   "file_extension": ".py",
   "mimetype": "text/x-python",
   "name": "python",
   "nbconvert_exporter": "python",
   "pygments_lexer": "ipython3",
   "version": "3.11.5"
  }
 },
 "nbformat": 4,
 "nbformat_minor": 5
}
